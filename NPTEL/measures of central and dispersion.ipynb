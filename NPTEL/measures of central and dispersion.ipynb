{
 "cells": [
  {
   "cell_type": "code",
   "execution_count": 1,
   "id": "1c5b403a-07a0-4a60-8e0c-9515615a7996",
   "metadata": {},
   "outputs": [],
   "source": [
    "import numpy as np\n",
    "import pandas as pd"
   ]
  },
  {
   "cell_type": "code",
   "execution_count": 11,
   "id": "93dac93a-3f06-43b5-acb6-d162916e4eea",
   "metadata": {},
   "outputs": [
    {
     "name": "stdout",
     "output_type": "stream",
     "text": [
      "    S.No.  MTE (25)  Mini Project (25)  Total (50)  ETE (50)  Total\n",
      "0       1      5.00                 20       25.00      12.0  37.00\n",
      "1       2     11.05                 20       31.05      26.0  57.05\n",
      "2       3      8.10                 20       28.10      14.0  42.10\n",
      "3       4      6.00                 10       16.00      13.0  29.00\n",
      "4       5     11.35                 20       31.35      17.0  48.35\n",
      "..    ...       ...                ...         ...       ...    ...\n",
      "74     75     12.05                 10       22.05      20.0  42.05\n",
      "75     76     12.25                 10       22.25      28.0  50.25\n",
      "76     77      1.75                 10       11.75       NaN   0.00\n",
      "77     78      3.00                 10       13.00       NaN   0.00\n",
      "78     79      5.80                 10       15.80      12.0  27.80\n",
      "\n",
      "[79 rows x 6 columns]\n"
     ]
    }
   ],
   "source": [
    "\n",
    "table=pd.read_csv(r\"E:\\py program\\NPTEL\\IBM-313 Marks.csv\")\n",
    "print(table)"
   ]
  },
  {
   "cell_type": "markdown",
   "id": "9189def6-d515-4269-af8f-1c71ec0733f7",
   "metadata": {},
   "source": [
    "**MEAN**"
   ]
  },
  {
   "cell_type": "code",
   "execution_count": 12,
   "id": "c09ccd16-8bc4-425e-8026-1e18c60c7ad3",
   "metadata": {},
   "outputs": [
    {
     "data": {
      "text/plain": [
       "46.90632911392405"
      ]
     },
     "execution_count": 12,
     "metadata": {},
     "output_type": "execute_result"
    }
   ],
   "source": [
    "x=table['Total']\n",
    "np.mean(x)"
   ]
  },
  {
   "cell_type": "code",
   "execution_count": 15,
   "id": "c62b2a74-a0aa-4bde-8b98-6110204288dc",
   "metadata": {},
   "outputs": [
    {
     "data": {
      "text/plain": [
       "ModeResult(mode=0.0, count=2)"
      ]
     },
     "execution_count": 15,
     "metadata": {},
     "output_type": "execute_result"
    }
   ],
   "source": [
    "\n",
    "import scipy \n",
    "from scipy import stats\n",
    "stats.mode(x)"
   ]
  },
  {
   "cell_type": "code",
   "execution_count": 17,
   "id": "16befb10-102b-4ff9-9ee8-11c6930c0c63",
   "metadata": {},
   "outputs": [
    {
     "name": "stdout",
     "output_type": "stream",
     "text": [
      "3.0\n"
     ]
    }
   ],
   "source": [
    "a=np.array([1,2,3,4,5])\n",
    "p=np.percentile(a,50)\n",
    "print(p)"
   ]
  },
  {
   "cell_type": "code",
   "execution_count": 18,
   "id": "6672df1c-a798-4aee-a346-3babc30376a5",
   "metadata": {},
   "outputs": [
    {
     "name": "stdout",
     "output_type": "stream",
     "text": [
      "Ram\n",
      "65\n",
      "3.5\n"
     ]
    }
   ],
   "source": [
    "k=['Ram',65,3.5]\n",
    "for i in k:\n",
    "    print(i)"
   ]
  },
  {
   "cell_type": "code",
   "execution_count": 22,
   "id": "58379f12-3e9f-49f4-a4d7-1c69079a30a5",
   "metadata": {},
   "outputs": [
    {
     "name": "stdout",
     "output_type": "stream",
     "text": [
      "2\n",
      "4\n",
      "6\n",
      "8\n",
      "10\n",
      "12\n",
      "14\n",
      "16\n",
      "18\n"
     ]
    }
   ],
   "source": [
    "for i in range(2,20,2):\n",
    "    print(i)"
   ]
  },
  {
   "cell_type": "code",
   "execution_count": 23,
   "id": "d7ca95f3-13ca-4dd4-8447-991dc70106b2",
   "metadata": {},
   "outputs": [
    {
     "name": "stdout",
     "output_type": "stream",
     "text": [
      "2,4,6,8,10,12,14,16,18,"
     ]
    }
   ],
   "source": [
    "for i in range(2,20,2):\n",
    "    print(i, end=',')"
   ]
  },
  {
   "cell_type": "code",
   "execution_count": 33,
   "id": "b343e1ce-2f9f-4ad0-b345-f6d56521a355",
   "metadata": {},
   "outputs": [
    {
     "name": "stdin",
     "output_type": "stream",
     "text": [
      "enter the name : harshal\n"
     ]
    },
    {
     "name": "stdout",
     "output_type": "stream",
     "text": [
      "Hi,harshal Wishing you a very good morning\n"
     ]
    }
   ],
   "source": [
    "def greet(name):\n",
    "    print(f\"Hi,{name} Wishing you a very good morning\")\n",
    "    \n",
    "d=input(\"enter the name :\")\n",
    "greet(d)"
   ]
  },
  {
   "cell_type": "code",
   "execution_count": 42,
   "id": "19618ceb-5af3-4d34-9c88-ed11b74d008c",
   "metadata": {},
   "outputs": [
    {
     "data": {
      "text/plain": [
       "(323, 3342)"
      ]
     },
     "execution_count": 42,
     "metadata": {},
     "output_type": "execute_result"
    }
   ],
   "source": [
    "data=[1134,3224,2323,534,712,2224,534,875,3342,567,323,1134,735]\n",
    "min(data),max(data)"
   ]
  },
  {
   "cell_type": "code",
   "execution_count": 43,
   "id": "9a627f6e-a3f1-4fca-91af-9e334bae0cfa",
   "metadata": {},
   "outputs": [
    {
     "data": {
      "text/plain": [
       "(323, 3342)"
      ]
     },
     "execution_count": 43,
     "metadata": {},
     "output_type": "execute_result"
    }
   ],
   "source": [
    "def min_max(data):\n",
    "    max_=max(data)\n",
    "    min_=min(data)\n",
    "    return(min_,max_)\n",
    "min_max(data)"
   ]
  },
  {
   "cell_type": "code",
   "execution_count": 45,
   "id": "c30c6e4e-243d-4109-b1da-0914cf5c7fd9",
   "metadata": {},
   "outputs": [
    {
     "data": {
      "text/plain": [
       "3019"
      ]
     },
     "execution_count": 45,
     "metadata": {},
     "output_type": "execute_result"
    }
   ],
   "source": [
    "def rangef(data):\n",
    "    max_=max(data)\n",
    "    min_=min(data)\n",
    "    return(max_-min_)\n",
    "rangef(data)"
   ]
  },
  {
   "cell_type": "code",
   "execution_count": 52,
   "id": "570d24c3-2907-4176-94f6-17f7ffae325d",
   "metadata": {},
   "outputs": [
    {
     "name": "stdout",
     "output_type": "stream",
     "text": [
      " first percentile:567.0 \n",
      " second percentile: 875.0 \n",
      " third percentile: 2224.0\n",
      "Inter quartile range :1657.0\n"
     ]
    }
   ],
   "source": [
    "def quartiles(data):\n",
    "    first_perc=np.percentile(data,25)\n",
    "    second_perc=np.percentile(data,50)\n",
    "    third_perc=np.percentile(data,75)\n",
    "    c=print(f\" first percentile:{first_perc} \\n second percentile: {second_perc} \\n third percentile: {third_perc}\")\n",
    "    return(c)\n",
    "    \n",
    "    \n",
    "quartiles(data)\n"
   ]
  },
  {
   "cell_type": "code",
   "execution_count": 54,
   "id": "0700608a-cf3e-4470-8817-34169bb439bf",
   "metadata": {},
   "outputs": [
    {
     "name": "stdout",
     "output_type": "stream",
     "text": [
      "Inter quartile range :1657.0\n"
     ]
    }
   ],
   "source": [
    "def intqua_range(data):\n",
    "    first_perc=np.percentile(data,25)\n",
    "    third_perc=np.percentile(data,75)\n",
    "    q=print(f\"Inter quartile range :{third_perc-first_perc}\")\n",
    "    return(q)\n",
    "intqua_range(data)"
   ]
  },
  {
   "cell_type": "markdown",
   "id": "0be85a2f-8144-482f-8208-1b79dc9ee21f",
   "metadata": {},
   "source": [
    "***Population Standard Deviation***"
   ]
  },
  {
   "cell_type": "code",
   "execution_count": 55,
   "id": "6f50ceb1-8daa-439a-8329-f99857842202",
   "metadata": {},
   "outputs": [
    {
     "data": {
      "text/plain": [
       "16.210536046955966"
      ]
     },
     "execution_count": 55,
     "metadata": {},
     "output_type": "execute_result"
    }
   ],
   "source": [
    "import statistics\n",
    "statistics.pstdev(x)"
   ]
  },
  {
   "cell_type": "markdown",
   "id": "606eda9a-0415-4d8e-9bd9-d1d036b3b1fb",
   "metadata": {},
   "source": [
    "***Sample Standard deviation***"
   ]
  },
  {
   "cell_type": "code",
   "execution_count": 56,
   "id": "8004553e-5a6f-426a-854e-a0eedb648e66",
   "metadata": {},
   "outputs": [
    {
     "data": {
      "text/plain": [
       "16.31411880088133"
      ]
     },
     "execution_count": 56,
     "metadata": {},
     "output_type": "execute_result"
    }
   ],
   "source": [
    "statistics.stdev(x)"
   ]
  },
  {
   "cell_type": "markdown",
   "id": "6f6ad552-f77d-43be-bd24-9b0b7f1ece97",
   "metadata": {},
   "source": [
    "****Variance****"
   ]
  },
  {
   "cell_type": "code",
   "execution_count": 57,
   "id": "638900ed-7656-47bf-9336-3adabe96eca6",
   "metadata": {},
   "outputs": [
    {
     "data": {
      "text/plain": [
       "262.7814789296587"
      ]
     },
     "execution_count": 57,
     "metadata": {},
     "output_type": "execute_result"
    }
   ],
   "source": [
    "np.var(x)"
   ]
  },
  {
   "cell_type": "markdown",
   "id": "c2d642a7-a6b4-432f-a17e-3ccdc1f33395",
   "metadata": {},
   "source": [
    "***Skewness***"
   ]
  },
  {
   "cell_type": "code",
   "execution_count": 58,
   "id": "228adef1-7daf-4431-bb0d-3d9df18bece4",
   "metadata": {},
   "outputs": [
    {
     "data": {
      "text/plain": [
       "0.10226407464884266"
      ]
     },
     "execution_count": 58,
     "metadata": {},
     "output_type": "execute_result"
    }
   ],
   "source": [
    "from scipy.stats import skew\n",
    "\n",
    "skew(x)"
   ]
  },
  {
   "cell_type": "code",
   "execution_count": 62,
   "id": "04a880ce-1b0a-429a-835f-376b40d805de",
   "metadata": {},
   "outputs": [
    {
     "data": {
      "image/png": "[encoded data removed]",
      "text/plain": [
       "<Figure size 640x480 with 1 Axes>"
      ]
     },
     "metadata": {},
     "output_type": "display_data"
    }
   ],
   "source": [
    "import matplotlib.pyplot as plt\n",
    "plt.boxplot(x,sym='*')\n",
    "plt.show()"
   ]
  },
  {
   "cell_type": "code",
   "execution_count": null,
   "id": "89db63a4-abca-4efd-bc94-d97b698802ef",
   "metadata": {},
   "outputs": [],
   "source": []
  },
  {
   "cell_type": "code",
   "execution_count": null,
   "id": "8f1b5abd-44d1-4b31-9db1-568c4f0cc68a",
   "metadata": {},
   "outputs": [],
   "source": []
  },
  {
   "cell_type": "code",
   "execution_count": null,
   "id": "ad5af305-a0c8-4692-84b1-25b4d265a973",
   "metadata": {},
   "outputs": [],
   "source": []
  },
  {
   "cell_type": "code",
   "execution_count": null,
   "id": "6939aebc-794d-4bf9-b724-a247c0d9e91f",
   "metadata": {},
   "outputs": [],
   "source": []
  },
  {
   "cell_type": "code",
   "execution_count": null,
   "id": "d82ba92f-3178-4bdd-b3d6-022ae38fb12a",
   "metadata": {},
   "outputs": [],
   "source": []
  },
  {
   "cell_type": "code",
   "execution_count": null,
   "id": "67114625-0619-47d3-8db4-f1033ae60fc4",
   "metadata": {},
   "outputs": [],
   "source": []
  },
  {
   "cell_type": "code",
   "execution_count": null,
   "id": "fdfaa1f9-9c0f-431e-b9f2-aeddb6e0677e",
   "metadata": {},
   "outputs": [],
   "source": []
  },
  {
   "cell_type": "code",
   "execution_count": null,
   "id": "296ecb8a-3617-44cd-9a49-5af33a428eeb",
   "metadata": {},
   "outputs": [],
   "source": []
  },
  {
   "cell_type": "code",
   "execution_count": null,
   "id": "061901b1-c3b0-41fa-b6ce-bc1362c43cf9",
   "metadata": {},
   "outputs": [],
   "source": []
  },
  {
   "cell_type": "code",
   "execution_count": null,
   "id": "23dcaee2-5424-4f15-9e87-ed8c267e8651",
   "metadata": {},
   "outputs": [],
   "source": []
  },
  {
   "cell_type": "code",
   "execution_count": null,
   "id": "4f6d1c33-685d-4e0a-b8eb-8b306a1ad1f0",
   "metadata": {},
   "outputs": [],
   "source": []
  },
  {
   "cell_type": "code",
   "execution_count": null,
   "id": "a11bf5d9-74b5-4ecf-ac27-3b7e5775f056",
   "metadata": {},
   "outputs": [],
   "source": []
  },
  {
   "cell_type": "code",
   "execution_count": null,
   "id": "0ebe44da-9b64-4f4c-b0b2-9d2bb996f000",
   "metadata": {},
   "outputs": [],
   "source": []
  },
  {
   "cell_type": "code",
   "execution_count": null,
   "id": "769b7b2e-9a28-4836-a3d1-015179fb0c79",
   "metadata": {},
   "outputs": [],
   "source": []
  },
  {
   "cell_type": "code",
   "execution_count": null,
   "id": "64fbf590-4d92-499b-98f8-7ef8e0021942",
   "metadata": {},
   "outputs": [],
   "source": []
  },
  {
   "cell_type": "code",
   "execution_count": null,
   "id": "0582533c-c3e7-4b9b-a6a2-ba94c297c90c",
   "metadata": {},
   "outputs": [],
   "source": []
  },
  {
   "cell_type": "code",
   "execution_count": null,
   "id": "573563c5-831c-4021-9bb8-7fd58583c270",
   "metadata": {},
   "outputs": [],
   "source": []
  },
  {
   "cell_type": "code",
   "execution_count": null,
   "id": "6666fc33-26ce-468b-af7b-b2ae916c753e",
   "metadata": {},
   "outputs": [],
   "source": []
  },
  {
   "cell_type": "code",
   "execution_count": null,
   "id": "6528c97a-2dc5-4189-854f-3c8736ee04ba",
   "metadata": {},
   "outputs": [],
   "source": []
  },
  {
   "cell_type": "code",
   "execution_count": null,
   "id": "084cc1c3-aebe-47cf-84f4-dfa1664d43c2",
   "metadata": {},
   "outputs": [],
   "source": []
  }
 ],
 "metadata": {
  "kernelspec": {
   "display_name": "Python 3 (ipykernel)",
   "language": "python",
   "name": "python3"
  },
  "language_info": {
   "codemirror_mode": {
    "name": "ipython",
    "version": 3
   },
   "file_extension": ".py",
   "mimetype": "text/x-python",
   "name": "python",
   "nbconvert_exporter": "python",
   "pygments_lexer": "ipython3",
   "version": "3.12.1"
  }
 },
 "nbformat": 4,
 "nbformat_minor": 5
}
