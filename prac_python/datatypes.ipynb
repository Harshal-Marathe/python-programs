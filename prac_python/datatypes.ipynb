{
 "cells": [
  {
   "cell_type": "markdown",
   "id": "5da16b8a-c29b-4053-b6f8-f3a434f0b64c",
   "metadata": {},
   "source": [
    "create a python program that accepts user input for a list of numbers covert the input to a tuple calculate the sum of the numbers store the sum in a dictionary with the original list as the key and finally print the dictionay along with the unique elements of the list in a sorted set"
   ]
  },
  {
   "cell_type": "code",
   "execution_count": 2,
   "id": "9384c329-3a9c-4281-a6c6-2ebe308b8d31",
   "metadata": {},
   "outputs": [
    {
     "name": "stdin",
     "output_type": "stream",
     "text": [
      "Enter the list of numbers 5,7,8,6,4,5\n"
     ]
    },
    {
     "name": "stdout",
     "output_type": "stream",
     "text": [
      "List:[5, 7, 8, 6, 4, 5]\n",
      "Tuple:(5, 7, 8, 6, 4, 5)\n",
      "sum of the tuple:35\n",
      "Dictionary:{(5, 7, 8, 6, 4, 5): 35}\n"
     ]
    }
   ],
   "source": [
    "userinput=input(\"Enter the list of numbers\")\n",
    "list3=[int(i) for  i in userinput.split(sep=\",\")]\n",
    "print(f\"List:{list3}\")\n",
    "tup3=tuple(list3)\n",
    "print(f\"Tuple:{tup3}\")\n",
    "print(f\"sum of the tuple:{sum(tup3)}\")\n",
    "dict3={tup3:sum(list3)}\n",
    "print(f\"Dictionary:{dict3}\")"
   ]
  },
  {
   "cell_type": "markdown",
   "id": "6190106c-050a-4871-a758-5765462fe388",
   "metadata": {},
   "source": [
    "#write a python program that takes a list of numbers as input and returns a new list containing onl the even numbers"
   ]
  },
  {
   "cell_type": "code",
   "execution_count": 3,
   "id": "bbafcc43-dc2e-4c6a-8c4e-d694db5f5284",
   "metadata": {},
   "outputs": [
    {
     "name": "stdin",
     "output_type": "stream",
     "text": [
      "Enter the list of numbers 2,5,7,9,4,3,6,4,7,9\n"
     ]
    },
    {
     "name": "stdout",
     "output_type": "stream",
     "text": [
      "List:[2, 5, 7, 9, 4, 3, 6, 4, 7, 9]\n"
     ]
    },
    {
     "data": {
      "text/plain": [
       "[2, 4, 6, 4]"
      ]
     },
     "execution_count": 3,
     "metadata": {},
     "output_type": "execute_result"
    }
   ],
   "source": [
    "userinput=input(\"Enter the list of numbers\")\n",
    "list4=[int(i) for  i in userinput.split(sep=\",\")]\n",
    "print(f\"List:{list4}\")\n",
    "temp_list=[]\n",
    "for i in list4:\n",
    "    if i%2==0:\n",
    "        temp_list.append(i)\n",
    "temp_list"
   ]
  },
  {
   "cell_type": "markdown",
   "id": "920e8743-2b6d-400c-beaf-90bd2aab94b1",
   "metadata": {},
   "source": []
  },
  {
   "cell_type": "code",
   "execution_count": null,
   "id": "efc20aa6-f486-4eed-afee-ccefa57092e0",
   "metadata": {},
   "outputs": [],
   "source": []
  }
 ],
 "metadata": {
  "kernelspec": {
   "display_name": "Python 3 (ipykernel)",
   "language": "python",
   "name": "python3"
  },
  "language_info": {
   "codemirror_mode": {
    "name": "ipython",
    "version": 3
   },
   "file_extension": ".py",
   "mimetype": "text/x-python",
   "name": "python",
   "nbconvert_exporter": "python",
   "pygments_lexer": "ipython3",
   "version": "3.12.1"
  }
 },
 "nbformat": 4,
 "nbformat_minor": 5
}
