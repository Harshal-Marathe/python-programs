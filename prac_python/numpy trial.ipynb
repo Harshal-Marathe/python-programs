{
 "cells": [
  {
   "cell_type": "code",
   "execution_count": 2,
   "id": "117ecd63-4669-4f3b-97d6-9945259bdfc0",
   "metadata": {},
   "outputs": [],
   "source": [
    "import numpy as np"
   ]
  },
  {
   "cell_type": "code",
   "execution_count": null,
   "id": "cfa949e5-1c6f-42d2-b043-f13df2daadfa",
   "metadata": {},
   "outputs": [],
   "source": []
  },
  {
   "cell_type": "code",
   "execution_count": null,
   "id": "1cd0b94f-ff52-4f98-a1a8-3ce65d4346c7",
   "metadata": {},
   "outputs": [],
   "source": []
  },
  {
   "cell_type": "code",
   "execution_count": 14,
   "id": "a1ef4986-c5c1-4985-8eab-0cdd8f30e62b",
   "metadata": {},
   "outputs": [
    {
     "name": "stdout",
     "output_type": "stream",
     "text": [
      "a= [1 2 3]\n",
      "b= [[1 2 3]\n",
      " [4 5 6]]\n",
      "c= [[[1.5 2.  3. ]\n",
      "  [4.  5.  6. ]]\n",
      "\n",
      " [[3.  2.  1. ]\n",
      "  [4.  5.  6. ]]]\n"
     ]
    }
   ],
   "source": [
    "a = np.array([1,2,3]) ;print(f\"a=\",a)\n",
    "b = np.array([(1,2,3), (4,5,6)], dtype = int); print(f\"b=\",b)\n",
    "c = np.array([[(1.5,2,3), (4,5,6)], [(3,2,1), (4,5,6)]], dtype = float) ; print(f\"c=\",c)"
   ]
  },
  {
   "cell_type": "code",
   "execution_count": 16,
   "id": "2a9997a0-ebd8-4cf2-8147-c47292d132da",
   "metadata": {},
   "outputs": [
    {
     "data": {
      "text/plain": [
       "array([[0., 0., 0., 0.],\n",
       "       [0., 0., 0., 0.],\n",
       "       [0., 0., 0., 0.]])"
      ]
     },
     "execution_count": 16,
     "metadata": {},
     "output_type": "execute_result"
    }
   ],
   "source": [
    "np.zeros([3,4])"
   ]
  },
  {
   "cell_type": "code",
   "execution_count": 17,
   "id": "ed1d50a0-a024-4047-89f2-28fa8da3905b",
   "metadata": {},
   "outputs": [
    {
     "data": {
      "text/plain": [
       "array([[1., 1., 1., 1.],\n",
       "       [1., 1., 1., 1.],\n",
       "       [1., 1., 1., 1.]])"
      ]
     },
     "execution_count": 17,
     "metadata": {},
     "output_type": "execute_result"
    }
   ],
   "source": [
    "np.ones([3,4])"
   ]
  },
  {
   "cell_type": "code",
   "execution_count": 18,
   "id": "f8151af7-f53d-4693-9a5f-db8bfd44b09d",
   "metadata": {},
   "outputs": [
    {
     "data": {
      "text/plain": [
       "array([[[1, 1, 1, 1],\n",
       "        [1, 1, 1, 1],\n",
       "        [1, 1, 1, 1]],\n",
       "\n",
       "       [[1, 1, 1, 1],\n",
       "        [1, 1, 1, 1],\n",
       "        [1, 1, 1, 1]]], dtype=int16)"
      ]
     },
     "execution_count": 18,
     "metadata": {},
     "output_type": "execute_result"
    }
   ],
   "source": [
    " np.ones((2,3,4),dtype=np.int16)"
   ]
  },
  {
   "cell_type": "code",
   "execution_count": 19,
   "id": "2ef53350-e7c9-43f6-946e-2b3b52784cb0",
   "metadata": {},
   "outputs": [
    {
     "data": {
      "text/plain": [
       "array([1, 3, 5, 7, 9])"
      ]
     },
     "execution_count": 19,
     "metadata": {},
     "output_type": "execute_result"
    }
   ],
   "source": [
    "np.arange(1,10,2)"
   ]
  },
  {
   "cell_type": "code",
   "execution_count": 20,
   "id": "6095cdd3-48b1-449b-a34f-2e603f16c61a",
   "metadata": {},
   "outputs": [
    {
     "data": {
      "text/plain": [
       "array([[7, 7],\n",
       "       [7, 7]])"
      ]
     },
     "execution_count": 20,
     "metadata": {},
     "output_type": "execute_result"
    }
   ],
   "source": [
    " np.full((2,2),7)"
   ]
  },
  {
   "cell_type": "code",
   "execution_count": 24,
   "id": "81133943-552a-4d02-9424-73b2ce845424",
   "metadata": {},
   "outputs": [
    {
     "data": {
      "text/plain": [
       "(array([ 1.,  4.,  7., 10.]), 3.0)"
      ]
     },
     "execution_count": 24,
     "metadata": {},
     "output_type": "execute_result"
    }
   ],
   "source": [
    "np.linspace(1,10,4,retstep =True)"
   ]
  },
  {
   "cell_type": "code",
   "execution_count": 25,
   "id": "59894e67-80a9-4fa4-9380-a98c4724d40f",
   "metadata": {},
   "outputs": [
    {
     "data": {
      "text/plain": [
       "array([[1., 0.],\n",
       "       [0., 1.]])"
      ]
     },
     "execution_count": 25,
     "metadata": {},
     "output_type": "execute_result"
    }
   ],
   "source": [
    "np.eye(2)"
   ]
  },
  {
   "cell_type": "code",
   "execution_count": 26,
   "id": "d9c147bb-6228-4f67-9bc4-7e2cb1d7f086",
   "metadata": {},
   "outputs": [
    {
     "data": {
      "text/plain": [
       "array([[0.31202802, 0.07206415],\n",
       "       [0.18460476, 0.81285049]])"
      ]
     },
     "execution_count": 26,
     "metadata": {},
     "output_type": "execute_result"
    }
   ],
   "source": [
    " np.random.random((2,2))"
   ]
  },
  {
   "cell_type": "code",
   "execution_count": 38,
   "id": "696fdaf1-0d81-4e8f-a06b-e885b989be22",
   "metadata": {},
   "outputs": [
    {
     "data": {
      "text/plain": [
       "array([2, 2, 4, 3, 4, 4, 0, 1, 3, 2, 1, 1, 1, 4, 3, 3, 2, 2, 1, 1, 1, 1,\n",
       "       2, 3, 2, 1, 2, 4, 0, 1, 0, 2, 2, 4, 1, 3, 3, 1, 4, 3, 4, 1, 4, 2,\n",
       "       5, 2, 3, 2, 1, 3, 2, 1, 1, 3, 2, 1, 0, 3, 1, 1, 2, 2, 1, 1, 3, 1,\n",
       "       2, 3, 1, 4, 1, 0, 2, 1, 7, 2, 0, 3, 2, 1, 1, 2, 3, 4, 3, 0, 0, 2,\n",
       "       0, 0, 0, 2, 3, 3, 2, 3, 1, 3, 1, 4])"
      ]
     },
     "execution_count": 38,
     "metadata": {},
     "output_type": "execute_result"
    }
   ],
   "source": [
    "np.random.poisson(2,100)"
   ]
  },
  {
   "cell_type": "code",
   "execution_count": 36,
   "id": "e5c570ca-63fb-4ead-8d6b-f73b9bc5ce9d",
   "metadata": {},
   "outputs": [
    {
     "name": "stdout",
     "output_type": "stream",
     "text": [
      "[[ 87.23286213 111.56071328  89.8723197   94.84452953]\n",
      " [107.96870935  93.12634096  94.44025074  87.85641985]\n",
      " [105.85121502 108.50927546  86.62203063 105.38871584]]\n"
     ]
    }
   ],
   "source": [
    "mu, sigma = 100, 10 # mean and standard deviation\n",
    "s = np.random.normal(mu, sigma, (3,4))\n",
    "print(s)"
   ]
  },
  {
   "cell_type": "code",
   "execution_count": 39,
   "id": "2a45842d-d222-461b-8f5f-e3837563a4a8",
   "metadata": {},
   "outputs": [
    {
     "name": "stdout",
     "output_type": "stream",
     "text": [
      "[102.64116037 122.73345021  99.39674886  94.90189518 108.85688177\n",
      " 107.23766482  89.64313427 103.73218835  90.40104088  87.80469584\n",
      "  86.20125207  89.64563638  94.98784653  91.50719299  94.9057089\n",
      " 102.16231596  78.71273185 104.91142339 102.42363437 104.44495939\n",
      " 102.03047257 106.13095275  80.4731517   85.90905553  93.59536602\n",
      "  95.6162339   96.83839243 112.01562659 101.42150644 107.22032555\n",
      "  82.38189084  96.4412745  101.23591845 105.09990342 106.85683462\n",
      "  94.14054245 103.2740522  114.11030218  89.85627599 103.21039052\n",
      " 112.92599609 112.37613813  96.74107518  94.36716732  94.91354093\n",
      "  91.30698454  98.3815779  101.94923867 109.59738188  88.87417567\n",
      " 100.16411578 100.76653931  99.56708325  96.48130233  95.59133737\n",
      "  91.16596085 107.21855708 104.82001326 124.13300053  96.05510161\n",
      " 107.24838265 107.34512377  99.64523647  90.74936401  90.02485989\n",
      "  92.89584808 112.08368486 102.00916535  99.35555726  86.10799682\n",
      "  86.66419628  98.18996393 108.87885249  88.46284689 101.81731967\n",
      "  98.09801456  85.1324214  106.8621394   91.37458645  93.53655873\n",
      "  99.53392497  99.64498544  99.30018168 101.66412196 112.20504266\n",
      "  89.02099908  95.8851993   97.98461425 132.90685913  91.68536981\n",
      "  98.76659772 102.71151401  86.36144861 105.50987606  94.45398231\n",
      " 100.3504224   93.45844888 103.32233241  95.90646542 110.19511489]\n"
     ]
    }
   ],
   "source": [
    "mu, sigma = 100, 10 # mean and standard deviation\n",
    "s = np.random.normal(mu, sigma,100)\n",
    "print(s)"
   ]
  },
  {
   "cell_type": "code",
   "execution_count": 42,
   "id": "809c88cd-2b30-439f-97b2-6584839c2844",
   "metadata": {},
   "outputs": [
    {
     "name": "stdout",
     "output_type": "stream",
     "text": [
      "[ 3.33333333  6.66666667 10.        ]\n"
     ]
    }
   ],
   "source": [
    "#Return a new array of given shape and type, without initializing entries\n",
    "r= np.empty(3,2) \n",
    "print(r)"
   ]
  },
  {
   "cell_type": "code",
   "execution_count": 44,
   "id": "f56a1aed-a2ac-4559-b7e2-9c1cd5deafe3",
   "metadata": {},
   "outputs": [
    {
     "name": "stdout",
     "output_type": "stream",
     "text": [
      "addition  a+b=[ 9  8 10]\n"
     ]
    }
   ],
   "source": [
    "a = np.array([1,2,3])\n",
    "b = np.array([8,6,7])\n",
    "print(f\"addition  a+b={a+b}\")\n",
    "np.add(a,b)"
   ]
  },
  {
   "cell_type": "code",
   "execution_count": 45,
   "id": "789f7eef-fc5e-4ab8-9c3e-d7e408bb0cd2",
   "metadata": {},
   "outputs": [
    {
     "data": {
      "text/plain": [
       "array([ 9,  8, 10])"
      ]
     },
     "execution_count": 45,
     "metadata": {},
     "output_type": "execute_result"
    }
   ],
   "source": [
    "np."
   ]
  },
  {
   "cell_type": "code",
   "execution_count": 48,
   "id": "ee77b578-f04f-4659-b6d7-3be9eba498fb",
   "metadata": {},
   "outputs": [
    {
     "name": "stdout",
     "output_type": "stream",
     "text": [
      "Requirement already satisfied: jupyter_contrib_nbextensions in c:\\python123\\lib\\site-packages (0.7.0)\n",
      "Requirement already satisfied: ipython-genutils in c:\\python123\\lib\\site-packages (from jupyter_contrib_nbextensions) (0.2.0)\n",
      "Requirement already satisfied: jupyter-contrib-core>=0.3.3 in c:\\python123\\lib\\site-packages (from jupyter_contrib_nbextensions) (0.4.2)\n",
      "Requirement already satisfied: jupyter-core in c:\\python123\\lib\\site-packages (from jupyter_contrib_nbextensions) (5.7.1)\n",
      "Requirement already satisfied: jupyter-highlight-selected-word>=0.1.1 in c:\\python123\\lib\\site-packages (from jupyter_contrib_nbextensions) (0.2.0)\n",
      "Requirement already satisfied: jupyter-nbextensions-configurator>=0.4.0 in c:\\python123\\lib\\site-packages (from jupyter_contrib_nbextensions) (0.6.3)\n",
      "Requirement already satisfied: nbconvert>=6.0 in c:\\python123\\lib\\site-packages (from jupyter_contrib_nbextensions) (7.14.2)\n",
      "Requirement already satisfied: notebook>=6.0 in c:\\python123\\lib\\site-packages (from jupyter_contrib_nbextensions) (7.0.7)\n",
      "Requirement already satisfied: tornado in c:\\python123\\lib\\site-packages (from jupyter_contrib_nbextensions) (6.4)\n",
      "Requirement already satisfied: traitlets>=4.1 in c:\\python123\\lib\\site-packages (from jupyter_contrib_nbextensions) (5.14.1)\n",
      "Requirement already satisfied: lxml in c:\\python123\\lib\\site-packages (from jupyter_contrib_nbextensions) (5.1.0)\n",
      "Requirement already satisfied: setuptools in c:\\python123\\lib\\site-packages (from jupyter-contrib-core>=0.3.3->jupyter_contrib_nbextensions) (69.0.3)\n",
      "Requirement already satisfied: pyyaml in c:\\python123\\lib\\site-packages (from jupyter-nbextensions-configurator>=0.4.0->jupyter_contrib_nbextensions) (6.0.1)\n",
      "Requirement already satisfied: beautifulsoup4 in c:\\python123\\lib\\site-packages (from nbconvert>=6.0->jupyter_contrib_nbextensions) (4.12.2)\n",
      "Requirement already satisfied: bleach!=5.0.0 in c:\\python123\\lib\\site-packages (from nbconvert>=6.0->jupyter_contrib_nbextensions) (6.1.0)\n",
      "Requirement already satisfied: defusedxml in c:\\python123\\lib\\site-packages (from nbconvert>=6.0->jupyter_contrib_nbextensions) (0.7.1)\n",
      "Requirement already satisfied: jinja2>=3.0 in c:\\python123\\lib\\site-packages (from nbconvert>=6.0->jupyter_contrib_nbextensions) (3.1.3)\n",
      "Requirement already satisfied: jupyterlab-pygments in c:\\python123\\lib\\site-packages (from nbconvert>=6.0->jupyter_contrib_nbextensions) (0.3.0)\n",
      "Requirement already satisfied: markupsafe>=2.0 in c:\\python123\\lib\\site-packages (from nbconvert>=6.0->jupyter_contrib_nbextensions) (2.1.3)\n",
      "Requirement already satisfied: mistune<4,>=2.0.3 in c:\\python123\\lib\\site-packages (from nbconvert>=6.0->jupyter_contrib_nbextensions) (3.0.2)\n",
      "Requirement already satisfied: nbclient>=0.5.0 in c:\\python123\\lib\\site-packages (from nbconvert>=6.0->jupyter_contrib_nbextensions) (0.9.0)\n",
      "Requirement already satisfied: nbformat>=5.7 in c:\\python123\\lib\\site-packages (from nbconvert>=6.0->jupyter_contrib_nbextensions) (5.9.2)\n",
      "Requirement already satisfied: packaging in c:\\python123\\lib\\site-packages (from nbconvert>=6.0->jupyter_contrib_nbextensions) (23.2)\n",
      "Requirement already satisfied: pandocfilters>=1.4.1 in c:\\python123\\lib\\site-packages (from nbconvert>=6.0->jupyter_contrib_nbextensions) (1.5.0)\n",
      "Requirement already satisfied: pygments>=2.4.1 in c:\\python123\\lib\\site-packages (from nbconvert>=6.0->jupyter_contrib_nbextensions) (2.17.2)\n",
      "Requirement already satisfied: tinycss2 in c:\\python123\\lib\\site-packages (from nbconvert>=6.0->jupyter_contrib_nbextensions) (1.2.1)\n",
      "Requirement already satisfied: platformdirs>=2.5 in c:\\python123\\lib\\site-packages (from jupyter-core->jupyter_contrib_nbextensions) (4.1.0)\n",
      "Requirement already satisfied: pywin32>=300 in c:\\python123\\lib\\site-packages (from jupyter-core->jupyter_contrib_nbextensions) (306)\n",
      "Requirement already satisfied: jupyter-server<3,>=2.4.0 in c:\\python123\\lib\\site-packages (from notebook>=6.0->jupyter_contrib_nbextensions) (2.12.5)\n",
      "Requirement already satisfied: jupyterlab-server<3,>=2.22.1 in c:\\python123\\lib\\site-packages (from notebook>=6.0->jupyter_contrib_nbextensions) (2.25.2)\n",
      "Requirement already satisfied: jupyterlab<5,>=4.0.2 in c:\\python123\\lib\\site-packages (from notebook>=6.0->jupyter_contrib_nbextensions) (4.0.10)\n",
      "Requirement already satisfied: notebook-shim<0.3,>=0.2 in c:\\python123\\lib\\site-packages (from notebook>=6.0->jupyter_contrib_nbextensions) (0.2.3)\n",
      "Requirement already satisfied: six>=1.9.0 in c:\\python123\\lib\\site-packages (from bleach!=5.0.0->nbconvert>=6.0->jupyter_contrib_nbextensions) (1.16.0)\n",
      "Requirement already satisfied: webencodings in c:\\python123\\lib\\site-packages (from bleach!=5.0.0->nbconvert>=6.0->jupyter_contrib_nbextensions) (0.5.1)\n",
      "Requirement already satisfied: anyio>=3.1.0 in c:\\python123\\lib\\site-packages (from jupyter-server<3,>=2.4.0->notebook>=6.0->jupyter_contrib_nbextensions) (4.2.0)\n",
      "Requirement already satisfied: argon2-cffi in c:\\python123\\lib\\site-packages (from jupyter-server<3,>=2.4.0->notebook>=6.0->jupyter_contrib_nbextensions) (23.1.0)\n",
      "Requirement already satisfied: jupyter-client>=7.4.4 in c:\\python123\\lib\\site-packages (from jupyter-server<3,>=2.4.0->notebook>=6.0->jupyter_contrib_nbextensions) (8.6.0)\n",
      "Requirement already satisfied: jupyter-events>=0.9.0 in c:\\python123\\lib\\site-packages (from jupyter-server<3,>=2.4.0->notebook>=6.0->jupyter_contrib_nbextensions) (0.9.0)\n",
      "Requirement already satisfied: jupyter-server-terminals in c:\\python123\\lib\\site-packages (from jupyter-server<3,>=2.4.0->notebook>=6.0->jupyter_contrib_nbextensions) (0.5.1)\n",
      "Requirement already satisfied: overrides in c:\\python123\\lib\\site-packages (from jupyter-server<3,>=2.4.0->notebook>=6.0->jupyter_contrib_nbextensions) (7.4.0)\n",
      "Requirement already satisfied: prometheus-client in c:\\python123\\lib\\site-packages (from jupyter-server<3,>=2.4.0->notebook>=6.0->jupyter_contrib_nbextensions) (0.19.0)\n",
      "Requirement already satisfied: pywinpty in c:\\python123\\lib\\site-packages (from jupyter-server<3,>=2.4.0->notebook>=6.0->jupyter_contrib_nbextensions) (2.0.12)\n",
      "Requirement already satisfied: pyzmq>=24 in c:\\python123\\lib\\site-packages (from jupyter-server<3,>=2.4.0->notebook>=6.0->jupyter_contrib_nbextensions) (25.1.2)\n",
      "Requirement already satisfied: send2trash>=1.8.2 in c:\\python123\\lib\\site-packages (from jupyter-server<3,>=2.4.0->notebook>=6.0->jupyter_contrib_nbextensions) (1.8.2)\n",
      "Requirement already satisfied: terminado>=0.8.3 in c:\\python123\\lib\\site-packages (from jupyter-server<3,>=2.4.0->notebook>=6.0->jupyter_contrib_nbextensions) (0.18.0)\n",
      "Requirement already satisfied: websocket-client in c:\\python123\\lib\\site-packages (from jupyter-server<3,>=2.4.0->notebook>=6.0->jupyter_contrib_nbextensions) (1.7.0)\n",
      "Requirement already satisfied: async-lru>=1.0.0 in c:\\python123\\lib\\site-packages (from jupyterlab<5,>=4.0.2->notebook>=6.0->jupyter_contrib_nbextensions) (2.0.4)\n",
      "Requirement already satisfied: ipykernel in c:\\python123\\lib\\site-packages (from jupyterlab<5,>=4.0.2->notebook>=6.0->jupyter_contrib_nbextensions) (6.29.0)\n",
      "Requirement already satisfied: jupyter-lsp>=2.0.0 in c:\\python123\\lib\\site-packages (from jupyterlab<5,>=4.0.2->notebook>=6.0->jupyter_contrib_nbextensions) (2.2.1)\n",
      "Requirement already satisfied: babel>=2.10 in c:\\python123\\lib\\site-packages (from jupyterlab-server<3,>=2.22.1->notebook>=6.0->jupyter_contrib_nbextensions) (2.14.0)\n",
      "Requirement already satisfied: json5>=0.9.0 in c:\\python123\\lib\\site-packages (from jupyterlab-server<3,>=2.22.1->notebook>=6.0->jupyter_contrib_nbextensions) (0.9.14)\n",
      "Requirement already satisfied: jsonschema>=4.18.0 in c:\\python123\\lib\\site-packages (from jupyterlab-server<3,>=2.22.1->notebook>=6.0->jupyter_contrib_nbextensions) (4.21.0)\n",
      "Requirement already satisfied: requests>=2.31 in c:\\python123\\lib\\site-packages (from jupyterlab-server<3,>=2.22.1->notebook>=6.0->jupyter_contrib_nbextensions) (2.31.0)\n",
      "Requirement already satisfied: fastjsonschema in c:\\python123\\lib\\site-packages (from nbformat>=5.7->nbconvert>=6.0->jupyter_contrib_nbextensions) (2.19.1)\n",
      "Requirement already satisfied: soupsieve>1.2 in c:\\python123\\lib\\site-packages (from beautifulsoup4->nbconvert>=6.0->jupyter_contrib_nbextensions) (2.5)\n",
      "Requirement already satisfied: idna>=2.8 in c:\\python123\\lib\\site-packages (from anyio>=3.1.0->jupyter-server<3,>=2.4.0->notebook>=6.0->jupyter_contrib_nbextensions) (3.6)\n",
      "Requirement already satisfied: sniffio>=1.1 in c:\\python123\\lib\\site-packages (from anyio>=3.1.0->jupyter-server<3,>=2.4.0->notebook>=6.0->jupyter_contrib_nbextensions) (1.3.0)\n",
      "Requirement already satisfied: attrs>=22.2.0 in c:\\python123\\lib\\site-packages (from jsonschema>=4.18.0->jupyterlab-server<3,>=2.22.1->notebook>=6.0->jupyter_contrib_nbextensions) (23.2.0)\n",
      "Requirement already satisfied: jsonschema-specifications>=2023.03.6 in c:\\python123\\lib\\site-packages (from jsonschema>=4.18.0->jupyterlab-server<3,>=2.22.1->notebook>=6.0->jupyter_contrib_nbextensions) (2023.12.1)\n",
      "Requirement already satisfied: referencing>=0.28.4 in c:\\python123\\lib\\site-packages (from jsonschema>=4.18.0->jupyterlab-server<3,>=2.22.1->notebook>=6.0->jupyter_contrib_nbextensions) (0.32.1)\n",
      "Requirement already satisfied: rpds-py>=0.7.1 in c:\\python123\\lib\\site-packages (from jsonschema>=4.18.0->jupyterlab-server<3,>=2.22.1->notebook>=6.0->jupyter_contrib_nbextensions) (0.17.1)\n",
      "Requirement already satisfied: python-dateutil>=2.8.2 in c:\\python123\\lib\\site-packages (from jupyter-client>=7.4.4->jupyter-server<3,>=2.4.0->notebook>=6.0->jupyter_contrib_nbextensions) (2.8.2)\n",
      "Requirement already satisfied: python-json-logger>=2.0.4 in c:\\python123\\lib\\site-packages (from jupyter-events>=0.9.0->jupyter-server<3,>=2.4.0->notebook>=6.0->jupyter_contrib_nbextensions) (2.0.7)\n",
      "Requirement already satisfied: rfc3339-validator in c:\\python123\\lib\\site-packages (from jupyter-events>=0.9.0->jupyter-server<3,>=2.4.0->notebook>=6.0->jupyter_contrib_nbextensions) (0.1.4)\n",
      "Requirement already satisfied: rfc3986-validator>=0.1.1 in c:\\python123\\lib\\site-packages (from jupyter-events>=0.9.0->jupyter-server<3,>=2.4.0->notebook>=6.0->jupyter_contrib_nbextensions) (0.1.1)\n",
      "Requirement already satisfied: charset-normalizer<4,>=2 in c:\\python123\\lib\\site-packages (from requests>=2.31->jupyterlab-server<3,>=2.22.1->notebook>=6.0->jupyter_contrib_nbextensions) (3.3.2)\n",
      "Requirement already satisfied: urllib3<3,>=1.21.1 in c:\\python123\\lib\\site-packages (from requests>=2.31->jupyterlab-server<3,>=2.22.1->notebook>=6.0->jupyter_contrib_nbextensions) (2.1.0)\n",
      "Requirement already satisfied: certifi>=2017.4.17 in c:\\python123\\lib\\site-packages (from requests>=2.31->jupyterlab-server<3,>=2.22.1->notebook>=6.0->jupyter_contrib_nbextensions) (2023.11.17)\n",
      "Requirement already satisfied: argon2-cffi-bindings in c:\\python123\\lib\\site-packages (from argon2-cffi->jupyter-server<3,>=2.4.0->notebook>=6.0->jupyter_contrib_nbextensions) (21.2.0)\n",
      "Requirement already satisfied: comm>=0.1.1 in c:\\python123\\lib\\site-packages (from ipykernel->jupyterlab<5,>=4.0.2->notebook>=6.0->jupyter_contrib_nbextensions) (0.2.1)\n",
      "Requirement already satisfied: debugpy>=1.6.5 in c:\\python123\\lib\\site-packages (from ipykernel->jupyterlab<5,>=4.0.2->notebook>=6.0->jupyter_contrib_nbextensions) (1.8.0)\n",
      "Requirement already satisfied: ipython>=7.23.1 in c:\\python123\\lib\\site-packages (from ipykernel->jupyterlab<5,>=4.0.2->notebook>=6.0->jupyter_contrib_nbextensions) (8.20.0)\n",
      "Requirement already satisfied: matplotlib-inline>=0.1 in c:\\python123\\lib\\site-packages (from ipykernel->jupyterlab<5,>=4.0.2->notebook>=6.0->jupyter_contrib_nbextensions) (0.1.6)\n",
      "Requirement already satisfied: nest-asyncio in c:\\python123\\lib\\site-packages (from ipykernel->jupyterlab<5,>=4.0.2->notebook>=6.0->jupyter_contrib_nbextensions) (1.5.9)\n",
      "Requirement already satisfied: psutil in c:\\python123\\lib\\site-packages (from ipykernel->jupyterlab<5,>=4.0.2->notebook>=6.0->jupyter_contrib_nbextensions) (5.9.7)\n",
      "Requirement already satisfied: decorator in c:\\python123\\lib\\site-packages (from ipython>=7.23.1->ipykernel->jupyterlab<5,>=4.0.2->notebook>=6.0->jupyter_contrib_nbextensions) (5.1.1)\n",
      "Requirement already satisfied: jedi>=0.16 in c:\\python123\\lib\\site-packages (from ipython>=7.23.1->ipykernel->jupyterlab<5,>=4.0.2->notebook>=6.0->jupyter_contrib_nbextensions) (0.19.1)\n",
      "Requirement already satisfied: prompt-toolkit<3.1.0,>=3.0.41 in c:\\python123\\lib\\site-packages (from ipython>=7.23.1->ipykernel->jupyterlab<5,>=4.0.2->notebook>=6.0->jupyter_contrib_nbextensions) (3.0.43)\n",
      "Requirement already satisfied: stack-data in c:\\python123\\lib\\site-packages (from ipython>=7.23.1->ipykernel->jupyterlab<5,>=4.0.2->notebook>=6.0->jupyter_contrib_nbextensions) (0.6.3)\n",
      "Requirement already satisfied: colorama in c:\\python123\\lib\\site-packages (from ipython>=7.23.1->ipykernel->jupyterlab<5,>=4.0.2->notebook>=6.0->jupyter_contrib_nbextensions) (0.4.6)\n",
      "Requirement already satisfied: fqdn in c:\\python123\\lib\\site-packages (from jsonschema[format-nongpl]>=4.18.0->jupyter-events>=0.9.0->jupyter-server<3,>=2.4.0->notebook>=6.0->jupyter_contrib_nbextensions) (1.5.1)\n",
      "Requirement already satisfied: isoduration in c:\\python123\\lib\\site-packages (from jsonschema[format-nongpl]>=4.18.0->jupyter-events>=0.9.0->jupyter-server<3,>=2.4.0->notebook>=6.0->jupyter_contrib_nbextensions) (20.11.0)\n",
      "Requirement already satisfied: jsonpointer>1.13 in c:\\python123\\lib\\site-packages (from jsonschema[format-nongpl]>=4.18.0->jupyter-events>=0.9.0->jupyter-server<3,>=2.4.0->notebook>=6.0->jupyter_contrib_nbextensions) (2.4)\n",
      "Requirement already satisfied: uri-template in c:\\python123\\lib\\site-packages (from jsonschema[format-nongpl]>=4.18.0->jupyter-events>=0.9.0->jupyter-server<3,>=2.4.0->notebook>=6.0->jupyter_contrib_nbextensions) (1.3.0)\n",
      "Requirement already satisfied: webcolors>=1.11 in c:\\python123\\lib\\site-packages (from jsonschema[format-nongpl]>=4.18.0->jupyter-events>=0.9.0->jupyter-server<3,>=2.4.0->notebook>=6.0->jupyter_contrib_nbextensions) (1.13)\n",
      "Requirement already satisfied: cffi>=1.0.1 in c:\\python123\\lib\\site-packages (from argon2-cffi-bindings->argon2-cffi->jupyter-server<3,>=2.4.0->notebook>=6.0->jupyter_contrib_nbextensions) (1.16.0)\n",
      "Requirement already satisfied: pycparser in c:\\python123\\lib\\site-packages (from cffi>=1.0.1->argon2-cffi-bindings->argon2-cffi->jupyter-server<3,>=2.4.0->notebook>=6.0->jupyter_contrib_nbextensions) (2.21)\n",
      "Requirement already satisfied: parso<0.9.0,>=0.8.3 in c:\\python123\\lib\\site-packages (from jedi>=0.16->ipython>=7.23.1->ipykernel->jupyterlab<5,>=4.0.2->notebook>=6.0->jupyter_contrib_nbextensions) (0.8.3)\n",
      "Requirement already satisfied: wcwidth in c:\\python123\\lib\\site-packages (from prompt-toolkit<3.1.0,>=3.0.41->ipython>=7.23.1->ipykernel->jupyterlab<5,>=4.0.2->notebook>=6.0->jupyter_contrib_nbextensions) (0.2.13)\n",
      "Requirement already satisfied: arrow>=0.15.0 in c:\\python123\\lib\\site-packages (from isoduration->jsonschema[format-nongpl]>=4.18.0->jupyter-events>=0.9.0->jupyter-server<3,>=2.4.0->notebook>=6.0->jupyter_contrib_nbextensions) (1.3.0)\n",
      "Requirement already satisfied: executing>=1.2.0 in c:\\python123\\lib\\site-packages (from stack-data->ipython>=7.23.1->ipykernel->jupyterlab<5,>=4.0.2->notebook>=6.0->jupyter_contrib_nbextensions) (2.0.1)\n",
      "Requirement already satisfied: asttokens>=2.1.0 in c:\\python123\\lib\\site-packages (from stack-data->ipython>=7.23.1->ipykernel->jupyterlab<5,>=4.0.2->notebook>=6.0->jupyter_contrib_nbextensions) (2.4.1)\n",
      "Requirement already satisfied: pure-eval in c:\\python123\\lib\\site-packages (from stack-data->ipython>=7.23.1->ipykernel->jupyterlab<5,>=4.0.2->notebook>=6.0->jupyter_contrib_nbextensions) (0.2.2)\n",
      "Requirement already satisfied: types-python-dateutil>=2.8.10 in c:\\python123\\lib\\site-packages (from arrow>=0.15.0->isoduration->jsonschema[format-nongpl]>=4.18.0->jupyter-events>=0.9.0->jupyter-server<3,>=2.4.0->notebook>=6.0->jupyter_contrib_nbextensions) (2.8.19.20240106)\n"
     ]
    },
    {
     "name": "stderr",
     "output_type": "stream",
     "text": [
      "\n",
      "[notice] A new release of pip is available: 23.3.2 -> 24.0\n",
      "[notice] To update, run: python.exe -m pip install --upgrade pip\n"
     ]
    }
   ],
   "source": [
    "!pip install jupyter_contrib_nbextensions"
   ]
  },
  {
   "cell_type": "code",
   "execution_count": null,
   "id": "fb9e9222-7fca-4165-bd71-c06cbeecf2b4",
   "metadata": {},
   "outputs": [],
   "source": []
  }
 ],
 "metadata": {
  "kernelspec": {
   "display_name": "Python 3 (ipykernel)",
   "language": "python",
   "name": "python3"
  },
  "language_info": {
   "codemirror_mode": {
    "name": "ipython",
    "version": 3
   },
   "file_extension": ".py",
   "mimetype": "text/x-python",
   "name": "python",
   "nbconvert_exporter": "python",
   "pygments_lexer": "ipython3",
   "version": "3.12.1"
  }
 },
 "nbformat": 4,
 "nbformat_minor": 5
}
