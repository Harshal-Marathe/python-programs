{
 "cells": [
  {
   "cell_type": "markdown",
   "id": "9ade63f0-7128-4bad-805b-1037cb7ec2b2",
   "metadata": {},
   "source": []
  },
  {
   "cell_type": "code",
   "execution_count": 3,
   "id": "932ccb97-b2b4-4f85-82cf-c1f99670b809",
   "metadata": {},
   "outputs": [
    {
     "name": "stdin",
     "output_type": "stream",
     "text": [
      "Enter the Year 1700\n"
     ]
    },
    {
     "name": "stdout",
     "output_type": "stream",
     "text": [
      "1700 is not a leap year\n"
     ]
    }
   ],
   "source": [
    "Year=int(input(\"Enter the Year\"))\n",
    "if Year%400==0:\n",
    "    print(f\"{Year} is a leap year\")\n",
    "elif Year%4==0 and Year%100!=0:\n",
    "    print(f\"{Year} is a leap year\")\n",
    "else :\n",
    "    print(f\"{Year} is not a leap year\")"
   ]
  },
  {
   "cell_type": "markdown",
   "id": "ebee659e-d0c3-4fca-908f-8ed2b46185b5",
   "metadata": {},
   "source": []
  },
  {
   "cell_type": "code",
   "execution_count": 11,
   "id": "98210e68-cce0-4759-aa7c-e829a77bb38d",
   "metadata": {},
   "outputs": [
    {
     "name": "stdin",
     "output_type": "stream",
     "text": [
      "Enter the Number 0\n"
     ]
    },
    {
     "name": "stdout",
     "output_type": "stream",
     "text": [
      "0 is Zero and is Even\n"
     ]
    }
   ],
   "source": [
    "Number=int(input(\"Enter the Number\"))\n",
    "if Number>0:\n",
    "    str2=\"even\" if Number%2==0 else \"odd\"\n",
    "    print(f\"{Number} is Positive and is {str2}\")\n",
    "    \n",
    "elif Number<0:\n",
    "    str2=\"even\" if Number%2==0 else \"odd\"\n",
    "    print(f\"{Number} is Positive and is {str2}\")\n",
    "else :\n",
    "    print(f\"{Number} is Zero and is Even\")\n",
    "\n"
   ]
  },
  {
   "cell_type": "markdown",
   "id": "4b99c857-181e-4ed2-9b11-5a3d94cfb934",
   "metadata": {},
   "source": []
  },
  {
   "cell_type": "code",
   "execution_count": 13,
   "id": "4e67adce-89f1-4d2d-9d2d-11f974dcc77c",
   "metadata": {},
   "outputs": [
    {
     "name": "stdin",
     "output_type": "stream",
     "text": [
      "Enter the alphabet V\n"
     ]
    },
    {
     "name": "stdout",
     "output_type": "stream",
     "text": [
      "V is consonant\n"
     ]
    }
   ],
   "source": [
    "u=input(\"Enter the alphabet :\")\n",
    "if u in 'aeiouAEIOU':\n",
    "    print(f'{u} is Vowel')\n",
    "else:\n",
    "    print(f'Given alphaber {u} is consonant')\n",
    "    "
   ]
  },
  {
   "cell_type": "markdown",
   "id": "8664f67b-3271-4d04-9f16-640a223adbb7",
   "metadata": {},
   "source": []
  },
  {
   "cell_type": "code",
   "execution_count": 17,
   "id": "33908e2a-9c9e-4789-a417-7836712df7a3",
   "metadata": {},
   "outputs": [
    {
     "name": "stdin",
     "output_type": "stream",
     "text": [
      "Enter the Original Price 1520\n",
      "Enter the Discount Percentage 15.8\n"
     ]
    },
    {
     "name": "stdout",
     "output_type": "stream",
     "text": [
      " 1279.84 is the price after discount of 15.8% on the price 1520.0\n"
     ]
    }
   ],
   "source": [
    "org_price=float(input(\"Enter the Original Price\"))\n",
    "disc_prc=float(input(\"Enter the Discount Percentage\"))\n",
    "\n",
    "dsct=org_price*disc_prc/100\n",
    "discount=org_price-dsct\n",
    "print(f\" {discount} is the price after discount of {disc_prc}% on the price {org_price}\") "
   ]
  },
  {
   "cell_type": "markdown",
   "id": "b747023c-52db-445e-8944-ac509c702837",
   "metadata": {},
   "source": []
  },
  {
   "cell_type": "code",
   "execution_count": 23,
   "id": "df2a68b8-9c98-4bc9-acbc-8f8a05cc1fcf",
   "metadata": {},
   "outputs": [
    {
     "name": "stdin",
     "output_type": "stream",
     "text": [
      "Enter first side length 4\n",
      "Enter second side length 8\n",
      "Enter third side length 15\n"
     ]
    },
    {
     "name": "stdout",
     "output_type": "stream",
     "text": [
      "The given sides does not form the triangle.\n"
     ]
    }
   ],
   "source": [
    "a=float(input(\"Enter first side length\"))\n",
    "b=float(input(\"Enter second side length\"))\n",
    "c=float(input(\"Enter third side length\"))\n",
    "L=[a,b,c]\n",
    "L.sort()\n",
    "if L[2]<L[0]+L[1]:\n",
    "    if a==b and b==c:\n",
    "        print(f\"The given sides {a},{b} and {c} form equilateral traingle\")\n",
    "    elif a==b or b==c or c==a:\n",
    "        print(f\"The given sides {a},{b} and {c} form isosceles traingle\")\n",
    "    else:\n",
    "        print(f\"The given sides {a},{b} and {c} form scalene traingle\")\n",
    "else:\n",
    "    print(\"The given sides does not form the triangle.\")\n",
    "        "
   ]
  },
  {
   "cell_type": "markdown",
   "id": "5d1c510c-247c-4865-9149-0d80be47615e",
   "metadata": {},
   "source": [
    "**BMI**"
   ]
  },
  {
   "cell_type": "code",
   "execution_count": 25,
   "id": "e1c33ed5-fe5f-4e92-9779-da422809f9f5",
   "metadata": {},
   "outputs": [
    {
     "name": "stdin",
     "output_type": "stream",
     "text": [
      "Enter the Weight in kg 62\n",
      "Enter the Height in mtrs 1.59\n"
     ]
    },
    {
     "name": "stdout",
     "output_type": "stream",
     "text": [
      "24.5 Normal Weight\n"
     ]
    }
   ],
   "source": [
    "weight=float(input(\"Enter the Weight in kg\"))\n",
    "height=float(input(\"Enter the Height in mtrs\"))\n",
    "BMI=round(weight/height**2,1)\n",
    "\n",
    "if BMI<=18.5:\n",
    "    print(f\"BMI is {BMI} Underweight\")\n",
    "elif  BMI<=24.9:\n",
    "    print(f\"BMI is {BMI} Normal Weight\")\n",
    "elif  BMI<=29.9:\n",
    "    print(f\"BMI is {BMI} Overweight\")\n",
    "else:\n",
    "    print(f\"BMI is {BMI} Obesity\")"
   ]
  },
  {
   "cell_type": "markdown",
   "id": "085a95ed-b7da-48e2-b98f-c089117e3ffc",
   "metadata": {},
   "source": []
  },
  {
   "cell_type": "code",
   "execution_count": null,
   "id": "7aaa8a23-77b3-4f0f-859a-d4314c5f717f",
   "metadata": {},
   "outputs": [],
   "source": [
    "user"
   ]
  }
 ],
 "metadata": {
  "kernelspec": {
   "display_name": "Python 3 (ipykernel)",
   "language": "python",
   "name": "python3"
  },
  "language_info": {
   "codemirror_mode": {
    "name": "ipython",
    "version": 3
   },
   "file_extension": ".py",
   "mimetype": "text/x-python",
   "name": "python",
   "nbconvert_exporter": "python",
   "pygments_lexer": "ipython3",
   "version": "3.12.1"
  }
 },
 "nbformat": 4,
 "nbformat_minor": 5
}
