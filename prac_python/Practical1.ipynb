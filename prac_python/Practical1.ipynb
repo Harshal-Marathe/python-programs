{
 "cells": [
  {
   "cell_type": "markdown",
   "id": "f443c410-a6bc-4389-a302-ce14483defec",
   "metadata": {},
   "source": [
    "#Q1Write a Python program that takes user input for a temperature in Cel\u0002sius and converts it to Fahrenheit. Display the result with an appropriate message."
   ]
  },
  {
   "cell_type": "code",
   "execution_count": 2,
   "id": "c6650b35-8a6a-4d66-8184-42bb94e438ff",
   "metadata": {},
   "outputs": [
    {
     "data": {
      "text/plain": [
       "89.6"
      ]
     },
     "execution_count": 2,
     "metadata": {},
     "output_type": "execute_result"
    }
   ],
   "source": [
    "\n",
    "def fahtrenheit(cel):\n",
    "    frahr=(cel*9/5)+32\n",
    "    return(frahr)\n",
    "    \n",
    "fahtrenheit(32)"
   ]
  },
  {
   "cell_type": "code",
   "execution_count": 4,
   "id": "8dc2e68a-7ff7-49c2-ade3-27d06de99bba",
   "metadata": {},
   "outputs": [
    {
     "name": "stdin",
     "output_type": "stream",
     "text": [
      "Temperature in celcius: 32\n"
     ]
    },
    {
     "name": "stdout",
     "output_type": "stream",
     "text": [
      "32.0 C Temperature in farhrenheit 89.6 f\n"
     ]
    }
   ],
   "source": [
    "cel=float(input(\"Temperature in celcius:\"))\n",
    "fahr=cel*9/5+32\n",
    "print(f\"{cel} C Temperature in farhrenheit {fahr} f\")"
   ]
  },
  {
   "cell_type": "markdown",
   "id": "02e0455c-b51c-4114-bc38-6cdf25e176a9",
   "metadata": {},
   "source": [
    "#Q2 Develop a Python script that takes a user input string and counts the number\r\n",
    "of occurrences of each character in the string. Display the results in a readable format"
   ]
  },
  {
   "cell_type": "code",
   "execution_count": 8,
   "id": "82a2b50a-b0dd-453d-b901-7d871adc348c",
   "metadata": {},
   "outputs": [
    {
     "name": "stdin",
     "output_type": "stream",
     "text": [
      "Enter your sentence: Psychology\n"
     ]
    },
    {
     "name": "stdout",
     "output_type": "stream",
     "text": [
      "c occurred 1 time/s in Psychology\n",
      "s occurred 1 time/s in Psychology\n",
      "h occurred 1 time/s in Psychology\n",
      "y occurred 2 time/s in Psychology\n",
      "P occurred 1 time/s in Psychology\n",
      "o occurred 2 time/s in Psychology\n",
      "g occurred 1 time/s in Psychology\n",
      "l occurred 1 time/s in Psychology\n"
     ]
    }
   ],
   "source": [
    "user_input=input(\"Enter your sentence:\")\n",
    "for i in set(user_input):\n",
    "    print(f\"{i} occurred {user_input.count(i)} time/s in {user_input}\")\n"
   ]
  },
  {
   "cell_type": "markdown",
   "id": "648404ad-040e-40b7-bce5-f74e1db2b281",
   "metadata": {},
   "source": [
    "#Q3 Create a Python program that prompts the user to enter an integer and\r\n",
    "checks if it’s an even or odd number. Display a message indicating whether the number is even or\r\n",
    "odd"
   ]
  },
  {
   "cell_type": "code",
   "execution_count": 11,
   "id": "c6c5930d-38c9-43ab-90a4-89b1de5f7887",
   "metadata": {},
   "outputs": [
    {
     "name": "stdin",
     "output_type": "stream",
     "text": [
      "Enter the number: 8\n"
     ]
    },
    {
     "name": "stdout",
     "output_type": "stream",
     "text": [
      "8 is even.\n"
     ]
    }
   ],
   "source": [
    "num=int(input(\"Enter the number:\"))\n",
    "if num% 2 ==0:\n",
    "    print(f\"{num} is even.\")\n",
    "else:\n",
    "    print(f\"{num} is odd\")\n",
    "        "
   ]
  },
  {
   "cell_type": "code",
   "execution_count": 12,
   "id": "4b3c5064-440d-40da-b307-29a226b0c04b",
   "metadata": {},
   "outputs": [
    {
     "name": "stdin",
     "output_type": "stream",
     "text": [
      "Enter the number: 5\n"
     ]
    },
    {
     "name": "stdout",
     "output_type": "stream",
     "text": [
      "the number 5 is odd.\n"
     ]
    }
   ],
   "source": [
    "number=int(input(\"Enter the number:\"))\n",
    "num = f\"The number {number} is even.\" if number%2==0  else f\"the number {number} is odd.\"\n",
    "print(num)"
   ]
  },
  {
   "cell_type": "markdown",
   "id": "0c06ea62-7126-4aab-90ee-f5acbdb35c51",
   "metadata": {},
   "source": [
    "#Q4 Write a Python script that solves a quadratic equation of the form\r\n",
    "ax2+bx+c = 0 given user input for coefficients a, b, and c. Display the solutions with appropriate\r\n",
    "messages.\r"
   ]
  },
  {
   "cell_type": "code",
   "execution_count": 15,
   "id": "8d228f40-52aa-4fcc-a6b4-9a90416dc400",
   "metadata": {},
   "outputs": [
    {
     "name": "stdin",
     "output_type": "stream",
     "text": [
      "enter A 2\n",
      "enter B 7\n",
      "enter C 6\n"
     ]
    },
    {
     "name": "stdout",
     "output_type": "stream",
     "text": [
      "the solutions of the given quadratic equations are -6.0 and-8.0\n"
     ]
    }
   ],
   "source": [
    "import numpy as np\n",
    "a,b,c=float(input(\"enter A\")),float(input(\"enter B\")),float(input(\"enter C\"))\n",
    "dis=b**2 - 4*a*c\n",
    "if b**2>= 4*a*c:\n",
    "    x1=(-b+np.sqrt(dis))/2*a\n",
    "    x2=(-b-np.sqrt(dis))/2*a\n",
    "    print(f\"the solutions of the given quadratic equations are {x1} and{x2}\")\n",
    "else:\n",
    "    print(\"No real roots exists for this quadratic equation\")\n",
    "\n",
    "    "
   ]
  },
  {
   "cell_type": "markdown",
   "id": "af72642c-a412-4c83-b3e9-c9fa2c498c06",
   "metadata": {},
   "source": [
    "#Q5 Develop a Python program that calculates the factorial of a given non-negative\r\n",
    "integer entered by the user. Display the result with a suitable message.\r"
   ]
  },
  {
   "cell_type": "code",
   "execution_count": 1,
   "id": "d1117e73-07d3-446a-8b5e-b9ed69bd58bb",
   "metadata": {},
   "outputs": [
    {
     "name": "stdin",
     "output_type": "stream",
     "text": [
      "Enter the Number 5\n"
     ]
    },
    {
     "name": "stdout",
     "output_type": "stream",
     "text": [
      "the factorial of the number 5 is 120\n"
     ]
    }
   ],
   "source": [
    "num=int(input(\"Enter the Number\"))\n",
    "fact_=1\n",
    "i=1\n",
    "if num==0 or num==1:\n",
    "    print(\"1\")\n",
    "elif num>=1:\n",
    "    while i<=num :\n",
    "        fact_ *=i\n",
    "        i+=1\n",
    "else:\n",
    "    print(\" the nummber is negative\")\n",
    "print(f\"the factorial of the number {num} is {fact_}\")"
   ]
  },
  {
   "cell_type": "code",
   "execution_count": 5,
   "id": "28a6f847-7f66-4741-97a4-40f5949f6174",
   "metadata": {},
   "outputs": [
    {
     "name": "stdin",
     "output_type": "stream",
     "text": [
      "Enter the number 5\n"
     ]
    },
    {
     "data": {
      "text/plain": [
       "120"
      ]
     },
     "execution_count": 5,
     "metadata": {},
     "output_type": "execute_result"
    }
   ],
   "source": [
    "def fact(n):\n",
    "    if n>0:\n",
    "        if n==1 or n==0:\n",
    "            return 1\n",
    "        elif n>1:\n",
    "            return n*fact(n-1)\n",
    "        \n",
    "\n",
    "user_num=int(input(\"Enter the number\"))\n",
    "fact(user_num)"
   ]
  },
  {
   "cell_type": "markdown",
   "id": "ffc83ecc-782b-41b3-bcc3-291a58a1c457",
   "metadata": {},
   "source": [
    "Guess the number game create a simple number guessing game in python Generate a random number between 1 to 100 and allow the user to guess the number provide hints (higher or lower) until the correct number is guessed"
   ]
  },
  {
   "cell_type": "code",
   "execution_count": 29,
   "id": "072222a2-c319-4a63-bc96-32036cbc0029",
   "metadata": {},
   "outputs": [
    {
     "name": "stdin",
     "output_type": "stream",
     "text": [
      "Enter your guess 5\n"
     ]
    },
    {
     "name": "stdout",
     "output_type": "stream",
     "text": [
      "lesser\n"
     ]
    },
    {
     "name": "stdin",
     "output_type": "stream",
     "text": [
      "Enter your guess 5\n"
     ]
    },
    {
     "name": "stdout",
     "output_type": "stream",
     "text": [
      "lesser\n"
     ]
    },
    {
     "name": "stdin",
     "output_type": "stream",
     "text": [
      "Enter your guess 1\n"
     ]
    },
    {
     "name": "stdout",
     "output_type": "stream",
     "text": [
      " ohhh the original number is greater\n"
     ]
    },
    {
     "name": "stdin",
     "output_type": "stream",
     "text": [
      "Enter your guess 4\n"
     ]
    },
    {
     "name": "stdout",
     "output_type": "stream",
     "text": [
      "lesser\n"
     ]
    },
    {
     "name": "stdin",
     "output_type": "stream",
     "text": [
      "Enter your guess 2\n"
     ]
    },
    {
     "name": "stdout",
     "output_type": "stream",
     "text": [
      " ohhh the original number is greater\n"
     ]
    },
    {
     "name": "stdin",
     "output_type": "stream",
     "text": [
      "Enter your guess 3\n"
     ]
    },
    {
     "name": "stdout",
     "output_type": "stream",
     "text": [
      "you guessed it correctly\n"
     ]
    }
   ],
   "source": [
    "original=np.random.randint(1,10)\n",
    "flag=True\n",
    "while flag==True:\n",
    "    guess=int(input(\"Enter your guess\"))\n",
    "    if original ==guess:\n",
    "        print(\"you guessed it correctly\")\n",
    "        flag=False\n",
    "    else:\n",
    "        print(\" ohhh the original number is \"+\"greater\"if original>guess else \"lesser\")"
   ]
  },
  {
   "cell_type": "code",
   "execution_count": null,
   "id": "0aff26a0-72c9-4b46-a2da-5cd015e99ede",
   "metadata": {},
   "outputs": [],
   "source": []
  },
  {
   "cell_type": "code",
   "execution_count": null,
   "id": "45f77ab4-fec9-4d8c-bb31-add1883f7ab0",
   "metadata": {},
   "outputs": [],
   "source": []
  }
 ],
 "metadata": {
  "kernelspec": {
   "display_name": "Python 3 (ipykernel)",
   "language": "python",
   "name": "python3"
  },
  "language_info": {
   "codemirror_mode": {
    "name": "ipython",
    "version": 3
   },
   "file_extension": ".py",
   "mimetype": "text/x-python",
   "name": "python",
   "nbconvert_exporter": "python",
   "pygments_lexer": "ipython3",
   "version": "3.12.1"
  }
 },
 "nbformat": 4,
 "nbformat_minor": 5
}
