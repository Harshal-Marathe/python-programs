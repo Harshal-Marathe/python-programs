{
 "cells": [
  {
   "cell_type": "markdown",
   "id": "994d53d3-f1bc-40e1-9978-e88927e303cb",
   "metadata": {},
   "source": [
    "**Factorial Calculator:** "
   ]
  },
  {
   "cell_type": "code",
   "execution_count": 1,
   "id": "e80fa24c-6bb2-48cb-8d3e-812afc607dd0",
   "metadata": {},
   "outputs": [
    {
     "name": "stdin",
     "output_type": "stream",
     "text": [
      "Enter the number 5\n"
     ]
    },
    {
     "name": "stdout",
     "output_type": "stream",
     "text": [
      "Factorial of 5 is 120\n"
     ]
    }
   ],
   "source": [
    "def facto(n):\n",
    "    if n>0:\n",
    "        temp=1\n",
    "        for i in range(1,n+1):\n",
    "            temp*=i\n",
    "        return temp\n",
    "    else:\n",
    "        return \"Error : please check the integrer\"\n",
    "user_int=int(input(\"Enter the number\"))\n",
    "if user_int>=0:\n",
    "    print(f\"Factorial of {user_int} is {facto(user_int)}\")\n",
    "else:\n",
    "    print(f\"Error : please check the integrer\")\n"
   ]
  },
  {
   "cell_type": "markdown",
   "id": "2f128632-3f8f-46a0-be75-ae32808cb051",
   "metadata": {},
   "source": [
    "**Palidrome checker:**"
   ]
  },
  {
   "cell_type": "code",
   "execution_count": 13,
   "id": "069e7966-1395-4f17-84d4-6e5372fd14e1",
   "metadata": {},
   "outputs": [
    {
     "name": "stdin",
     "output_type": "stream",
     "text": [
      "Enter the name harshal\n"
     ]
    },
    {
     "name": "stdout",
     "output_type": "stream",
     "text": [
      "The given word HARSHAL is not palidrome.\n"
     ]
    }
   ],
   "source": [
    "user_char=input(\"Enter the name\").upper()\n",
    "flag=True\n",
    "for i in range(len(user_char)):\n",
    "    if user_char[i]!=user_char[-(i+1)]:\n",
    "        flag=False\n",
    "        break\n",
    "print(f\"The given word {user_char} is {'not' if flag==False else ''} palidrome.\")"
   ]
  },
  {
   "cell_type": "code",
   "execution_count": 7,
   "id": "82d1a3bf-0a7d-45db-a766-49228c444b78",
   "metadata": {},
   "outputs": [
    {
     "ename": "AttributeError",
     "evalue": "'str' object has no attribute 'reversed'",
     "output_type": "error",
     "traceback": [
      "\u001b[1;31m---------------------------------------------------------------------------\u001b[0m",
      "\u001b[1;31mAttributeError\u001b[0m                            Traceback (most recent call last)",
      "Cell \u001b[1;32mIn[7], line 3\u001b[0m\n\u001b[0;32m      1\u001b[0m \u001b[38;5;28mstr\u001b[39m\u001b[38;5;241m=\u001b[39m\u001b[38;5;124m\"\u001b[39m\u001b[38;5;124mHarshal\u001b[39m\u001b[38;5;124m\"\u001b[39m\n\u001b[0;32m      2\u001b[0m \u001b[38;5;28mstr\u001b[39m[::\u001b[38;5;241m-\u001b[39m\u001b[38;5;241m1\u001b[39m]\n\u001b[1;32m----> 3\u001b[0m \u001b[38;5;28;43mstr\u001b[39;49m\u001b[38;5;241;43m.\u001b[39;49m\u001b[43mreversed\u001b[49m()\n",
      "\u001b[1;31mAttributeError\u001b[0m: 'str' object has no attribute 'reversed'"
     ]
    }
   ],
   "source": [
    "str=\"Harshal\"\n",
    "str[::-1]\n"
   ]
  },
  {
   "cell_type": "markdown",
   "id": "126a4854-e239-4ff5-872b-7b543df65896",
   "metadata": {},
   "source": [
    "3. **Multiplication Table Generator:**"
   ]
  },
  {
   "cell_type": "code",
   "execution_count": null,
   "id": "3d2e9a22-0b0d-473a-b697-227b2dabd9e4",
   "metadata": {},
   "outputs": [],
   "source": [
    "def generate_multiplication_table(n):\n",
    "    for i in range(1, 11):\n",
    "        print(f\"{n} x {i} = {n*i}\")\n",
    "\n",
    "# Example usage:\n",
    "user_number = int(input(\"Enter an integer: \"))\n",
    "generate_multiplication_table(user_number)"
   ]
  },
  {
   "cell_type": "code",
   "execution_count": 5,
   "id": "c130927b-3350-4282-bcee-9ecf95e4f862",
   "metadata": {},
   "outputs": [
    {
     "name": "stdin",
     "output_type": "stream",
     "text": [
      "Enter an integer:  2\n"
     ]
    }
   ],
   "source": [
    "def generate_multiplication_table(n):\n",
    "    while i<=n+1:\n",
    "        t=\n",
    "        print(t)\n",
    "        \n",
    "        \n",
    "\n",
    "user_number = int(input(\"Enter an integer: \"))\n",
    "generate_multiplication_table(user_number)"
   ]
  },
  {
   "cell_type": "markdown",
   "id": "e051c0ab-5da7-4bd8-82ce-b15e012347ee",
   "metadata": {},
   "source": [
    "**fibonacii seq**"
   ]
  },
  {
   "cell_type": "code",
   "execution_count": 1,
   "id": "5ab8d8fb-1103-41c7-8140-3a35b8499dc6",
   "metadata": {},
   "outputs": [
    {
     "name": "stdin",
     "output_type": "stream",
     "text": [
      "Enter a limit for the Fibonacci sequence:  5\n"
     ]
    },
    {
     "name": "stdout",
     "output_type": "stream",
     "text": [
      "Fibonacci Sequence: [0, 1, 1, 2, 3, 5]\n"
     ]
    }
   ],
   "source": [
    "def generate_fibonacci_sequence(limit):\n",
    "    fib_sequence = [0, 1]\n",
    "    while fib_sequence[-1] + fib_sequence[-2] <= limit:\n",
    "        fib_sequence.append(fib_sequence[-1] + fib_sequence[-2])\n",
    "    print(\"Fibonacci Sequence:\", fib_sequence)\n",
    "\n",
    "# Example usage:\n",
    "user_limit = int(input(\"Enter a limit for the Fibonacci sequence: \"))\n",
    "generate_fibonacci_sequence(user_limit)"
   ]
  },
  {
   "cell_type": "code",
   "execution_count": 2,
   "id": "361566b2-5eda-4dba-afe1-363a628fb026",
   "metadata": {},
   "outputs": [
    {
     "name": "stdin",
     "output_type": "stream",
     "text": [
      "enter the number 5\n"
     ]
    },
    {
     "data": {
      "text/plain": [
       "[1, 1, 2, 3]"
      ]
     },
     "execution_count": 2,
     "metadata": {},
     "output_type": "execute_result"
    }
   ],
   "source": [
    "fib_seq=[1,1]\n",
    "user_int=int(input(\"enter the number\"))\n",
    "while fib_seq[-1]+fib_seq[-2]<user_int:\n",
    "    fib_seq.append(fib_seq[-1]+fib_seq[-2])\n",
    "\n",
    "fib_seq"
   ]
  },
  {
   "cell_type": "markdown",
   "id": "fb41eddc-0d8b-4ecc-85de-43e7884beab0",
   "metadata": {},
   "source": [
    "**Prime number checker**"
   ]
  },
  {
   "cell_type": "code",
   "execution_count": null,
   "id": "0e385fa5-b86f-4f68-90b5-842ba64ba3ab",
   "metadata": {},
   "outputs": [],
   "source": [
    "def is_prime(number):\n",
    "    if number < 2:\n",
    "        return False\n",
    "    for i in range(2, int(number**0.5) + 1):\n",
    "        if number % i == 0:\n",
    "            return False\n",
    "    return True\n",
    "\n",
    "# Example usage:\n",
    "user_number = int(input(\"Enter a number: \"))\n",
    "if is_prime(user_number):\n",
    "    print(f\"{user_number} is a prime number.\")\n",
    "else:\n",
    "    print(f\"{user_number} is not a prime number.\")"
   ]
  },
  {
   "cell_type": "markdown",
   "id": "beb968c0-3ed5-49c1-89ef-b3fde1c0e935",
   "metadata": {},
   "source": [
    "user_int=int(input(\"Enter the number\"))\n",
    "factors=[]\n",
    "for i in range(1,user_int+1):\n",
    "    if user_int%i==0:\n",
    "        factors.append(i)\n",
    "if len(factors)==2:\n",
    "    print(f\"{user_int} is a prime number\")\n",
    "else:\n",
    "    print(f\"{user_int} is not a prime number and its factor are {factors}\")"
   ]
  },
  {
   "cell_type": "markdown",
   "id": "e25b4c4a-40ec-417c-9e2e-9bb003d6a55b",
   "metadata": {},
   "source": [
    "**Pyramid**"
   ]
  },
  {
   "cell_type": "code",
   "execution_count": 6,
   "id": "a6d0a129-fa5b-4bf8-8ed2-71d335258353",
   "metadata": {},
   "outputs": [
    {
     "name": "stdin",
     "output_type": "stream",
     "text": [
      "Enter the height of the pyramid:  5\n"
     ]
    },
    {
     "name": "stdout",
     "output_type": "stream",
     "text": [
      "    *\n",
      "   ***\n",
      "  *****\n",
      " *******\n",
      "*********\n"
     ]
    }
   ],
   "source": [
    "def print_pyramid(height):\n",
    "    for i in range(1, height + 1):\n",
    "        spaces = ' ' * (height - i)\n",
    "        stars = '*' * (2*i - 1)\n",
    "        print(spaces + stars)\n",
    "\n",
    "# Example usage:\n",
    "user_height = int(input(\"Enter the height of the pyramid: \"))\n",
    "print_pyramid(user_height)\n"
   ]
  },
  {
   "cell_type": "code",
   "execution_count": 7,
   "id": "f5c6efab-a601-4035-8391-70dbec63182e",
   "metadata": {},
   "outputs": [
    {
     "name": "stdin",
     "output_type": "stream",
     "text": [
      "Enter the height of the pyramid:  5\n"
     ]
    },
    {
     "name": "stdout",
     "output_type": "stream",
     "text": [
      "     *\n",
      "    ***\n",
      "   *****\n",
      "  *******\n",
      " *********\n"
     ]
    }
   ],
   "source": [
    "user_int = int(input(\"Enter the height of the pyramid: \"))\n",
    "for i in range(user_int):\n",
    "    print(\" \"*(user_int-i)+\"*\"*(2*i+1))"
   ]
  },
  {
   "cell_type": "markdown",
   "id": "533e1522-37a0-4b8b-b884-520cebaea28e",
   "metadata": {},
   "source": [
    "**Rock Paper scissors**"
   ]
  },
  {
   "cell_type": "code",
   "execution_count": null,
   "id": "0519b0b8-2bae-4296-a49b-cf9ecf682b2c",
   "metadata": {},
   "outputs": [],
   "source": [
    "import random\n",
    "\n",
    "def play_rps_game():\n",
    "    choices = ['rock', 'paper', 'scissors']\n",
    "    \n",
    "    while True:\n",
    "        user_choice = input(\"Enter your choice (rock, paper, scissors) or 'exit' to end: \").lower()\n",
    "        \n",
    "        if user_choice == 'exit':\n",
    "            break\n",
    "\n",
    "        if user_choice in choices:\n",
    "            computer_choice = random.choice(choices)\n",
    "            print(f\"Computer chose {computer_choice}\")\n",
    "\n",
    "            if user_choice == computer_choice:\n",
    "                print(\"It's a tie!\")\n",
    "            elif (user_choice == 'rock' and computer_choice == 'scissors') or \\\n",
    "                 (user_choice == 'paper' and computer_choice == 'rock') or \\\n",
    "                 (user_choice == 'scissors' and computer_choice == 'paper'):\n",
    "                print(\"You win!\")\n",
    "            else:\n",
    "                print(\"Computer wins!\")\n",
    "        else:\n",
    "            print(\"Invalid choice. Please enter rock, paper, or scissors.\")\n",
    "\n",
    "# Example usage:\n",
    "play_rps_game()"
   ]
  },
  {
   "cell_type": "code",
   "execution_count": null,
   "id": "fa5b7c9d-ee11-4386-ac63-c6bcc91b16ba",
   "metadata": {},
   "outputs": [],
   "source": []
  }
 ],
 "metadata": {
  "kernelspec": {
   "display_name": "Python 3 (ipykernel)",
   "language": "python",
   "name": "python3"
  },
  "language_info": {
   "codemirror_mode": {
    "name": "ipython",
    "version": 3
   },
   "file_extension": ".py",
   "mimetype": "text/x-python",
   "name": "python",
   "nbconvert_exporter": "python",
   "pygments_lexer": "ipython3",
   "version": "3.12.1"
  }
 },
 "nbformat": 4,
 "nbformat_minor": 5
}
