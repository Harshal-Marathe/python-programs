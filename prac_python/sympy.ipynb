{
 "cells": [
  {
   "cell_type": "code",
   "execution_count": 1,
   "id": "abce5b14-7b80-4f06-937b-8b9c9e3e99cb",
   "metadata": {},
   "outputs": [
    {
     "name": "stdout",
     "output_type": "stream",
     "text": [
      "Collecting sympy\n",
      "  Downloading sympy-1.12-py3-none-any.whl.metadata (12 kB)\n",
      "Collecting mpmath>=0.19 (from sympy)\n",
      "  Downloading mpmath-1.3.0-py3-none-any.whl.metadata (8.6 kB)\n",
      "Downloading sympy-1.12-py3-none-any.whl (5.7 MB)\n",
      "   ---------------------------------------- 0.0/5.7 MB ? eta -:--:--\n",
      "   ---------------------------------------- 0.0/5.7 MB ? eta -:--:--\n",
      "   ---------------------------------------- 0.0/5.7 MB ? eta -:--:--\n",
      "   ---------------------------------------- 0.0/5.7 MB ? eta -:--:--\n",
      "   ---------------------------------------- 0.0/5.7 MB ? eta -:--:--\n",
      "   ---------------------------------------- 0.1/5.7 MB 653.6 kB/s eta 0:00:09\n",
      "    --------------------------------------- 0.1/5.7 MB 1.1 MB/s eta 0:00:06\n",
      "    --------------------------------------- 0.1/5.7 MB 1.1 MB/s eta 0:00:06\n",
      "   - -------------------------------------- 0.2/5.7 MB 1.2 MB/s eta 0:00:05\n",
      "   - -------------------------------------- 0.3/5.7 MB 1.0 MB/s eta 0:00:06\n",
      "   -- ------------------------------------- 0.4/5.7 MB 1.3 MB/s eta 0:00:04\n",
      "   -- ------------------------------------- 0.4/5.7 MB 1.3 MB/s eta 0:00:04\n",
      "   --- ------------------------------------ 0.5/5.7 MB 1.3 MB/s eta 0:00:04\n",
      "   --- ------------------------------------ 0.5/5.7 MB 1.3 MB/s eta 0:00:04\n",
      "   ---- ----------------------------------- 0.7/5.7 MB 1.4 MB/s eta 0:00:04\n",
      "   ---- ----------------------------------- 0.7/5.7 MB 1.4 MB/s eta 0:00:04\n",
      "   ----- ---------------------------------- 0.8/5.7 MB 1.5 MB/s eta 0:00:04\n",
      "   ----- ---------------------------------- 0.8/5.7 MB 1.3 MB/s eta 0:00:04\n",
      "   ------ --------------------------------- 1.0/5.7 MB 1.5 MB/s eta 0:00:04\n",
      "   ------- -------------------------------- 1.0/5.7 MB 1.4 MB/s eta 0:00:04\n",
      "   -------- ------------------------------- 1.2/5.7 MB 1.5 MB/s eta 0:00:03\n",
      "   -------- ------------------------------- 1.2/5.7 MB 1.4 MB/s eta 0:00:04\n",
      "   --------- ------------------------------ 1.3/5.7 MB 1.5 MB/s eta 0:00:03\n",
      "   --------- ------------------------------ 1.4/5.7 MB 1.5 MB/s eta 0:00:03\n",
      "   ---------- ----------------------------- 1.5/5.7 MB 1.6 MB/s eta 0:00:03\n",
      "   ----------- ---------------------------- 1.6/5.7 MB 1.6 MB/s eta 0:00:03\n",
      "   ----------- ---------------------------- 1.7/5.7 MB 1.7 MB/s eta 0:00:03\n",
      "   ------------ --------------------------- 1.8/5.7 MB 1.6 MB/s eta 0:00:03\n",
      "   ------------- -------------------------- 1.9/5.7 MB 1.7 MB/s eta 0:00:03\n",
      "   -------------- ------------------------- 2.1/5.7 MB 1.8 MB/s eta 0:00:03\n",
      "   -------------- ------------------------- 2.1/5.7 MB 1.8 MB/s eta 0:00:03\n",
      "   ---------------- ----------------------- 2.4/5.7 MB 1.8 MB/s eta 0:00:02\n",
      "   ---------------- ----------------------- 2.4/5.7 MB 1.8 MB/s eta 0:00:02\n",
      "   ----------------- ---------------------- 2.5/5.7 MB 1.8 MB/s eta 0:00:02\n",
      "   ------------------ --------------------- 2.6/5.7 MB 1.8 MB/s eta 0:00:02\n",
      "   ------------------- -------------------- 2.9/5.7 MB 1.9 MB/s eta 0:00:02\n",
      "   ------------------- -------------------- 2.9/5.7 MB 1.9 MB/s eta 0:00:02\n",
      "   --------------------- ------------------ 3.0/5.7 MB 1.9 MB/s eta 0:00:02\n",
      "   --------------------- ------------------ 3.1/5.7 MB 1.9 MB/s eta 0:00:02\n",
      "   ----------------------- ---------------- 3.4/5.7 MB 2.0 MB/s eta 0:00:02\n",
      "   ----------------------- ---------------- 3.4/5.7 MB 2.0 MB/s eta 0:00:02\n",
      "   ------------------------- -------------- 3.7/5.7 MB 2.1 MB/s eta 0:00:01\n",
      "   -------------------------- ------------- 3.7/5.7 MB 2.1 MB/s eta 0:00:01\n",
      "   --------------------------- ------------ 4.0/5.7 MB 2.1 MB/s eta 0:00:01\n",
      "   --------------------------- ------------ 4.0/5.7 MB 2.1 MB/s eta 0:00:01\n",
      "   ----------------------------- ---------- 4.2/5.7 MB 2.2 MB/s eta 0:00:01\n",
      "   ----------------------------- ---------- 4.3/5.7 MB 2.2 MB/s eta 0:00:01\n",
      "   -------------------------------- ------- 4.6/5.7 MB 2.3 MB/s eta 0:00:01\n",
      "   -------------------------------- ------- 4.6/5.7 MB 2.3 MB/s eta 0:00:01\n",
      "   --------------------------------- ------ 4.8/5.7 MB 2.3 MB/s eta 0:00:01\n",
      "   ---------------------------------- ----- 4.9/5.7 MB 2.3 MB/s eta 0:00:01\n",
      "   ------------------------------------ --- 5.2/5.7 MB 2.3 MB/s eta 0:00:01\n",
      "   ------------------------------------- -- 5.3/5.7 MB 2.3 MB/s eta 0:00:01\n",
      "   -------------------------------------- - 5.6/5.7 MB 2.4 MB/s eta 0:00:01\n",
      "   ---------------------------------------  5.7/5.7 MB 2.4 MB/s eta 0:00:01\n",
      "   ---------------------------------------- 5.7/5.7 MB 2.4 MB/s eta 0:00:00\n",
      "Downloading mpmath-1.3.0-py3-none-any.whl (536 kB)\n",
      "   ---------------------------------------- 0.0/536.2 kB ? eta -:--:--\n",
      "   -------------- ------------------------ 204.8/536.2 kB 13.0 MB/s eta 0:00:01\n",
      "   ----------------------------- ---------- 389.1/536.2 kB 4.9 MB/s eta 0:00:01\n",
      "   ---------------------------------------- 536.2/536.2 kB 4.8 MB/s eta 0:00:00\n",
      "Installing collected packages: mpmath, sympy\n",
      "Successfully installed mpmath-1.3.0 sympy-1.12\n"
     ]
    }
   ],
   "source": [
    "!pip install sympy"
   ]
  },
  {
   "cell_type": "code",
   "execution_count": 2,
   "id": "b6c24741-c6ff-41ac-a9ff-e6c184420029",
   "metadata": {},
   "outputs": [],
   "source": [
    "from sympy import *"
   ]
  },
  {
   "cell_type": "code",
   "execution_count": 14,
   "id": "0887b3c8-3d19-4e59-bf42-cb116ba58542",
   "metadata": {},
   "outputs": [
    {
     "name": "stdout",
     "output_type": "stream",
     "text": [
      "Original Expression: (x**2 + 2*x*y + y**2)/(x**2 - y**2)\n",
      "Simplified Expression: (x + y)/(x - y)\n"
     ]
    }
   ],
   "source": [
    "\n",
    "x, y = symbols('x y')\n",
    "expression = (x**2 + 2*x*y + y**2) / (x**2 - y**2)\n",
    "simplified_expression = simplify(expression)\n",
    "\n",
    "print(\"Original Expression:\", expression)\n",
    "print(\"Simplified Expression:\", simplified_expression)"
   ]
  },
  {
   "cell_type": "code",
   "execution_count": 15,
   "id": "9adad7dd-c41f-473d-be05-4624b9dca953",
   "metadata": {},
   "outputs": [
    {
     "name": "stdout",
     "output_type": "stream",
     "text": [
      "Original Expression: (x + y)**3\n",
      "Expanded Expression: x**3 + 3*x**2*y + 3*x*y**2 + y**3\n"
     ]
    }
   ],
   "source": [
    "\n",
    "x, y = symbols('x y')\n",
    "expression = (x + y)**3\n",
    "expanded_expression = expand(expression)\n",
    "\n",
    "print(\"Original Expression:\", expression)\n",
    "print(\"Expanded Expression:\", expanded_expression)"
   ]
  },
  {
   "cell_type": "code",
   "execution_count": 16,
   "id": "fb74e5eb-cca4-4d35-acd2-ce437f371216",
   "metadata": {},
   "outputs": [
    {
     "name": "stdout",
     "output_type": "stream",
     "text": [
      "Original Expression: x**3 - 6*x**2 + 11*x - 6\n",
      "Factored Expression: (x - 3)*(x - 2)*(x - 1)\n"
     ]
    }
   ],
   "source": [
    "\n",
    "x = symbols('x')\n",
    "expression = x**3 - 6*x**2 + 11*x - 6\n",
    "factored_expression = factor(expression)\n",
    "\n",
    "print(\"Original Expression:\", expression)\n",
    "print(\"Factored Expression:\", factored_expression)"
   ]
  },
  {
   "cell_type": "code",
   "execution_count": 17,
   "id": "3a201a13-6484-4618-84b2-25c43ee3f804",
   "metadata": {},
   "outputs": [
    {
     "name": "stdout",
     "output_type": "stream",
     "text": [
      "Original Expression: x**3 + 2*x**2 + 5*x + 7\n",
      "Derivative: 3*x**2 + 4*x + 5\n"
     ]
    }
   ],
   "source": [
    "\n",
    "x = symbols('x')\n",
    "expression = x**3 + 2*x**2 + 5*x + 7\n",
    "derivative = diff(expression, x)\n",
    "\n",
    "print(\"Original Expression:\", expression)\n",
    "print(\"Derivative:\", derivative)"
   ]
  },
  {
   "cell_type": "code",
   "execution_count": 18,
   "id": "a2521ba6-43f7-4f15-a9af-50ab358cd922",
   "metadata": {},
   "outputs": [
    {
     "name": "stdout",
     "output_type": "stream",
     "text": [
      "Original Expression: x**2 + 3*x + 5\n",
      "Indefinite Integral: x**3/3 + 3*x**2/2 + 5*x\n",
      "41/6\n",
      "AccumBounds(-2, 2)\n"
     ]
    }
   ],
   "source": [
    "\n",
    "x = symbols('x')\n",
    "expression = x**2 + 3*x + 5\n",
    "integral = integrate(expression, x)\n",
    "\n",
    "print(\"Original Expression:\", expression)\n",
    "print(\"Indefinite Integral:\", integral)\n",
    "print(integrate(x**2 + 3*x + 5,(x,0,1)))\n",
    "print(integrate(cos(x),  (x, -oo, oo)))"
   ]
  },
  {
   "cell_type": "code",
   "execution_count": 19,
   "id": "3d6a8546-449d-4b76-9ce5-053dcff279c7",
   "metadata": {},
   "outputs": [
    {
     "name": "stdout",
     "output_type": "stream",
     "text": [
      "Original Expression: (x**2 - 1)/(x - 1)\n",
      "Limit as x approaches 1: 2\n"
     ]
    }
   ],
   "source": [
    "x = symbols('x')\n",
    "expression = (x**2 - 1) / (x - 1)\n",
    "lim = limit(expression, x, 1)\n",
    "\n",
    "print(\"Original Expression:\", expression)\n",
    "print(\"Limit as x approaches 1:\", lim)"
   ]
  },
  {
   "cell_type": "code",
   "execution_count": null,
   "id": "c42b57d8-f34d-4bb2-80bd-8a169722af76",
   "metadata": {},
   "outputs": [],
   "source": []
  },
  {
   "cell_type": "code",
   "execution_count": null,
   "id": "33261187-dc53-4c0d-a366-e36349a9bd32",
   "metadata": {},
   "outputs": [],
   "source": []
  },
  {
   "cell_type": "code",
   "execution_count": null,
   "id": "4b7c006f-0551-4450-a34e-b47652aea9a7",
   "metadata": {},
   "outputs": [],
   "source": []
  },
  {
   "cell_type": "code",
   "execution_count": 3,
   "id": "b928d953-02f7-48d5-9a19-cccb2da4668a",
   "metadata": {},
   "outputs": [
    {
     "ename": "ImportError",
     "evalue": "cannot import name 'eigenvals' from 'sympy' (C:\\python123\\Lib\\site-packages\\sympy\\__init__.py)",
     "output_type": "error",
     "traceback": [
      "\u001b[1;31m---------------------------------------------------------------------------\u001b[0m",
      "\u001b[1;31mImportError\u001b[0m                               Traceback (most recent call last)",
      "Cell \u001b[1;32mIn[3], line 1\u001b[0m\n\u001b[1;32m----> 1\u001b[0m \u001b[38;5;28;01mfrom\u001b[39;00m \u001b[38;5;21;01msympy\u001b[39;00m \u001b[38;5;28;01mimport\u001b[39;00m Matrix, eigenvals, eigenvects\n\u001b[0;32m      3\u001b[0m \u001b[38;5;66;03m# Define a symbolic matrix\u001b[39;00m\n\u001b[0;32m      4\u001b[0m matrix \u001b[38;5;241m=\u001b[39m Matrix([[\u001b[38;5;241m3\u001b[39m, \u001b[38;5;241m1\u001b[39m], [\u001b[38;5;241m1\u001b[39m, \u001b[38;5;241m3\u001b[39m]])\n",
      "\u001b[1;31mImportError\u001b[0m: cannot import name 'eigenvals' from 'sympy' (C:\\python123\\Lib\\site-packages\\sympy\\__init__.py)"
     ]
    }
   ],
   "source": [
    "from sympy import Matrix, eigenvals, eigenvects\n",
    "\n",
    "# Define a symbolic matrix\n",
    "matrix = Matrix([[3, 1], [1, 3]])\n",
    "\n",
    "# Compute eigenvalues of the matrix\n",
    "eigenvalues = eigenvals(matrix)\n",
    "\n",
    "print(\"Symbolic Matrix:\")\n",
    "print(matrix)\n",
    "print(\"\\nEigenvalues:\", eigenvalues)\n",
    "\n",
    "# Compute eigenvectors of the matrix\n",
    "eigenvectors = eigenvects(matrix)\n",
    "\n",
    "print(\"\\nEigenvectors:\")\n",
    "for eigenvalue, multiplicity, eigenvector in eigenvectors:\n",
    "    print(f\"Eigenvalue: {eigenvalue}, Multiplicity: {multiplicity}, Eigenvector: {eigenvector}\")"
   ]
  },
  {
   "cell_type": "code",
   "execution_count": 8,
   "id": "a7758b3b-8e17-413a-affd-bdb1a816dc9e",
   "metadata": {},
   "outputs": [
    {
     "data": {
      "image/png": "[encoded data removed]",
      "text/plain": [
       "<Figure size 640x480 with 1 Axes>"
      ]
     },
     "metadata": {},
     "output_type": "display_data"
    }
   ],
   "source": [
    "x = symbols('x')\n",
    "\n",
    "# Define the expression to plot\n",
    "expression = x**3\n",
    "\n",
    "# Create the plot\n",
    "p = plot(expression, (x, -10, 10), show=False)\n",
    "\n",
    "# Customize the plot (optional)\n",
    "p.title = 'Plot of x^2'\n",
    "p.xlabel = 'x-axis'\n",
    "p.ylabel = 'y-axis'\n",
    "\n",
    "# Show the plot\n",
    "p.show()"
   ]
  },
  {
   "cell_type": "code",
   "execution_count": null,
   "id": "1b7b731e-3463-46b1-ab19-eaa22c8001d1",
   "metadata": {},
   "outputs": [],
   "source": []
  }
 ],
 "metadata": {
  "kernelspec": {
   "display_name": "Python 3 (ipykernel)",
   "language": "python",
   "name": "python3"
  },
  "language_info": {
   "codemirror_mode": {
    "name": "ipython",
    "version": 3
   },
   "file_extension": ".py",
   "mimetype": "text/x-python",
   "name": "python",
   "nbconvert_exporter": "python",
   "pygments_lexer": "ipython3",
   "version": "3.12.1"
  }
 },
 "nbformat": 4,
 "nbformat_minor": 5
}
