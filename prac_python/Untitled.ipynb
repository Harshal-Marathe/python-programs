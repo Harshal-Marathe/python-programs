{
 "cells": [
  {
   "cell_type": "code",
   "execution_count": null,
   "id": "22ee9e43-6945-4da2-a630-27b3882a1272",
   "metadata": {},
   "outputs": [],
   "source": []
  },
  {
   "cell_type": "raw",
   "id": "8acf7384-3b83-4a4d-9a37-0649576593af",
   "metadata": {},
   "source": []
  },
  {
   "cell_type": "code",
   "execution_count": null,
   "id": "d2eef1ef-016a-4190-aec5-e02ba9d16147",
   "metadata": {},
   "outputs": [],
   "source": []
  },
  {
   "cell_type": "raw",
   "id": "2994a79f-1db5-4b3b-8880-c729f19b4183",
   "metadata": {},
   "source": []
  },
  {
   "cell_type": "code",
   "execution_count": null,
   "id": "67502ea1-579a-41e7-b6fd-a89951e19430",
   "metadata": {},
   "outputs": [],
   "source": []
  },
  {
   "cell_type": "code",
   "execution_count": null,
   "id": "fc986e95-a7e3-4b5a-ac3f-696393686a7e",
   "metadata": {},
   "outputs": [],
   "source": [
    "user_input=input(\"Enter your word\")\n",
    "\n",
    "for i in set(userinput):\n",
    "    print(f\"{i} occurs {user_input.count(i)} times in {user_input}\")\n",
    "    "
   ]
  },
  {
   "cell_type": "code",
   "execution_count": null,
   "id": "7051bdea-c03e-4549-8afc-9b89d5ef89e6",
   "metadata": {},
   "outputs": [],
   "source": []
  }
 ],
 "metadata": {
  "kernelspec": {
   "display_name": "Python 3 (ipykernel)",
   "language": "python",
   "name": "python3"
  },
  "language_info": {
   "codemirror_mode": {
    "name": "ipython",
    "version": 3
   },
   "file_extension": ".py",
   "mimetype": "text/x-python",
   "name": "python",
   "nbconvert_exporter": "python",
   "pygments_lexer": "ipython3",
   "version": "3.12.1"
  }
 },
 "nbformat": 4,
 "nbformat_minor": 5
}
