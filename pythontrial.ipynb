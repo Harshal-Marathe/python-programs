{
 "cells": [
  {
   "cell_type": "code",
   "execution_count": 1,
   "id": "758840aa-d435-4aab-a8c1-af90ed481d53",
   "metadata": {},
   "outputs": [
    {
     "name": "stdout",
     "output_type": "stream",
     "text": [
      "9 x 1 = 9\n",
      "9 x 2 = 18\n",
      "9 x 3 = 27\n",
      "9 x 4 = 36\n",
      "9 x 5 = 45\n",
      "9 x 6 = 54\n",
      "9 x 7 = 63\n",
      "9 x 8 = 72\n",
      "9 x 9 = 81\n",
      "9 x 10 = 90\n"
     ]
    }
   ],
   "source": [
    "num = 9\n",
    "i = 1\n",
    "\n",
    "while i <= 10:\n",
    "    result = num * i\n",
    "    print(f\"{num} x {i} = {result}\")\n",
    "    i += 1\n"
   ]
  },
  {
   "cell_type": "code",
   "execution_count": 4,
   "id": "21d34c84-3b36-4d95-9abf-83c05f3848fd",
   "metadata": {},
   "outputs": [
    {
     "name": "stdout",
     "output_type": "stream",
     "text": [
      "9 * 1 =9\n",
      "9 * 2 =18\n",
      "9 * 3 =27\n",
      "9 * 4 =36\n",
      "9 * 5 =45\n",
      "9 * 6 =54\n",
      "9 * 7 =63\n",
      "9 * 8 =72\n",
      "9 * 9 =81\n",
      "9 * 10 =90\n"
     ]
    }
   ],
   "source": [
    "i=1\n",
    "while i <11:\n",
    "    print(f\"9 * {i} ={9*i}\")\n",
    "    i+=1"
   ]
  },
  {
   "cell_type": "code",
   "execution_count": 5,
   "id": "955ff27d-fbf3-44b3-b8e7-20c17fa0e43c",
   "metadata": {},
   "outputs": [
    {
     "name": "stdout",
     "output_type": "stream",
     "text": [
      "Series([], dtype: object)\n"
     ]
    }
   ],
   "source": [
    "import pandas as pd\n",
    "my_series=pd.Series()\n",
    "print(my_series)"
   ]
  },
  {
   "cell_type": "code",
   "execution_count": 10,
   "id": "d9478c9b-3090-49aa-a02c-08bdcaec82e9",
   "metadata": {},
   "outputs": [
    {
     "name": "stdout",
     "output_type": "stream",
     "text": [
      "[10 20 30 40 50]\n",
      "0    10\n",
      "1    20\n",
      "2    30\n",
      "3    40\n",
      "4    50\n",
      "dtype: int32\n"
     ]
    }
   ],
   "source": [
    "import numpy as np\n",
    "import pandas as pd\n",
    "\n",
    "my_array=np.array([10,20,30,40,50])\n",
    "my_series=pd.Series(my_array)\n",
    "print(my_array)\n",
    "print(my_series)"
   ]
  },
  {
   "cell_type": "code",
   "execution_count": 11,
   "id": "e80f6998-effa-46f1-8abb-865a56b6210b",
   "metadata": {},
   "outputs": [
    {
     "name": "stdout",
     "output_type": "stream",
     "text": [
      "num1    10\n",
      "num2    20\n",
      "num3    30\n",
      "num4    40\n",
      "num5    50\n",
      "dtype: int32\n"
     ]
    }
   ],
   "source": [
    "my_array=np.array([10,20,30,40,50])\n",
    "my_series=pd.Series(my_array,index=[\"num1\",\"num2\",\"num3\",\"num4\",\"num5\"])\n",
    "print(my_series)"
   ]
  },
  {
   "cell_type": "code",
   "execution_count": 12,
   "id": "82b06623-1120-40c7-9683-d3c871911160",
   "metadata": {},
   "outputs": [
    {
     "name": "stdout",
     "output_type": "stream",
     "text": [
      "num1    10\n",
      "num2    20\n",
      "num3    30\n",
      "num4    40\n",
      "num5    50\n",
      "dtype: int64\n"
     ]
    }
   ],
   "source": [
    "\n",
    "my_series=pd.Series([10,20,30,40,50],index=[\"num1\",\"num2\",\"num3\",\"num4\",\"num5\"])\n",
    "print(my_series)"
   ]
  },
  {
   "cell_type": "code",
   "execution_count": 13,
   "id": "bf2dbd08-f28a-417c-ae58-eb8d3a8a92d1",
   "metadata": {},
   "outputs": [
    {
     "name": "stdout",
     "output_type": "stream",
     "text": [
      "num1    6\n",
      "num2    7\n",
      "num3    9\n",
      "dtype: int64\n"
     ]
    }
   ],
   "source": [
    "my_dict={'num1':6,'num2':7,'num3':9}\n",
    "my_series=pd.Series(my_dict)\n",
    "print(my_series)"
   ]
  },
  {
   "cell_type": "code",
   "execution_count": 14,
   "id": "7f5f91fd-200d-4eaf-a60a-4b4ee7749a8a",
   "metadata": {},
   "outputs": [
    {
     "name": "stdout",
     "output_type": "stream",
     "text": [
      "6\n"
     ]
    },
    {
     "name": "stderr",
     "output_type": "stream",
     "text": [
      "C:\\Users\\marat\\AppData\\Local\\Temp\\ipykernel_17600\\739979572.py:1: FutureWarning: Series.__getitem__ treating keys as positions is deprecated. In a future version, integer keys will always be treated as labels (consistent with DataFrame behavior). To access a value by position, use `ser.iloc[pos]`\n",
      "  print(my_series[0])\n"
     ]
    }
   ],
   "source": [
    "print(my_series[0])"
   ]
  },
  {
   "cell_type": "code",
   "execution_count": 15,
   "id": "721fc654-eb3c-4a74-a910-1817ae52afe1",
   "metadata": {},
   "outputs": [
    {
     "name": "stdout",
     "output_type": "stream",
     "text": [
      "9\n"
     ]
    }
   ],
   "source": [
    "print(my_series['num3'])"
   ]
  },
  {
   "cell_type": "code",
   "execution_count": 17,
   "id": "49a0a4be-0a3b-431c-a09d-65d5e14831ea",
   "metadata": {},
   "outputs": [
    {
     "name": "stdout",
     "output_type": "stream",
     "text": [
      "2\n",
      "8\n"
     ]
    }
   ],
   "source": [
    "my_series=pd.Series([5,6,2,3,7,8,4])\n",
    "print(np.min(my_series))\n",
    "print(np.max(my_series))"
   ]
  },
  {
   "cell_type": "code",
   "execution_count": 24,
   "id": "57aa8e62-a661-4b9d-ae44-a12d9de08aeb",
   "metadata": {},
   "outputs": [
    {
     "name": "stdout",
     "output_type": "stream",
     "text": [
      "20.45\n",
      "7.85\n"
     ]
    }
   ],
   "source": [
    "series1=pd.Series([4,2,7,34,67,8.7])\n",
    "print(series1.mean())\n",
    "print(series1.median())"
   ]
  },
  {
   "cell_type": "code",
   "execution_count": 26,
   "id": "c98fc978-d729-4680-969f-b3dc4c73931a",
   "metadata": {},
   "outputs": [
    {
     "name": "stdout",
     "output_type": "stream",
     "text": [
      "[4.0, 2.0, 7.0, 34.0, 67.0, 8.7]\n"
     ]
    }
   ],
   "source": [
    "series1=pd.Series([4,2,7,34,67,8.7])\n",
    "print(series1.tolist())"
   ]
  },
  {
   "cell_type": "code",
   "execution_count": 25,
   "id": "6478b938-99e1-48c0-b72e-d2b6b10a7bdd",
   "metadata": {},
   "outputs": [
    {
     "name": "stdout",
     "output_type": "stream",
     "text": [
      "Empty DataFrame\n",
      "Columns: []\n",
      "Index: []\n"
     ]
    }
   ],
   "source": [
    "my_df=pd.DataFrame()\n",
    "print(my_df)"
   ]
  },
  {
   "cell_type": "code",
   "execution_count": 29,
   "id": "e01ef74c-72e4-4ed0-9c5d-63c3bbc8ac50",
   "metadata": {},
   "outputs": [
    {
     "name": "stdout",
     "output_type": "stream",
     "text": [
      "    Suject  Score\n",
      "0    maths     95\n",
      "1  history     79\n",
      "2  English     89\n"
     ]
    }
   ],
   "source": [
    " scores=[['maths',95],['history',79],['English',89]]\n",
    "my_df=pd.DataFrame(scores,columns=['Suject','Score'])\n",
    "print(my_df)"
   ]
  },
  {
   "cell_type": "code",
   "execution_count": 30,
   "id": "30b7869a-aa47-4502-894c-28e6ef142cee",
   "metadata": {},
   "outputs": [
    {
     "name": "stdout",
     "output_type": "stream",
     "text": [
      "     Subject  Scores\n",
      "0      Maths      89\n",
      "1    History      79\n",
      "2  Geography      85\n",
      "3    Marathi      67\n",
      "4     polity      88\n",
      "5  Statistic      93\n"
     ]
    }
   ],
   "source": [
    "scores={'Subject':['Maths','History','Geography','Marathi','polity','Statistic'],'Scores':[89,79,85,67,88,93]}\n",
    "my_df=pd.DataFrame(scores)\n",
    "print(my_df)"
   ]
  },
  {
   "cell_type": "code",
   "execution_count": 32,
   "id": "d5262c59-2db3-4471-b52f-006107d95e1c",
   "metadata": {},
   "outputs": [
    {
     "data": {
      "text/html": [
       "<div>\n",
       "<style scoped>\n",
       "    .dataframe tbody tr th:only-of-type {\n",
       "        vertical-align: middle;\n",
       "    }\n",
       "\n",
       "    .dataframe tbody tr th {\n",
       "        vertical-align: top;\n",
       "    }\n",
       "\n",
       "    .dataframe thead th {\n",
       "        text-align: right;\n",
       "    }\n",
       "</style>\n",
       "<table border=\"1\" class=\"dataframe\">\n",
       "  <thead>\n",
       "    <tr style=\"text-align: right;\">\n",
       "      <th></th>\n",
       "      <th>Subject</th>\n",
       "      <th>Scores</th>\n",
       "    </tr>\n",
       "  </thead>\n",
       "  <tbody>\n",
       "    <tr>\n",
       "      <th>0</th>\n",
       "      <td>Maths</td>\n",
       "      <td>89</td>\n",
       "    </tr>\n",
       "    <tr>\n",
       "      <th>1</th>\n",
       "      <td>History</td>\n",
       "      <td>79</td>\n",
       "    </tr>\n",
       "  </tbody>\n",
       "</table>\n",
       "</div>"
      ],
      "text/plain": [
       "   Subject  Scores\n",
       "0    Maths      89\n",
       "1  History      79"
      ]
     },
     "execution_count": 32,
     "metadata": {},
     "output_type": "execute_result"
    }
   ],
   "source": [
    "my_df.head(2)"
   ]
  },
  {
   "cell_type": "code",
   "execution_count": 33,
   "id": "f761552e-ca5c-457b-bfa4-791420d6eb93",
   "metadata": {},
   "outputs": [
    {
     "data": {
      "text/html": [
       "<div>\n",
       "<style scoped>\n",
       "    .dataframe tbody tr th:only-of-type {\n",
       "        vertical-align: middle;\n",
       "    }\n",
       "\n",
       "    .dataframe tbody tr th {\n",
       "        vertical-align: top;\n",
       "    }\n",
       "\n",
       "    .dataframe thead th {\n",
       "        text-align: right;\n",
       "    }\n",
       "</style>\n",
       "<table border=\"1\" class=\"dataframe\">\n",
       "  <thead>\n",
       "    <tr style=\"text-align: right;\">\n",
       "      <th></th>\n",
       "      <th>Subject</th>\n",
       "      <th>Scores</th>\n",
       "    </tr>\n",
       "  </thead>\n",
       "  <tbody>\n",
       "    <tr>\n",
       "      <th>4</th>\n",
       "      <td>polity</td>\n",
       "      <td>88</td>\n",
       "    </tr>\n",
       "    <tr>\n",
       "      <th>5</th>\n",
       "      <td>Statistic</td>\n",
       "      <td>93</td>\n",
       "    </tr>\n",
       "  </tbody>\n",
       "</table>\n",
       "</div>"
      ],
      "text/plain": [
       "     Subject  Scores\n",
       "4     polity      88\n",
       "5  Statistic      93"
      ]
     },
     "execution_count": 33,
     "metadata": {},
     "output_type": "execute_result"
    }
   ],
   "source": [
    "my_df.tail(2)"
   ]
  },
  {
   "cell_type": "code",
   "execution_count": 34,
   "id": "69009cd5-1ff5-490a-b6c9-7231201c12c8",
   "metadata": {},
   "outputs": [
    {
     "data": {
      "text/html": [
       "<div>\n",
       "<style scoped>\n",
       "    .dataframe tbody tr th:only-of-type {\n",
       "        vertical-align: middle;\n",
       "    }\n",
       "\n",
       "    .dataframe tbody tr th {\n",
       "        vertical-align: top;\n",
       "    }\n",
       "\n",
       "    .dataframe thead th {\n",
       "        text-align: right;\n",
       "    }\n",
       "</style>\n",
       "<table border=\"1\" class=\"dataframe\">\n",
       "  <thead>\n",
       "    <tr style=\"text-align: right;\">\n",
       "      <th></th>\n",
       "      <th>Scores</th>\n",
       "    </tr>\n",
       "  </thead>\n",
       "  <tbody>\n",
       "    <tr>\n",
       "      <th>count</th>\n",
       "      <td>6.000000</td>\n",
       "    </tr>\n",
       "    <tr>\n",
       "      <th>mean</th>\n",
       "      <td>83.500000</td>\n",
       "    </tr>\n",
       "    <tr>\n",
       "      <th>std</th>\n",
       "      <td>9.332738</td>\n",
       "    </tr>\n",
       "    <tr>\n",
       "      <th>min</th>\n",
       "      <td>67.000000</td>\n",
       "    </tr>\n",
       "    <tr>\n",
       "      <th>25%</th>\n",
       "      <td>80.500000</td>\n",
       "    </tr>\n",
       "    <tr>\n",
       "      <th>50%</th>\n",
       "      <td>86.500000</td>\n",
       "    </tr>\n",
       "    <tr>\n",
       "      <th>75%</th>\n",
       "      <td>88.750000</td>\n",
       "    </tr>\n",
       "    <tr>\n",
       "      <th>max</th>\n",
       "      <td>93.000000</td>\n",
       "    </tr>\n",
       "  </tbody>\n",
       "</table>\n",
       "</div>"
      ],
      "text/plain": [
       "          Scores\n",
       "count   6.000000\n",
       "mean   83.500000\n",
       "std     9.332738\n",
       "min    67.000000\n",
       "25%    80.500000\n",
       "50%    86.500000\n",
       "75%    88.750000\n",
       "max    93.000000"
      ]
     },
     "execution_count": 34,
     "metadata": {},
     "output_type": "execute_result"
    }
   ],
   "source": [
    "my_df.describe()"
   ]
  },
  {
   "cell_type": "code",
   "execution_count": 35,
   "id": "cf2c3a06-c170-4b91-adff-148bcb03c912",
   "metadata": {},
   "outputs": [
    {
     "data": {
      "text/plain": [
       "Subject    polity\n",
       "Scores         93\n",
       "dtype: object"
      ]
     },
     "execution_count": 35,
     "metadata": {},
     "output_type": "execute_result"
    }
   ],
   "source": [
    "my_df.max()"
   ]
  },
  {
   "cell_type": "code",
   "execution_count": 36,
   "id": "99fb5988-c363-4e8f-a79f-9ca373c62c71",
   "metadata": {},
   "outputs": [
    {
     "data": {
      "text/plain": [
       "Subject    Geography\n",
       "Scores            67\n",
       "dtype: object"
      ]
     },
     "execution_count": 36,
     "metadata": {},
     "output_type": "execute_result"
    }
   ],
   "source": [
    "my_df.min()"
   ]
  },
  {
   "cell_type": "code",
   "execution_count": 39,
   "id": "4463307a-8efd-408b-9149-a1af6b8f02dd",
   "metadata": {},
   "outputs": [
    {
     "name": "stdout",
     "output_type": "stream",
     "text": [
      "<class 'pandas.core.frame.DataFrame'>\n",
      "RangeIndex: 6 entries, 0 to 5\n",
      "Data columns (total 2 columns):\n",
      " #   Column   Non-Null Count  Dtype \n",
      "---  ------   --------------  ----- \n",
      " 0   Subject  6 non-null      object\n",
      " 1   Scores   6 non-null      int64 \n",
      "dtypes: int64(1), object(1)\n",
      "memory usage: 228.0+ bytes\n"
     ]
    }
   ],
   "source": [
    "my_df.info()"
   ]
  },
  {
   "cell_type": "code",
   "execution_count": 41,
   "id": "14fff31a-fb7c-4ac0-8cd9-8cb2e7d711c3",
   "metadata": {},
   "outputs": [],
   "source": [
    "data=pd.read_csv(r\"E:\\stat\\datasets\\customer_segmentation_data.csv\")"
   ]
  },
  {
   "cell_type": "code",
   "execution_count": 42,
   "id": "bd4b08f1-466a-4a4b-b4aa-08171c703ec7",
   "metadata": {},
   "outputs": [
    {
     "data": {
      "text/html": [
       "<div>\n",
       "<style scoped>\n",
       "    .dataframe tbody tr th:only-of-type {\n",
       "        vertical-align: middle;\n",
       "    }\n",
       "\n",
       "    .dataframe tbody tr th {\n",
       "        vertical-align: top;\n",
       "    }\n",
       "\n",
       "    .dataframe thead th {\n",
       "        text-align: right;\n",
       "    }\n",
       "</style>\n",
       "<table border=\"1\" class=\"dataframe\">\n",
       "  <thead>\n",
       "    <tr style=\"text-align: right;\">\n",
       "      <th></th>\n",
       "      <th>Customer ID</th>\n",
       "      <th>Age</th>\n",
       "      <th>Gender</th>\n",
       "      <th>Marital Status</th>\n",
       "      <th>Education Level</th>\n",
       "      <th>Geographic Information</th>\n",
       "      <th>Occupation</th>\n",
       "      <th>Income Level</th>\n",
       "      <th>Behavioral Data</th>\n",
       "      <th>Purchase History</th>\n",
       "      <th>Interactions with Customer Service</th>\n",
       "      <th>Insurance Products Owned</th>\n",
       "      <th>Coverage Amount</th>\n",
       "      <th>Premium Amount</th>\n",
       "      <th>Policy Type</th>\n",
       "      <th>Customer Preferences</th>\n",
       "      <th>Preferred Communication Channel</th>\n",
       "      <th>Preferred Contact Time</th>\n",
       "      <th>Preferred Language</th>\n",
       "      <th>Segmentation Group</th>\n",
       "    </tr>\n",
       "  </thead>\n",
       "  <tbody>\n",
       "    <tr>\n",
       "      <th>0</th>\n",
       "      <td>84966</td>\n",
       "      <td>23</td>\n",
       "      <td>Female</td>\n",
       "      <td>Married</td>\n",
       "      <td>Associate Degree</td>\n",
       "      <td>Mizoram</td>\n",
       "      <td>Entrepreneur</td>\n",
       "      <td>70541</td>\n",
       "      <td>policy5</td>\n",
       "      <td>04-10-2018</td>\n",
       "      <td>Phone</td>\n",
       "      <td>policy2</td>\n",
       "      <td>366603</td>\n",
       "      <td>2749</td>\n",
       "      <td>Group</td>\n",
       "      <td>Email</td>\n",
       "      <td>In-Person Meeting</td>\n",
       "      <td>Afternoon</td>\n",
       "      <td>English</td>\n",
       "      <td>Segment5</td>\n",
       "    </tr>\n",
       "    <tr>\n",
       "      <th>1</th>\n",
       "      <td>95568</td>\n",
       "      <td>26</td>\n",
       "      <td>Male</td>\n",
       "      <td>Widowed</td>\n",
       "      <td>Doctorate</td>\n",
       "      <td>Goa</td>\n",
       "      <td>Manager</td>\n",
       "      <td>54168</td>\n",
       "      <td>policy5</td>\n",
       "      <td>11-06-2018</td>\n",
       "      <td>Chat</td>\n",
       "      <td>policy1</td>\n",
       "      <td>780236</td>\n",
       "      <td>1966</td>\n",
       "      <td>Group</td>\n",
       "      <td>Mail</td>\n",
       "      <td>In-Person Meeting</td>\n",
       "      <td>Morning</td>\n",
       "      <td>French</td>\n",
       "      <td>Segment5</td>\n",
       "    </tr>\n",
       "    <tr>\n",
       "      <th>2</th>\n",
       "      <td>10544</td>\n",
       "      <td>29</td>\n",
       "      <td>Female</td>\n",
       "      <td>Single</td>\n",
       "      <td>Associate Degree</td>\n",
       "      <td>Rajasthan</td>\n",
       "      <td>Entrepreneur</td>\n",
       "      <td>73899</td>\n",
       "      <td>policy5</td>\n",
       "      <td>06-05-2021</td>\n",
       "      <td>Email</td>\n",
       "      <td>policy3</td>\n",
       "      <td>773926</td>\n",
       "      <td>4413</td>\n",
       "      <td>Group</td>\n",
       "      <td>Email</td>\n",
       "      <td>Mail</td>\n",
       "      <td>Evening</td>\n",
       "      <td>German</td>\n",
       "      <td>Segment3</td>\n",
       "    </tr>\n",
       "    <tr>\n",
       "      <th>3</th>\n",
       "      <td>77033</td>\n",
       "      <td>20</td>\n",
       "      <td>Male</td>\n",
       "      <td>Divorced</td>\n",
       "      <td>Bachelor's Degree</td>\n",
       "      <td>Sikkim</td>\n",
       "      <td>Entrepreneur</td>\n",
       "      <td>63381</td>\n",
       "      <td>policy5</td>\n",
       "      <td>09-02-2018</td>\n",
       "      <td>Chat</td>\n",
       "      <td>policy2</td>\n",
       "      <td>787815</td>\n",
       "      <td>4342</td>\n",
       "      <td>Family</td>\n",
       "      <td>Text</td>\n",
       "      <td>In-Person Meeting</td>\n",
       "      <td>Anytime</td>\n",
       "      <td>French</td>\n",
       "      <td>Segment3</td>\n",
       "    </tr>\n",
       "    <tr>\n",
       "      <th>4</th>\n",
       "      <td>88160</td>\n",
       "      <td>25</td>\n",
       "      <td>Female</td>\n",
       "      <td>Separated</td>\n",
       "      <td>Bachelor's Degree</td>\n",
       "      <td>West Bengal</td>\n",
       "      <td>Manager</td>\n",
       "      <td>38794</td>\n",
       "      <td>policy1</td>\n",
       "      <td>09-10-2018</td>\n",
       "      <td>Chat</td>\n",
       "      <td>policy4</td>\n",
       "      <td>366506</td>\n",
       "      <td>1276</td>\n",
       "      <td>Family</td>\n",
       "      <td>Email</td>\n",
       "      <td>Text</td>\n",
       "      <td>Weekends</td>\n",
       "      <td>English</td>\n",
       "      <td>Segment2</td>\n",
       "    </tr>\n",
       "  </tbody>\n",
       "</table>\n",
       "</div>"
      ],
      "text/plain": [
       "   Customer ID  Age  Gender Marital Status    Education Level  \\\n",
       "0        84966   23  Female        Married   Associate Degree   \n",
       "1        95568   26    Male        Widowed          Doctorate   \n",
       "2        10544   29  Female         Single   Associate Degree   \n",
       "3        77033   20    Male       Divorced  Bachelor's Degree   \n",
       "4        88160   25  Female      Separated  Bachelor's Degree   \n",
       "\n",
       "  Geographic Information    Occupation  Income Level Behavioral Data  \\\n",
       "0                Mizoram  Entrepreneur         70541         policy5   \n",
       "1                    Goa       Manager         54168         policy5   \n",
       "2              Rajasthan  Entrepreneur         73899         policy5   \n",
       "3                 Sikkim  Entrepreneur         63381         policy5   \n",
       "4            West Bengal       Manager         38794         policy1   \n",
       "\n",
       "  Purchase History Interactions with Customer Service  \\\n",
       "0       04-10-2018                              Phone   \n",
       "1       11-06-2018                               Chat   \n",
       "2       06-05-2021                              Email   \n",
       "3       09-02-2018                               Chat   \n",
       "4       09-10-2018                               Chat   \n",
       "\n",
       "  Insurance Products Owned  Coverage Amount  Premium Amount Policy Type  \\\n",
       "0                  policy2           366603            2749       Group   \n",
       "1                  policy1           780236            1966       Group   \n",
       "2                  policy3           773926            4413       Group   \n",
       "3                  policy2           787815            4342      Family   \n",
       "4                  policy4           366506            1276      Family   \n",
       "\n",
       "  Customer Preferences Preferred Communication Channel Preferred Contact Time  \\\n",
       "0                Email               In-Person Meeting              Afternoon   \n",
       "1                 Mail               In-Person Meeting                Morning   \n",
       "2                Email                            Mail                Evening   \n",
       "3                 Text               In-Person Meeting                Anytime   \n",
       "4                Email                            Text               Weekends   \n",
       "\n",
       "  Preferred Language Segmentation Group  \n",
       "0            English           Segment5  \n",
       "1             French           Segment5  \n",
       "2             German           Segment3  \n",
       "3             French           Segment3  \n",
       "4            English           Segment2  "
      ]
     },
     "execution_count": 42,
     "metadata": {},
     "output_type": "execute_result"
    }
   ],
   "source": [
    "data.head()"
   ]
  },
  {
   "cell_type": "code",
   "execution_count": 46,
   "id": "a8c70d3b-18bc-477f-a76f-d775575efeac",
   "metadata": {},
   "outputs": [],
   "source": [
    "import matplotlib.pyplot as plt"
   ]
  },
  {
   "cell_type": "code",
   "execution_count": 47,
   "id": "be0290b7-5261-4d51-ae93-0d73fce3013b",
   "metadata": {},
   "outputs": [
    {
     "data": {
      "text/html": [
       "<div>\n",
       "<style scoped>\n",
       "    .dataframe tbody tr th:only-of-type {\n",
       "        vertical-align: middle;\n",
       "    }\n",
       "\n",
       "    .dataframe tbody tr th {\n",
       "        vertical-align: top;\n",
       "    }\n",
       "\n",
       "    .dataframe thead th {\n",
       "        text-align: right;\n",
       "    }\n",
       "</style>\n",
       "<table border=\"1\" class=\"dataframe\">\n",
       "  <thead>\n",
       "    <tr style=\"text-align: right;\">\n",
       "      <th></th>\n",
       "      <th>Customer ID</th>\n",
       "      <th>Age</th>\n",
       "      <th>Gender</th>\n",
       "      <th>Marital Status</th>\n",
       "      <th>Education Level</th>\n",
       "      <th>Geographic Information</th>\n",
       "      <th>Occupation</th>\n",
       "      <th>Income Level</th>\n",
       "      <th>Behavioral Data</th>\n",
       "      <th>Purchase History</th>\n",
       "      <th>Interactions with Customer Service</th>\n",
       "      <th>Insurance Products Owned</th>\n",
       "      <th>Coverage Amount</th>\n",
       "      <th>Premium Amount</th>\n",
       "      <th>Policy Type</th>\n",
       "      <th>Customer Preferences</th>\n",
       "      <th>Preferred Communication Channel</th>\n",
       "      <th>Preferred Contact Time</th>\n",
       "      <th>Preferred Language</th>\n",
       "      <th>Segmentation Group</th>\n",
       "    </tr>\n",
       "  </thead>\n",
       "  <tbody>\n",
       "    <tr>\n",
       "      <th>11628</th>\n",
       "      <td>4366</td>\n",
       "      <td>18</td>\n",
       "      <td>Female</td>\n",
       "      <td>Single</td>\n",
       "      <td>Bachelor's Degree</td>\n",
       "      <td>Madhya Pradesh</td>\n",
       "      <td>Salesperson</td>\n",
       "      <td>75869</td>\n",
       "      <td>policy1</td>\n",
       "      <td>03-07-2023</td>\n",
       "      <td>Chat</td>\n",
       "      <td>policy4</td>\n",
       "      <td>782863</td>\n",
       "      <td>3317</td>\n",
       "      <td>Business</td>\n",
       "      <td>In-Person Meeting</td>\n",
       "      <td>Phone</td>\n",
       "      <td>Anytime</td>\n",
       "      <td>French</td>\n",
       "      <td>Segment1</td>\n",
       "    </tr>\n",
       "    <tr>\n",
       "      <th>31746</th>\n",
       "      <td>58958</td>\n",
       "      <td>18</td>\n",
       "      <td>Female</td>\n",
       "      <td>Married</td>\n",
       "      <td>High School Diploma</td>\n",
       "      <td>Tamil Nadu</td>\n",
       "      <td>Teacher</td>\n",
       "      <td>34813</td>\n",
       "      <td>policy3</td>\n",
       "      <td>5/28/2022</td>\n",
       "      <td>Mobile App</td>\n",
       "      <td>policy4</td>\n",
       "      <td>550383</td>\n",
       "      <td>673</td>\n",
       "      <td>Individual</td>\n",
       "      <td>Email</td>\n",
       "      <td>Phone</td>\n",
       "      <td>Morning</td>\n",
       "      <td>Spanish</td>\n",
       "      <td>Segment1</td>\n",
       "    </tr>\n",
       "    <tr>\n",
       "      <th>51317</th>\n",
       "      <td>79362</td>\n",
       "      <td>18</td>\n",
       "      <td>Female</td>\n",
       "      <td>Married</td>\n",
       "      <td>High School Diploma</td>\n",
       "      <td>Telangana</td>\n",
       "      <td>Entrepreneur</td>\n",
       "      <td>56185</td>\n",
       "      <td>policy1</td>\n",
       "      <td>3/17/2019</td>\n",
       "      <td>Phone</td>\n",
       "      <td>policy4</td>\n",
       "      <td>970020</td>\n",
       "      <td>4262</td>\n",
       "      <td>Business</td>\n",
       "      <td>Email</td>\n",
       "      <td>In-Person Meeting</td>\n",
       "      <td>Evening</td>\n",
       "      <td>German</td>\n",
       "      <td>Segment2</td>\n",
       "    </tr>\n",
       "    <tr>\n",
       "      <th>15349</th>\n",
       "      <td>76791</td>\n",
       "      <td>18</td>\n",
       "      <td>Female</td>\n",
       "      <td>Single</td>\n",
       "      <td>Associate Degree</td>\n",
       "      <td>Mizoram</td>\n",
       "      <td>Entrepreneur</td>\n",
       "      <td>71160</td>\n",
       "      <td>policy3</td>\n",
       "      <td>12/13/2018</td>\n",
       "      <td>Mobile App</td>\n",
       "      <td>policy4</td>\n",
       "      <td>538079</td>\n",
       "      <td>3042</td>\n",
       "      <td>Family</td>\n",
       "      <td>Phone</td>\n",
       "      <td>Mail</td>\n",
       "      <td>Afternoon</td>\n",
       "      <td>French</td>\n",
       "      <td>Segment4</td>\n",
       "    </tr>\n",
       "    <tr>\n",
       "      <th>15422</th>\n",
       "      <td>71579</td>\n",
       "      <td>18</td>\n",
       "      <td>Female</td>\n",
       "      <td>Married</td>\n",
       "      <td>Associate Degree</td>\n",
       "      <td>Bihar</td>\n",
       "      <td>Teacher</td>\n",
       "      <td>62283</td>\n",
       "      <td>policy1</td>\n",
       "      <td>10-06-2021</td>\n",
       "      <td>Email</td>\n",
       "      <td>policy2</td>\n",
       "      <td>638153</td>\n",
       "      <td>3478</td>\n",
       "      <td>Family</td>\n",
       "      <td>Text</td>\n",
       "      <td>Phone</td>\n",
       "      <td>Anytime</td>\n",
       "      <td>German</td>\n",
       "      <td>Segment5</td>\n",
       "    </tr>\n",
       "    <tr>\n",
       "      <th>...</th>\n",
       "      <td>...</td>\n",
       "      <td>...</td>\n",
       "      <td>...</td>\n",
       "      <td>...</td>\n",
       "      <td>...</td>\n",
       "      <td>...</td>\n",
       "      <td>...</td>\n",
       "      <td>...</td>\n",
       "      <td>...</td>\n",
       "      <td>...</td>\n",
       "      <td>...</td>\n",
       "      <td>...</td>\n",
       "      <td>...</td>\n",
       "      <td>...</td>\n",
       "      <td>...</td>\n",
       "      <td>...</td>\n",
       "      <td>...</td>\n",
       "      <td>...</td>\n",
       "      <td>...</td>\n",
       "      <td>...</td>\n",
       "    </tr>\n",
       "    <tr>\n",
       "      <th>40692</th>\n",
       "      <td>17114</td>\n",
       "      <td>70</td>\n",
       "      <td>Female</td>\n",
       "      <td>Divorced</td>\n",
       "      <td>Master's Degree</td>\n",
       "      <td>Odisha</td>\n",
       "      <td>Lawyer</td>\n",
       "      <td>52220</td>\n",
       "      <td>policy4</td>\n",
       "      <td>09-12-2018</td>\n",
       "      <td>In-Person</td>\n",
       "      <td>policy5</td>\n",
       "      <td>256437</td>\n",
       "      <td>2434</td>\n",
       "      <td>Business</td>\n",
       "      <td>Mail</td>\n",
       "      <td>In-Person Meeting</td>\n",
       "      <td>Afternoon</td>\n",
       "      <td>French</td>\n",
       "      <td>Segment3</td>\n",
       "    </tr>\n",
       "    <tr>\n",
       "      <th>40686</th>\n",
       "      <td>61707</td>\n",
       "      <td>70</td>\n",
       "      <td>Male</td>\n",
       "      <td>Divorced</td>\n",
       "      <td>Bachelor's Degree</td>\n",
       "      <td>Meghalaya</td>\n",
       "      <td>Doctor</td>\n",
       "      <td>68564</td>\n",
       "      <td>policy3</td>\n",
       "      <td>2/18/2020</td>\n",
       "      <td>In-Person</td>\n",
       "      <td>policy3</td>\n",
       "      <td>469295</td>\n",
       "      <td>1714</td>\n",
       "      <td>Business</td>\n",
       "      <td>Mail</td>\n",
       "      <td>Phone</td>\n",
       "      <td>Afternoon</td>\n",
       "      <td>German</td>\n",
       "      <td>Segment1</td>\n",
       "    </tr>\n",
       "    <tr>\n",
       "      <th>26246</th>\n",
       "      <td>91928</td>\n",
       "      <td>70</td>\n",
       "      <td>Male</td>\n",
       "      <td>Single</td>\n",
       "      <td>Master's Degree</td>\n",
       "      <td>Bihar</td>\n",
       "      <td>Engineer</td>\n",
       "      <td>50799</td>\n",
       "      <td>policy4</td>\n",
       "      <td>06-03-2021</td>\n",
       "      <td>Phone</td>\n",
       "      <td>policy2</td>\n",
       "      <td>328576</td>\n",
       "      <td>4360</td>\n",
       "      <td>Business</td>\n",
       "      <td>Phone</td>\n",
       "      <td>Phone</td>\n",
       "      <td>Morning</td>\n",
       "      <td>Mandarin</td>\n",
       "      <td>Segment4</td>\n",
       "    </tr>\n",
       "    <tr>\n",
       "      <th>40424</th>\n",
       "      <td>32209</td>\n",
       "      <td>70</td>\n",
       "      <td>Male</td>\n",
       "      <td>Single</td>\n",
       "      <td>High School Diploma</td>\n",
       "      <td>Mizoram</td>\n",
       "      <td>Lawyer</td>\n",
       "      <td>107498</td>\n",
       "      <td>policy2</td>\n",
       "      <td>7/15/2023</td>\n",
       "      <td>Chat</td>\n",
       "      <td>policy5</td>\n",
       "      <td>785493</td>\n",
       "      <td>3496</td>\n",
       "      <td>Family</td>\n",
       "      <td>Text</td>\n",
       "      <td>Phone</td>\n",
       "      <td>Anytime</td>\n",
       "      <td>French</td>\n",
       "      <td>Segment2</td>\n",
       "    </tr>\n",
       "    <tr>\n",
       "      <th>32187</th>\n",
       "      <td>51218</td>\n",
       "      <td>70</td>\n",
       "      <td>Male</td>\n",
       "      <td>Married</td>\n",
       "      <td>Doctorate</td>\n",
       "      <td>Tripura</td>\n",
       "      <td>Artist</td>\n",
       "      <td>49709</td>\n",
       "      <td>policy2</td>\n",
       "      <td>07-11-2018</td>\n",
       "      <td>Chat</td>\n",
       "      <td>policy5</td>\n",
       "      <td>418658</td>\n",
       "      <td>4593</td>\n",
       "      <td>Business</td>\n",
       "      <td>Email</td>\n",
       "      <td>Email</td>\n",
       "      <td>Weekends</td>\n",
       "      <td>Mandarin</td>\n",
       "      <td>Segment5</td>\n",
       "    </tr>\n",
       "  </tbody>\n",
       "</table>\n",
       "<p>53503 rows × 20 columns</p>\n",
       "</div>"
      ],
      "text/plain": [
       "       Customer ID  Age  Gender Marital Status      Education Level  \\\n",
       "11628         4366   18  Female         Single    Bachelor's Degree   \n",
       "31746        58958   18  Female        Married  High School Diploma   \n",
       "51317        79362   18  Female        Married  High School Diploma   \n",
       "15349        76791   18  Female         Single     Associate Degree   \n",
       "15422        71579   18  Female        Married     Associate Degree   \n",
       "...            ...  ...     ...            ...                  ...   \n",
       "40692        17114   70  Female       Divorced      Master's Degree   \n",
       "40686        61707   70    Male       Divorced    Bachelor's Degree   \n",
       "26246        91928   70    Male         Single      Master's Degree   \n",
       "40424        32209   70    Male         Single  High School Diploma   \n",
       "32187        51218   70    Male        Married            Doctorate   \n",
       "\n",
       "      Geographic Information    Occupation  Income Level Behavioral Data  \\\n",
       "11628         Madhya Pradesh   Salesperson         75869         policy1   \n",
       "31746             Tamil Nadu       Teacher         34813         policy3   \n",
       "51317              Telangana  Entrepreneur         56185         policy1   \n",
       "15349                Mizoram  Entrepreneur         71160         policy3   \n",
       "15422                  Bihar       Teacher         62283         policy1   \n",
       "...                      ...           ...           ...             ...   \n",
       "40692                 Odisha        Lawyer         52220         policy4   \n",
       "40686              Meghalaya        Doctor         68564         policy3   \n",
       "26246                  Bihar      Engineer         50799         policy4   \n",
       "40424                Mizoram        Lawyer        107498         policy2   \n",
       "32187                Tripura        Artist         49709         policy2   \n",
       "\n",
       "      Purchase History Interactions with Customer Service  \\\n",
       "11628       03-07-2023                               Chat   \n",
       "31746        5/28/2022                         Mobile App   \n",
       "51317        3/17/2019                              Phone   \n",
       "15349       12/13/2018                         Mobile App   \n",
       "15422       10-06-2021                              Email   \n",
       "...                ...                                ...   \n",
       "40692       09-12-2018                          In-Person   \n",
       "40686        2/18/2020                          In-Person   \n",
       "26246       06-03-2021                              Phone   \n",
       "40424        7/15/2023                               Chat   \n",
       "32187       07-11-2018                               Chat   \n",
       "\n",
       "      Insurance Products Owned  Coverage Amount  Premium Amount Policy Type  \\\n",
       "11628                  policy4           782863            3317    Business   \n",
       "31746                  policy4           550383             673  Individual   \n",
       "51317                  policy4           970020            4262    Business   \n",
       "15349                  policy4           538079            3042      Family   \n",
       "15422                  policy2           638153            3478      Family   \n",
       "...                        ...              ...             ...         ...   \n",
       "40692                  policy5           256437            2434    Business   \n",
       "40686                  policy3           469295            1714    Business   \n",
       "26246                  policy2           328576            4360    Business   \n",
       "40424                  policy5           785493            3496      Family   \n",
       "32187                  policy5           418658            4593    Business   \n",
       "\n",
       "      Customer Preferences Preferred Communication Channel  \\\n",
       "11628    In-Person Meeting                           Phone   \n",
       "31746                Email                           Phone   \n",
       "51317                Email               In-Person Meeting   \n",
       "15349                Phone                            Mail   \n",
       "15422                 Text                           Phone   \n",
       "...                    ...                             ...   \n",
       "40692                 Mail               In-Person Meeting   \n",
       "40686                 Mail                           Phone   \n",
       "26246                Phone                           Phone   \n",
       "40424                 Text                           Phone   \n",
       "32187                Email                           Email   \n",
       "\n",
       "      Preferred Contact Time Preferred Language Segmentation Group  \n",
       "11628                Anytime             French           Segment1  \n",
       "31746                Morning            Spanish           Segment1  \n",
       "51317                Evening             German           Segment2  \n",
       "15349              Afternoon             French           Segment4  \n",
       "15422                Anytime             German           Segment5  \n",
       "...                      ...                ...                ...  \n",
       "40692              Afternoon             French           Segment3  \n",
       "40686              Afternoon             German           Segment1  \n",
       "26246                Morning           Mandarin           Segment4  \n",
       "40424                Anytime             French           Segment2  \n",
       "32187               Weekends           Mandarin           Segment5  \n",
       "\n",
       "[53503 rows x 20 columns]"
      ]
     },
     "execution_count": 47,
     "metadata": {},
     "output_type": "execute_result"
    }
   ],
   "source": [
    "data.sort_values(by='Age')"
   ]
  },
  {
   "cell_type": "code",
   "execution_count": 54,
   "id": "0c6b4464-d9a7-4426-8bd0-7c2a3394146f",
   "metadata": {},
   "outputs": [
    {
     "data": {
      "text/html": [
       "<div>\n",
       "<style scoped>\n",
       "    .dataframe tbody tr th:only-of-type {\n",
       "        vertical-align: middle;\n",
       "    }\n",
       "\n",
       "    .dataframe tbody tr th {\n",
       "        vertical-align: top;\n",
       "    }\n",
       "\n",
       "    .dataframe thead th {\n",
       "        text-align: right;\n",
       "    }\n",
       "</style>\n",
       "<table border=\"1\" class=\"dataframe\">\n",
       "  <thead>\n",
       "    <tr style=\"text-align: right;\">\n",
       "      <th></th>\n",
       "      <th>Customer ID</th>\n",
       "      <th>Age</th>\n",
       "      <th>Gender</th>\n",
       "      <th>Marital Status</th>\n",
       "      <th>Education Level</th>\n",
       "      <th>Geographic Information</th>\n",
       "      <th>Occupation</th>\n",
       "      <th>Income Level</th>\n",
       "      <th>Behavioral Data</th>\n",
       "      <th>Purchase History</th>\n",
       "      <th>Interactions with Customer Service</th>\n",
       "      <th>Insurance Products Owned</th>\n",
       "      <th>Coverage Amount</th>\n",
       "      <th>Premium Amount</th>\n",
       "      <th>Policy Type</th>\n",
       "      <th>Customer Preferences</th>\n",
       "      <th>Preferred Communication Channel</th>\n",
       "      <th>Preferred Contact Time</th>\n",
       "      <th>Preferred Language</th>\n",
       "      <th>Segmentation Group</th>\n",
       "    </tr>\n",
       "  </thead>\n",
       "  <tbody>\n",
       "    <tr>\n",
       "      <th>0</th>\n",
       "      <td>84966</td>\n",
       "      <td>23</td>\n",
       "      <td>Female</td>\n",
       "      <td>Married</td>\n",
       "      <td>Associate Degree</td>\n",
       "      <td>Mizoram</td>\n",
       "      <td>Entrepreneur</td>\n",
       "      <td>70541</td>\n",
       "      <td>policy5</td>\n",
       "      <td>04-10-2018</td>\n",
       "      <td>Phone</td>\n",
       "      <td>policy2</td>\n",
       "      <td>366603</td>\n",
       "      <td>2749</td>\n",
       "      <td>Group</td>\n",
       "      <td>Email</td>\n",
       "      <td>In-Person Meeting</td>\n",
       "      <td>Afternoon</td>\n",
       "      <td>English</td>\n",
       "      <td>Segment5</td>\n",
       "    </tr>\n",
       "    <tr>\n",
       "      <th>1</th>\n",
       "      <td>95568</td>\n",
       "      <td>26</td>\n",
       "      <td>Male</td>\n",
       "      <td>Widowed</td>\n",
       "      <td>Doctorate</td>\n",
       "      <td>Goa</td>\n",
       "      <td>Manager</td>\n",
       "      <td>54168</td>\n",
       "      <td>policy5</td>\n",
       "      <td>11-06-2018</td>\n",
       "      <td>Chat</td>\n",
       "      <td>policy1</td>\n",
       "      <td>780236</td>\n",
       "      <td>1966</td>\n",
       "      <td>Group</td>\n",
       "      <td>Mail</td>\n",
       "      <td>In-Person Meeting</td>\n",
       "      <td>Morning</td>\n",
       "      <td>French</td>\n",
       "      <td>Segment5</td>\n",
       "    </tr>\n",
       "    <tr>\n",
       "      <th>2</th>\n",
       "      <td>10544</td>\n",
       "      <td>29</td>\n",
       "      <td>Female</td>\n",
       "      <td>Single</td>\n",
       "      <td>Associate Degree</td>\n",
       "      <td>Rajasthan</td>\n",
       "      <td>Entrepreneur</td>\n",
       "      <td>73899</td>\n",
       "      <td>policy5</td>\n",
       "      <td>06-05-2021</td>\n",
       "      <td>Email</td>\n",
       "      <td>policy3</td>\n",
       "      <td>773926</td>\n",
       "      <td>4413</td>\n",
       "      <td>Group</td>\n",
       "      <td>Email</td>\n",
       "      <td>Mail</td>\n",
       "      <td>Evening</td>\n",
       "      <td>German</td>\n",
       "      <td>Segment3</td>\n",
       "    </tr>\n",
       "    <tr>\n",
       "      <th>3</th>\n",
       "      <td>77033</td>\n",
       "      <td>20</td>\n",
       "      <td>Male</td>\n",
       "      <td>Divorced</td>\n",
       "      <td>Bachelor's Degree</td>\n",
       "      <td>Sikkim</td>\n",
       "      <td>Entrepreneur</td>\n",
       "      <td>63381</td>\n",
       "      <td>policy5</td>\n",
       "      <td>09-02-2018</td>\n",
       "      <td>Chat</td>\n",
       "      <td>policy2</td>\n",
       "      <td>787815</td>\n",
       "      <td>4342</td>\n",
       "      <td>Family</td>\n",
       "      <td>Text</td>\n",
       "      <td>In-Person Meeting</td>\n",
       "      <td>Anytime</td>\n",
       "      <td>French</td>\n",
       "      <td>Segment3</td>\n",
       "    </tr>\n",
       "    <tr>\n",
       "      <th>4</th>\n",
       "      <td>88160</td>\n",
       "      <td>25</td>\n",
       "      <td>Female</td>\n",
       "      <td>Separated</td>\n",
       "      <td>Bachelor's Degree</td>\n",
       "      <td>West Bengal</td>\n",
       "      <td>Manager</td>\n",
       "      <td>38794</td>\n",
       "      <td>policy1</td>\n",
       "      <td>09-10-2018</td>\n",
       "      <td>Chat</td>\n",
       "      <td>policy4</td>\n",
       "      <td>366506</td>\n",
       "      <td>1276</td>\n",
       "      <td>Family</td>\n",
       "      <td>Email</td>\n",
       "      <td>Text</td>\n",
       "      <td>Weekends</td>\n",
       "      <td>English</td>\n",
       "      <td>Segment2</td>\n",
       "    </tr>\n",
       "  </tbody>\n",
       "</table>\n",
       "</div>"
      ],
      "text/plain": [
       "   Customer ID  Age  Gender Marital Status    Education Level  \\\n",
       "0        84966   23  Female        Married   Associate Degree   \n",
       "1        95568   26    Male        Widowed          Doctorate   \n",
       "2        10544   29  Female         Single   Associate Degree   \n",
       "3        77033   20    Male       Divorced  Bachelor's Degree   \n",
       "4        88160   25  Female      Separated  Bachelor's Degree   \n",
       "\n",
       "  Geographic Information    Occupation  Income Level Behavioral Data  \\\n",
       "0                Mizoram  Entrepreneur         70541         policy5   \n",
       "1                    Goa       Manager         54168         policy5   \n",
       "2              Rajasthan  Entrepreneur         73899         policy5   \n",
       "3                 Sikkim  Entrepreneur         63381         policy5   \n",
       "4            West Bengal       Manager         38794         policy1   \n",
       "\n",
       "  Purchase History Interactions with Customer Service  \\\n",
       "0       04-10-2018                              Phone   \n",
       "1       11-06-2018                               Chat   \n",
       "2       06-05-2021                              Email   \n",
       "3       09-02-2018                               Chat   \n",
       "4       09-10-2018                               Chat   \n",
       "\n",
       "  Insurance Products Owned  Coverage Amount  Premium Amount Policy Type  \\\n",
       "0                  policy2           366603            2749       Group   \n",
       "1                  policy1           780236            1966       Group   \n",
       "2                  policy3           773926            4413       Group   \n",
       "3                  policy2           787815            4342      Family   \n",
       "4                  policy4           366506            1276      Family   \n",
       "\n",
       "  Customer Preferences Preferred Communication Channel Preferred Contact Time  \\\n",
       "0                Email               In-Person Meeting              Afternoon   \n",
       "1                 Mail               In-Person Meeting                Morning   \n",
       "2                Email                            Mail                Evening   \n",
       "3                 Text               In-Person Meeting                Anytime   \n",
       "4                Email                            Text               Weekends   \n",
       "\n",
       "  Preferred Language Segmentation Group  \n",
       "0            English           Segment5  \n",
       "1             French           Segment5  \n",
       "2             German           Segment3  \n",
       "3             French           Segment3  \n",
       "4            English           Segment2  "
      ]
     },
     "execution_count": 54,
     "metadata": {},
     "output_type": "execute_result"
    }
   ],
   "source": [
    "data[:5]"
   ]
  },
  {
   "cell_type": "code",
   "execution_count": 57,
   "id": "44c85d78-e6df-451b-9f10-43a1ec8bbf3f",
   "metadata": {},
   "outputs": [
    {
     "data": {
      "text/html": [
       "<div>\n",
       "<style scoped>\n",
       "    .dataframe tbody tr th:only-of-type {\n",
       "        vertical-align: middle;\n",
       "    }\n",
       "\n",
       "    .dataframe tbody tr th {\n",
       "        vertical-align: top;\n",
       "    }\n",
       "\n",
       "    .dataframe thead th {\n",
       "        text-align: right;\n",
       "    }\n",
       "</style>\n",
       "<table border=\"1\" class=\"dataframe\">\n",
       "  <thead>\n",
       "    <tr style=\"text-align: right;\">\n",
       "      <th></th>\n",
       "      <th>Income Level</th>\n",
       "    </tr>\n",
       "  </thead>\n",
       "  <tbody>\n",
       "    <tr>\n",
       "      <th>3</th>\n",
       "      <td>63381</td>\n",
       "    </tr>\n",
       "  </tbody>\n",
       "</table>\n",
       "</div>"
      ],
      "text/plain": [
       "   Income Level\n",
       "3         63381"
      ]
     },
     "execution_count": 57,
     "metadata": {},
     "output_type": "execute_result"
    }
   ],
   "source": [
    "data.iloc[[3],[7]]"
   ]
  },
  {
   "cell_type": "code",
   "execution_count": 60,
   "id": "8db1f2b1-5b9b-4e45-b39b-7b3a576329a4",
   "metadata": {},
   "outputs": [
    {
     "data": {
      "text/plain": [
       "(53503, 20)"
      ]
     },
     "execution_count": 60,
     "metadata": {},
     "output_type": "execute_result"
    }
   ],
   "source": [
    "data.shape"
   ]
  },
  {
   "cell_type": "code",
   "execution_count": 61,
   "id": "ba4e6601-2845-45ec-bf24-5660384d7b05",
   "metadata": {},
   "outputs": [
    {
     "data": {
      "text/plain": [
       "RangeIndex(start=0, stop=53503, step=1)"
      ]
     },
     "execution_count": 61,
     "metadata": {},
     "output_type": "execute_result"
    }
   ],
   "source": [
    "data.index"
   ]
  },
  {
   "cell_type": "code",
   "execution_count": 62,
   "id": "984fc6e3-2f76-4614-a546-7e8a035ec4d2",
   "metadata": {},
   "outputs": [
    {
     "data": {
      "text/plain": [
       "Index(['Customer ID', 'Age', 'Gender', 'Marital Status', 'Education Level',\n",
       "       'Geographic Information', 'Occupation', 'Income Level',\n",
       "       'Behavioral Data', 'Purchase History',\n",
       "       'Interactions with Customer Service', 'Insurance Products Owned',\n",
       "       'Coverage Amount', 'Premium Amount', 'Policy Type',\n",
       "       'Customer Preferences', 'Preferred Communication Channel',\n",
       "       'Preferred Contact Time', 'Preferred Language', 'Segmentation Group'],\n",
       "      dtype='object')"
      ]
     },
     "execution_count": 62,
     "metadata": {},
     "output_type": "execute_result"
    }
   ],
   "source": [
    "data.columns"
   ]
  },
  {
   "cell_type": "code",
   "execution_count": 63,
   "id": "6778828a-3b5a-49d5-aa21-bebc8b9f78c6",
   "metadata": {},
   "outputs": [
    {
     "data": {
      "text/plain": [
       "Customer ID                           53503\n",
       "Age                                   53503\n",
       "Gender                                53503\n",
       "Marital Status                        53503\n",
       "Education Level                       53503\n",
       "Geographic Information                53503\n",
       "Occupation                            53503\n",
       "Income Level                          53503\n",
       "Behavioral Data                       53503\n",
       "Purchase History                      53503\n",
       "Interactions with Customer Service    53503\n",
       "Insurance Products Owned              53503\n",
       "Coverage Amount                       53503\n",
       "Premium Amount                        53503\n",
       "Policy Type                           53503\n",
       "Customer Preferences                  53503\n",
       "Preferred Communication Channel       53503\n",
       "Preferred Contact Time                53503\n",
       "Preferred Language                    53503\n",
       "Segmentation Group                    53503\n",
       "dtype: int64"
      ]
     },
     "execution_count": 63,
     "metadata": {},
     "output_type": "execute_result"
    }
   ],
   "source": [
    "data.count()"
   ]
  },
  {
   "cell_type": "code",
   "execution_count": 69,
   "id": "a212734b-f2e0-49cd-ae89-43c825bd1229",
   "metadata": {},
   "outputs": [
    {
     "data": {
      "text/plain": [
       "Customer ID                                                                  2796345263\n",
       "Age                                                                             2361673\n",
       "Gender                                FemaleMaleFemaleMaleFemaleFemaleMaleMaleFemale...\n",
       "Marital Status                        MarriedWidowedSingleDivorcedSeparatedSeparated...\n",
       "Education Level                       Associate DegreeDoctorateAssociate DegreeBache...\n",
       "Geographic Information                MizoramGoaRajasthanSikkimWest BengalUttar Prad...\n",
       "Occupation                            EntrepreneurManagerEntrepreneurEntrepreneurMan...\n",
       "Income Level                                                                 4428353656\n",
       "Behavioral Data                       policy5policy5policy5policy5policy1policy5poli...\n",
       "Purchase History                      04-10-201811-06-201806-05-202109-02-201809-10-...\n",
       "Interactions with Customer Service    PhoneChatEmailChatChatChatChatPhoneMobile AppP...\n",
       "Insurance Products Owned              policy2policy1policy3policy2policy4policy1poli...\n",
       "Coverage Amount                                                             26354549988\n",
       "Premium Amount                                                                161777152\n",
       "Policy Type                           GroupGroupGroupFamilyFamilyIndividualGroupBusi...\n",
       "Customer Preferences                  EmailMailEmailTextEmailTextIn-Person MeetingEm...\n",
       "Preferred Communication Channel       In-Person MeetingIn-Person MeetingMailIn-Perso...\n",
       "Preferred Contact Time                AfternoonMorningEveningAnytimeWeekendsAfternoo...\n",
       "Preferred Language                    EnglishFrenchGermanFrenchEnglishEnglishMandari...\n",
       "Segmentation Group                    Segment5Segment5Segment3Segment3Segment2Segmen...\n",
       "dtype: object"
      ]
     },
     "execution_count": 69,
     "metadata": {},
     "output_type": "execute_result"
    }
   ],
   "source": [
    "data.sum()"
   ]
  },
  {
   "cell_type": "code",
   "execution_count": 86,
   "id": "e3e8fbba-0f71-4063-a4bb-2ae5c827ba83",
   "metadata": {},
   "outputs": [
    {
     "data": {
      "image/png": "[encoded data removed]",
      "text/plain": [
       "<Figure size 640x480 with 1 Axes>"
      ]
     },
     "metadata": {},
     "output_type": "display_data"
    }
   ],
   "source": [
    "import matplotlib.pyplot as plt\n",
    "X=data.loc[[10],'Income Level']\n",
    "Y=data.loc[[10],'Coverage Amount']\n",
    "fig,ax=plt.subplots()\n",
    "ax.plot(X,Y,color='green',marker='X')\n",
    "plt.show()"
   ]
  },
  {
   "cell_type": "code",
   "execution_count": 92,
   "id": "23dac35d-8c38-4088-b73c-b6f094fdfe8b",
   "metadata": {},
   "outputs": [
    {
     "ename": "TypeError",
     "evalue": "Axes.bar() missing 1 required positional argument: 'height'",
     "output_type": "error",
     "traceback": [
      "\u001b[1;31m---------------------------------------------------------------------------\u001b[0m",
      "\u001b[1;31mTypeError\u001b[0m                                 Traceback (most recent call last)",
      "Cell \u001b[1;32mIn[92], line 3\u001b[0m\n\u001b[0;32m      1\u001b[0m D\u001b[38;5;241m=\u001b[39mdata\u001b[38;5;241m.\u001b[39mloc[[\u001b[38;5;241m10\u001b[39m],\u001b[38;5;124m'\u001b[39m\u001b[38;5;124mGeographic Information\u001b[39m\u001b[38;5;124m'\u001b[39m]\n\u001b[0;32m      2\u001b[0m fig,ax\u001b[38;5;241m=\u001b[39mplt\u001b[38;5;241m.\u001b[39msubplots()\n\u001b[1;32m----> 3\u001b[0m \u001b[43max\u001b[49m\u001b[38;5;241;43m.\u001b[39;49m\u001b[43mbar\u001b[49m\u001b[43m(\u001b[49m\u001b[43mX\u001b[49m\u001b[43m,\u001b[49m\u001b[43mcolor\u001b[49m\u001b[38;5;241;43m=\u001b[39;49m\u001b[38;5;124;43m'\u001b[39;49m\u001b[38;5;124;43mgreen\u001b[39;49m\u001b[38;5;124;43m'\u001b[39;49m\u001b[43m)\u001b[49m\n\u001b[0;32m      4\u001b[0m plt\u001b[38;5;241m.\u001b[39mshow()\n",
      "File \u001b[1;32mC:\\python123\\Lib\\site-packages\\matplotlib\\__init__.py:1478\u001b[0m, in \u001b[0;36m_preprocess_data.<locals>.inner\u001b[1;34m(ax, data, *args, **kwargs)\u001b[0m\n\u001b[0;32m   1475\u001b[0m \u001b[38;5;129m@functools\u001b[39m\u001b[38;5;241m.\u001b[39mwraps(func)\n\u001b[0;32m   1476\u001b[0m \u001b[38;5;28;01mdef\u001b[39;00m \u001b[38;5;21minner\u001b[39m(ax, \u001b[38;5;241m*\u001b[39margs, data\u001b[38;5;241m=\u001b[39m\u001b[38;5;28;01mNone\u001b[39;00m, \u001b[38;5;241m*\u001b[39m\u001b[38;5;241m*\u001b[39mkwargs):\n\u001b[0;32m   1477\u001b[0m     \u001b[38;5;28;01mif\u001b[39;00m data \u001b[38;5;129;01mis\u001b[39;00m \u001b[38;5;28;01mNone\u001b[39;00m:\n\u001b[1;32m-> 1478\u001b[0m         \u001b[38;5;28;01mreturn\u001b[39;00m \u001b[43mfunc\u001b[49m\u001b[43m(\u001b[49m\u001b[43max\u001b[49m\u001b[43m,\u001b[49m\u001b[43m \u001b[49m\u001b[38;5;241;43m*\u001b[39;49m\u001b[38;5;28;43mmap\u001b[39;49m\u001b[43m(\u001b[49m\u001b[43msanitize_sequence\u001b[49m\u001b[43m,\u001b[49m\u001b[43m \u001b[49m\u001b[43margs\u001b[49m\u001b[43m)\u001b[49m\u001b[43m,\u001b[49m\u001b[43m \u001b[49m\u001b[38;5;241;43m*\u001b[39;49m\u001b[38;5;241;43m*\u001b[39;49m\u001b[43mkwargs\u001b[49m\u001b[43m)\u001b[49m\n\u001b[0;32m   1480\u001b[0m     bound \u001b[38;5;241m=\u001b[39m new_sig\u001b[38;5;241m.\u001b[39mbind(ax, \u001b[38;5;241m*\u001b[39margs, \u001b[38;5;241m*\u001b[39m\u001b[38;5;241m*\u001b[39mkwargs)\n\u001b[0;32m   1481\u001b[0m     auto_label \u001b[38;5;241m=\u001b[39m (bound\u001b[38;5;241m.\u001b[39marguments\u001b[38;5;241m.\u001b[39mget(label_namer)\n\u001b[0;32m   1482\u001b[0m                   \u001b[38;5;129;01mor\u001b[39;00m bound\u001b[38;5;241m.\u001b[39mkwargs\u001b[38;5;241m.\u001b[39mget(label_namer))\n",
      "\u001b[1;31mTypeError\u001b[0m: Axes.bar() missing 1 required positional argument: 'height'"
     ]
    },
    {
     "data": {
      "image/png": "[encoded data removed]",
      "text/plain": [
       "<Figure size 640x480 with 1 Axes>"
      ]
     },
     "metadata": {},
     "output_type": "display_data"
    }
   ],
   "source": [
    "D=data.loc[[10],'Geographic Information']\n",
    "fig,ax=plt.subplots()\n",
    "ax.bar(X,color='green')\n",
    "plt.show()\n",
    "\n"
   ]
  },
  {
   "cell_type": "code",
   "execution_count": null,
   "id": "991ec223-ca14-4b62-89ab-22cbdbcf3e1b",
   "metadata": {},
   "outputs": [],
   "source": []
  }
 ],
 "metadata": {
  "kernelspec": {
   "display_name": "Python 3 (ipykernel)",
   "language": "python",
   "name": "python3"
  },
  "language_info": {
   "codemirror_mode": {
    "name": "ipython",
    "version": 3
   },
   "file_extension": ".py",
   "mimetype": "text/x-python",
   "name": "python",
   "nbconvert_exporter": "python",
   "pygments_lexer": "ipython3",
   "version": "3.12.1"
  }
 },
 "nbformat": 4,
 "nbformat_minor": 5
}
