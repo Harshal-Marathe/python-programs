{
 "cells": [
  {
   "cell_type": "markdown",
   "id": "3444bed3-912c-424f-af46-79249f90f80c",
   "metadata": {},
   "source": [
    "**Temperature Conversion**: Write a Python program that takes user input for a temperature in Cel\u0002sius and converts it to Fahrenheit. Display the result with an appropriate message"
   ]
  },
  {
   "cell_type": "code",
   "execution_count": 1,
   "id": "09c6de41-b7de-4dee-8c28-b85b16220e27",
   "metadata": {},
   "outputs": [
    {
     "name": "stdin",
     "output_type": "stream",
     "text": [
      "Temperature in celcius: 56\n"
     ]
    },
    {
     "name": "stdout",
     "output_type": "stream",
     "text": [
      "56.0 C Temperature in farhrenheit 132.8 f\n"
     ]
    }
   ],
   "source": [
    "cel=float(input(\"Temperature in celcius:\"))\n",
    "fahr=cel*9/5+32\n",
    "print(f\"{cel} C Temperature in farhrenheit {fahr} f\")\n",
    "\n",
    "#output:Temperature in celcius: 56\n",
    "#56.0 C Temperature in farhrenheit 132.8 f\n"
   ]
  },
  {
   "cell_type": "markdown",
   "id": "a879deec-f2e0-43d1-97b6-70c26389313b",
   "metadata": {},
   "source": [
    "**Character Counter**: Develop a Python script that takes a user input string and counts the number\r\n",
    "of occurrences of each character in the string. Display the results in a readable format."
   ]
  },
  {
   "cell_type": "code",
   "execution_count": 3,
   "id": "44129b52-d4c9-47c3-8459-84ac059d1bb0",
   "metadata": {},
   "outputs": [
    {
     "name": "stdin",
     "output_type": "stream",
     "text": [
      "Enter your sentence: occur\n"
     ]
    },
    {
     "name": "stdout",
     "output_type": "stream",
     "text": [
      "u occurred 1 time/s in occur\n",
      "c occurred 2 time/s in occur\n",
      "r occurred 1 time/s in occur\n",
      "o occurred 1 time/s in occur\n"
     ]
    },
    {
     "data": {
      "text/plain": [
       "'Enter your sentence: occurence\\nc occurred 3 time/s in occurence\\nr occurred 1 time/s in occurence\\no occurred 1 time/s in occurence\\nn occurred 1 time/s in occurence\\nu occurred 1 time/s in occurence\\ne occurred 2 time/s in occurence'"
      ]
     },
     "execution_count": 3,
     "metadata": {},
     "output_type": "execute_result"
    }
   ],
   "source": [
    "user_input=input(\"Enter your sentence:\")\n",
    "for i in set(user_input):\n",
    "    print(f\"{i} occurred {user_input.count(i)} time/s in {user_input}\")\n",
    "\n",
    "\n",
    "#Output\n",
    "'''Enter your sentence: occurence\n",
    "c occurred 3 time/s in occurence\n",
    "r occurred 1 time/s in occurence\n",
    "o occurred 1 time/s in occurence\n",
    "n occurred 1 time/s in occurence\n",
    "u occurred 1 time/s in occurence\n",
    "e occurred 2 time/s in occurence'''"
   ]
  },
  {
   "cell_type": "markdown",
   "id": "debe19c4-748f-4321-9eaf-1c39bba8180e",
   "metadata": {},
   "source": [
    "Even or Odd Checker: Create a Python program that prompts the user to enter an integer and\n",
    "checks if it’s an even or odd number. Display a message indicating whether the number is even or\n",
    "odd."
   ]
  },
  {
   "cell_type": "code",
   "execution_count": 6,
   "id": "599af6c6-c39b-4e27-ad08-6579724aa150",
   "metadata": {},
   "outputs": [
    {
     "name": "stdin",
     "output_type": "stream",
     "text": [
      "Enter the number: 2\n"
     ]
    },
    {
     "name": "stdout",
     "output_type": "stream",
     "text": [
      "2 is even.\n"
     ]
    },
    {
     "data": {
      "text/plain": [
       "'Enter the number: 2\\n2 is even.'"
      ]
     },
     "execution_count": 6,
     "metadata": {},
     "output_type": "execute_result"
    }
   ],
   "source": [
    "num=int(input(\"Enter the number:\"))\n",
    "if num% 2 ==0:\n",
    "    print(f\"{num} is even.\")\n",
    "else:\n",
    "    print(f\"{num} is odd\")\n",
    "\n",
    "#Output\n",
    "'''Enter the number: 5\n",
    "5 is odd'''\n",
    "\n",
    "'''Enter the number: 2\n",
    "2 is even.'''"
   ]
  },
  {
   "cell_type": "markdown",
   "id": "7e34a049-eb8d-44ca-b67c-9c412e88c1e2",
   "metadata": {},
   "source": [
    "Quadratic Equation Solver: Write a Python script that solves a quadratic equation of the form\n",
    "ax2+bx+c = 0 given user input for coefficients a, b, and c. Display the solutions with appropriate\n",
    "messages."
   ]
  },
  {
   "cell_type": "code",
   "execution_count": null,
   "id": "7218dd99-9fc5-4080-80ab-bc3f5cf4ad65",
   "metadata": {},
   "outputs": [],
   "source": [
    "import numpy as np\n",
    "a,b,c=float(input(\"enter A\")),float(input(\"enter B\")),float(input(\"enter C\"))\n",
    "dis=b**2 - 4*a*c\n",
    "if b**2>= 4*a*c:\n",
    "    x1=(-b+np.sqrt(dis))/2*a\n",
    "    x2=(-b-np.sqrt(dis))/2*a\n",
    "    print(f\"the solutions of the given quadratic equations are {x1} and{x2}\")\n",
    "else:\n",
    "    print(\"No real roots exists for this quadratic equation\")\n",
    "\n",
    "#Output\n",
    "'''enter A 2\n",
    "enter B 7\n",
    "enter C 6\n",
    "the solutions of the given quadratic equations are -6.0 and-8.0'''"
   ]
  },
  {
   "cell_type": "markdown",
   "id": "289c0908-bb68-4979-bc25-cbf3f32281f4",
   "metadata": {},
   "source": [
    "Factorial Calculator: Develop a Python program that calculates the factorial of a given non-negative\n",
    "integer entered by the user. Display the result with a suitable message."
   ]
  },
  {
   "cell_type": "code",
   "execution_count": null,
   "id": "d6f0f974-5199-4c8f-bc5f-83626e8e8489",
   "metadata": {},
   "outputs": [],
   "source": [
    "num=int(input(\"Enter the Number\"))\n",
    "fact_=1\n",
    "i=1\n",
    "if num==0 or num==1:\n",
    "    print(\"1\")\n",
    "elif num>=1:\n",
    "    while i<=num :\n",
    "        fact_ *=i\n",
    "        i+=1\n",
    "else:\n",
    "    print(\" the nummber is negative\")\n",
    "print(f\"the factorial of the number {num} is {fact_}\")\n",
    "\n",
    "\n",
    "#Output\n",
    "'''Enter the Number 5\n",
    "the factorial of the number 5 is 120'''"
   ]
  },
  {
   "cell_type": "code",
   "execution_count": null,
   "id": "995d345a-2b6c-4d53-8952-8709d791e332",
   "metadata": {},
   "outputs": [],
   "source": []
  },
  {
   "cell_type": "code",
   "execution_count": null,
   "id": "aecff50c-f6b6-41b7-ad58-4ef5e81ff83e",
   "metadata": {},
   "outputs": [],
   "source": []
  },
  {
   "cell_type": "code",
   "execution_count": null,
   "id": "b956102f-4b21-4bd0-a362-eee0b2990e22",
   "metadata": {},
   "outputs": [],
   "source": []
  },
  {
   "cell_type": "code",
   "execution_count": null,
   "id": "1b86684b-3398-4867-b07a-9b8bfeefb9bd",
   "metadata": {},
   "outputs": [],
   "source": []
  }
 ],
 "metadata": {
  "kernelspec": {
   "display_name": "Python 3 (ipykernel)",
   "language": "python",
   "name": "python3"
  },
  "language_info": {
   "codemirror_mode": {
    "name": "ipython",
    "version": 3
   },
   "file_extension": ".py",
   "mimetype": "text/x-python",
   "name": "python",
   "nbconvert_exporter": "python",
   "pygments_lexer": "ipython3",
   "version": "3.12.1"
  }
 },
 "nbformat": 4,
 "nbformat_minor": 5
}
