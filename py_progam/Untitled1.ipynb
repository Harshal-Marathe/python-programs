{
 "cells": [
  {
   "cell_type": "code",
   "execution_count": null,
   "id": "3918d72e-69fc-4c26-8447-b75dfd4b0b23",
   "metadata": {},
   "outputs": [],
   "source": [
    "i=1\n",
    "while i <11:\n",
    "    print(f\"9 * {i}={9*i}\")\n",
    "    i+=1\n",
    "    "
   ]
  },
  {
   "cell_type": "code",
   "execution_count": null,
   "id": "a2787a42-3b86-4d6b-ab41-fcdff9022166",
   "metadata": {},
   "outputs": [],
   "source": []
  }
 ],
 "metadata": {
  "kernelspec": {
   "display_name": "Python 3 (ipykernel)",
   "language": "python",
   "name": "python3"
  },
  "language_info": {
   "codemirror_mode": {
    "name": "ipython",
    "version": 3
   },
   "file_extension": ".py",
   "mimetype": "text/x-python",
   "name": "python",
   "nbconvert_exporter": "python",
   "pygments_lexer": "ipython3",
   "version": "3.12.1"
  }
 },
 "nbformat": 4,
 "nbformat_minor": 5
}
