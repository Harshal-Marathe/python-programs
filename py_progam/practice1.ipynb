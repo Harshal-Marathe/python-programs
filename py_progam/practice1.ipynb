{
 "cells": [
  {
   "cell_type": "markdown",
   "id": "0b0337b7-3a4e-4934-851b-81221f714230",
   "metadata": {},
   "source": [
    "WAP to read 2 integers (x,y) and calculate power(x^y)"
   ]
  },
  {
   "cell_type": "code",
   "execution_count": 5,
   "id": "5dab97bd-0c0e-406b-9fbc-626c1fdccfd3",
   "metadata": {},
   "outputs": [
    {
     "name": "stdin",
     "output_type": "stream",
     "text": [
      "Enter x 5\n",
      "Enter y 3\n"
     ]
    },
    {
     "name": "stdout",
     "output_type": "stream",
     "text": [
      "5^3=125\n"
     ]
    }
   ],
   "source": [
    "x=int(input(\"Enter x\"))\n",
    "y=int(input(\"Enter y\"))\n",
    "power=x**y\n",
    "print(f\"{x}^{y}={power}\")"
   ]
  },
  {
   "cell_type": "code",
   "execution_count": 4,
   "id": "70ef494e-0061-4f9f-9b78-1a5eb77b4412",
   "metadata": {},
   "outputs": [
    {
     "name": "stdin",
     "output_type": "stream",
     "text": [
      "Enter x 2.5\n",
      "Enter y 1.5\n"
     ]
    },
    {
     "name": "stdout",
     "output_type": "stream",
     "text": [
      "x^y=3.952847075210474\n"
     ]
    }
   ],
   "source": [
    "x=eval(input(\"Enter x\"))\n",
    "y=eval(input(\"Enter y\"))\n",
    "print(f\"x^y={x**y}\")"
   ]
  },
  {
   "cell_type": "code",
   "execution_count": null,
   "id": "a0a519a1-226c-421d-ba7a-eb85fa3b33dc",
   "metadata": {},
   "outputs": [],
   "source": []
  },
  {
   "cell_type": "code",
   "execution_count": null,
   "id": "0b98bd73-2722-412d-9dcb-9c91c6ee61a6",
   "metadata": {},
   "outputs": [],
   "source": []
  },
  {
   "cell_type": "code",
   "execution_count": null,
   "id": "d12c066f-dfcd-4e27-919a-53d672e666ed",
   "metadata": {},
   "outputs": [],
   "source": []
  },
  {
   "cell_type": "code",
   "execution_count": null,
   "id": "ff4da5da-fbc1-4999-96bd-6dc7bdab6807",
   "metadata": {},
   "outputs": [],
   "source": []
  },
  {
   "cell_type": "code",
   "execution_count": null,
   "id": "0897de42-de1e-4312-8d8b-ff621efea96e",
   "metadata": {},
   "outputs": [],
   "source": []
  },
  {
   "cell_type": "code",
   "execution_count": null,
   "id": "0831684e-49ce-4cac-85bc-e0e30f509b2c",
   "metadata": {},
   "outputs": [],
   "source": []
  },
  {
   "cell_type": "code",
   "execution_count": null,
   "id": "fea1eedd-8f1a-4107-b76e-a79e4c3f28a0",
   "metadata": {},
   "outputs": [],
   "source": []
  },
  {
   "cell_type": "code",
   "execution_count": null,
   "id": "75616137-3159-4aa3-8616-25a7c40f2b4c",
   "metadata": {},
   "outputs": [],
   "source": []
  },
  {
   "cell_type": "code",
   "execution_count": null,
   "id": "f462747d-54dd-40d7-aa86-a1a08829c0a9",
   "metadata": {},
   "outputs": [],
   "source": []
  },
  {
   "cell_type": "code",
   "execution_count": null,
   "id": "ee894a8c-24e3-46f4-addc-3889b18f327c",
   "metadata": {},
   "outputs": [],
   "source": []
  },
  {
   "cell_type": "code",
   "execution_count": null,
   "id": "d6bec7ad-b159-4808-b296-996581b1bbde",
   "metadata": {},
   "outputs": [],
   "source": []
  }
 ],
 "metadata": {
  "kernelspec": {
   "display_name": "Python 3 (ipykernel)",
   "language": "python",
   "name": "python3"
  },
  "language_info": {
   "codemirror_mode": {
    "name": "ipython",
    "version": 3
   },
   "file_extension": ".py",
   "mimetype": "text/x-python",
   "name": "python",
   "nbconvert_exporter": "python",
   "pygments_lexer": "ipython3",
   "version": "3.12.1"
  }
 },
 "nbformat": 4,
 "nbformat_minor": 5
}
