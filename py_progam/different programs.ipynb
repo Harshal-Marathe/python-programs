{
 "cells": [
  {
   "cell_type": "markdown",
   "id": "ea9da39e-d3b5-46d1-8e39-6f367da39853",
   "metadata": {},
   "source": [
    "***Program 1***\n",
    "WAP to print string"
   ]
  },
  {
   "cell_type": "code",
   "execution_count": 1,
   "id": "c3a601a9-76a3-4791-8ec4-efa0b77e45d7",
   "metadata": {},
   "outputs": [
    {
     "name": "stdout",
     "output_type": "stream",
     "text": [
      "Hello Python\n"
     ]
    }
   ],
   "source": [
    "print(\"Hello Python\")"
   ]
  },
  {
   "cell_type": "markdown",
   "id": "95002de4-ec62-4e94-b409-8cca589fd3b7",
   "metadata": {},
   "source": [
    "***Pragram 2*** WAP to do arithmatic operations "
   ]
  },
  {
   "cell_type": "code",
   "execution_count": 3,
   "id": "f58a9fb5-37db-4052-be28-e11e4e4fa667",
   "metadata": {},
   "outputs": [
    {
     "name": "stdin",
     "output_type": "stream",
     "text": [
      "Enter the first number 5\n",
      "Enter the second number 8\n"
     ]
    },
    {
     "name": "stdout",
     "output_type": "stream",
     "text": [
      "The addition 5.0 + 8.0 = 13.0\n"
     ]
    },
    {
     "name": "stdin",
     "output_type": "stream",
     "text": [
      "Enter the first number 4\n",
      "Enter the second number 2\n"
     ]
    },
    {
     "name": "stdout",
     "output_type": "stream",
     "text": [
      "The substration 4.0 + 2.0 = 2.0\n"
     ]
    }
   ],
   "source": [
    "#Addition \n",
    "number1=float(input(\"Enter the first number\"))\n",
    "number2=float(input(\"Enter the second number\"))\n",
    "add_result=number1+number2\n",
    "print(f\"The addition {number1} + {number2} = {add_result}\")\n",
    "\n"
   ]
  },
  {
   "cell_type": "code",
   "execution_count": null,
   "id": "bc0de848-eac2-41a3-a2ab-05d2e357090a",
   "metadata": {},
   "outputs": [],
   "source": [
    "#Substraction \n",
    "number1=float(input(\"Enter the first number\"))\n",
    "number2=float(input(\"Enter the second number\"))\n",
    "sub_result=number1-number2\n",
    "print(f\"The substration {number1} - {number2} = {sub_result}\")"
   ]
  },
  {
   "cell_type": "code",
   "execution_count": 4,
   "id": "8974b22d-bf1a-4024-913f-0ccae36c79b4",
   "metadata": {},
   "outputs": [
    {
     "name": "stdin",
     "output_type": "stream",
     "text": [
      "Enter the first number 5\n",
      "Enter the second number 2\n"
     ]
    },
    {
     "name": "stdout",
     "output_type": "stream",
     "text": [
      "The substration 5.0 + 2.0 = 10.0\n"
     ]
    }
   ],
   "source": [
    "#Substraction \n",
    "number1=float(input(\"Enter the first number\"))\n",
    "number2=float(input(\"Enter the second number\"))\n",
    "mul_result=number1*number2\n",
    "print(f\"The Multiplication {number1} * {number2} = {mul_result}\")"
   ]
  },
  {
   "cell_type": "code",
   "execution_count": 6,
   "id": "c2dc585a-d867-438a-be89-23312138bd14",
   "metadata": {},
   "outputs": [
    {
     "name": "stdin",
     "output_type": "stream",
     "text": [
      "Enter the first number 20\n",
      "Enter the second number 3\n"
     ]
    },
    {
     "name": "stdout",
     "output_type": "stream",
     "text": [
      "The substration 20.0 / 3.0 = 6.666666666666667\n"
     ]
    }
   ],
   "source": [
    "#Division (to get quotient)\n",
    "number1=float(input(\"Enter the first number\"))\n",
    "number2=float(input(\"Enter the second number\"))\n",
    "div_result=number1/number2\n",
    "print(f\"The Division {number1} / {number2} = {div_result}\")"
   ]
  },
  {
   "cell_type": "code",
   "execution_count": 8,
   "id": "87cfeea2-a6d1-4e8b-82f8-e62434044c36",
   "metadata": {},
   "outputs": [
    {
     "name": "stdin",
     "output_type": "stream",
     "text": [
      "Enter the first number 56\n",
      "Enter the second number 4\n"
     ]
    },
    {
     "name": "stdout",
     "output_type": "stream",
     "text": [
      "Division of 56.0 /4.0 gives the remainder 0.0\n"
     ]
    }
   ],
   "source": [
    "#Division (to get remainder)\n",
    "number1=float(input(\"Enter the first number\"))\n",
    "number2=float(input(\"Enter the second number\"))\n",
    "rem_result=number1%number2\n",
    "print(f\"Division of {number1} /{number2} gives the remainder {rem_result}\")"
   ]
  },
  {
   "cell_type": "code",
   "execution_count": 10,
   "id": "a42e6dfb-aceb-44f2-b442-b8362bca3df3",
   "metadata": {},
   "outputs": [
    {
     "name": "stdin",
     "output_type": "stream",
     "text": [
      "Enter the base number 5\n",
      "Enter the power number 3\n"
     ]
    },
    {
     "name": "stdout",
     "output_type": "stream",
     "text": [
      "result of  5.0 ^ 3.0 is 125.0\n"
     ]
    }
   ],
   "source": [
    "#Power(exponential)\n",
    "number1=float(input(\"Enter the base number\"))\n",
    "number2=float(input(\"Enter the power number\"))\n",
    "rem_result=number1**number2\n",
    "print(f\"result of  {number1} ^ {number2} is {rem_result}\")"
   ]
  },
  {
   "cell_type": "markdown",
   "id": "6c2ba942-5a1d-4235-9ed8-c473c2b462a4",
   "metadata": {},
   "source": [
    "*arithmatic operations using calculator*"
   ]
  },
  {
   "cell_type": "code",
   "execution_count": 20,
   "id": "79f9514f-cd5b-4ad1-ba9c-971150ca9471",
   "metadata": {},
   "outputs": [
    {
     "name": "stdin",
     "output_type": "stream",
     "text": [
      "Select the operation you want to perform 1.Addition 2.Substraction 3.Multiplication 4.Division(quotient) 5.Division(Modulus) 6.Exponential 2\n",
      "Enter the first number 15\n",
      "Enter the second number 20\n"
     ]
    },
    {
     "name": "stdout",
     "output_type": "stream",
     "text": [
      "The substraction 15.0 - 20.0 = -5.0\n"
     ]
    }
   ],
   "source": [
    "operation=int(input(\"Select the operation you want to perform 1.Addition 2.Substraction 3.Multiplication 4.Division(quotient) 5.Division(Modulus) 6.Exponential\"))\n",
    "number1=float(input(\"Enter the first number\"))\n",
    "number2=float(input(\"Enter the second number\"))\n",
    "if operation==1:\n",
    "    print(f\"The addition {number1} + {number2} = {number1+number2}\")\n",
    "elif operation==2:\n",
    "    print(f\"The substraction {number1} - {number2} = {number1-number2}\")\n",
    "elif operation==3:\n",
    "    print(f\"The Multiplication {number1} * {number2} = {number1*number2}\")\n",
    "elif operation==4:\n",
    "    print(f\"The Division {number1} / {number2} = {number1/number2}\")\n",
    "elif operation==5:\n",
    "    print(f\"Division of {number1} /{number2} gives the remainder {number1%number2}\")\n",
    "elif operation==6:\n",
    "    print(f\"result of  {number1} ^ {number2} is {number1**number2}\")\n",
    "else:\n",
    "    print(\"selected a wrong number\")\n"
   ]
  },
  {
   "cell_type": "markdown",
   "id": "56f526c9-54b4-4108-800b-dd97a37385b9",
   "metadata": {},
   "source": [
    "***Program*** WAP to get percentage\n"
   ]
  },
  {
   "cell_type": "code",
   "execution_count": 25,
   "id": "530ed51c-269b-4ae8-93a8-91a8ea941a78",
   "metadata": {},
   "outputs": [
    {
     "name": "stdout",
     "output_type": "stream",
     "text": [
      "MS.dhoni = 53.6144578313253\n",
      "V. Kohli= 63.38028169014085\n",
      "Azar = 47.05882352941176\n",
      "S. Ganguli = 32.77027027027027\n",
      "Rohit Sharma = 73.63636363636363\n"
     ]
    }
   ],
   "source": [
    "def per(favoured,total):\n",
    "    per=(favoured/total)*100\n",
    "    return(per)\n",
    "#most wins as captain\n",
    "d=per(178,332); print(f\"MS.dhoni = {d}\")\n",
    "k=per(135,213); print(f\"V. Kohli= {k}\")\n",
    "A=per(104,221); print(f\"Azar = {A}\")\n",
    "D=per(97,296); print(f\"S. Ganguli = {D}\")\n",
    "R=per(81,110); print(f\"Rohit Sharma = {R}\")"
   ]
  },
  {
   "cell_type": "markdown",
   "id": "c50d1da3-3cc2-43d8-a61a-12f3e6dd2ac4",
   "metadata": {},
   "source": [
    "***Program 3***  *WAP to calculate area of triangle*"
   ]
  },
  {
   "cell_type": "code",
   "execution_count": 11,
   "id": "a6217a02-7b10-4274-a304-cbf5cf0fb738",
   "metadata": {},
   "outputs": [
    {
     "name": "stdin",
     "output_type": "stream",
     "text": [
      "Enter the length of base 5\n",
      "Enter the length of height 5\n"
     ]
    },
    {
     "name": "stdout",
     "output_type": "stream",
     "text": [
      "The area of the triangle with base 5.0 and height5.0 is 12.5\n"
     ]
    }
   ],
   "source": [
    "base=float(input(\"Enter the length of base\"))\n",
    "height=float(input(\"Enter the length of height\"))\n",
    "area=0.5*base*height\n",
    "print(f\"The area of the triangle with base {base} and height {height} is {area}\")\n"
   ]
  },
  {
   "cell_type": "markdown",
   "id": "d0e585f2-cd06-4f3d-a77b-10b0998a35a1",
   "metadata": {},
   "source": [
    "*with user define function*"
   ]
  },
  {
   "cell_type": "code",
   "execution_count": 14,
   "id": "ac5da24a-b746-4f5e-9e50-4291feaa580f",
   "metadata": {},
   "outputs": [
    {
     "name": "stdout",
     "output_type": "stream",
     "text": [
      "the area of the triangle is 12.5\n"
     ]
    }
   ],
   "source": [
    "def area_triangle(base,height):\n",
    "    area=0.5*base*height\n",
    "    print(f\"the area of the triangle is {area}\")\n",
    "\n",
    "area_triangle(5,5)\n"
   ]
  },
  {
   "cell_type": "markdown",
   "id": "68716939-cd11-4ada-bec2-904cace14831",
   "metadata": {},
   "source": [
    "***Program 4*** WAP swapping numbers"
   ]
  },
  {
   "cell_type": "code",
   "execution_count": 29,
   "id": "13e28eb0-9780-4880-9354-231790fcf56e",
   "metadata": {},
   "outputs": [
    {
     "name": "stdin",
     "output_type": "stream",
     "text": [
      "enter the first number 5\n",
      "enter the second number 7\n"
     ]
    },
    {
     "name": "stdout",
     "output_type": "stream",
     "text": [
      "before swapping a = 5 & b = 7\n",
      "after swapping a = 7 & b = 5\n"
     ]
    }
   ],
   "source": [
    "a=int(input(\"enter the first number\"))\n",
    "b=int(input(\"enter the second number\"))\n",
    "\n",
    "print(f\"before swapping a = {a} & b = {b}\")\n",
    "\n",
    "temp=a\n",
    "a=b\n",
    "b=temp\n",
    "\n",
    "print(f\"after swapping a = {a} & b = {b}\")"
   ]
  },
  {
   "cell_type": "code",
   "execution_count": 64,
   "id": "3477a9de-fc88-47e0-b811-b0bed829fd22",
   "metadata": {},
   "outputs": [
    {
     "name": "stdin",
     "output_type": "stream",
     "text": [
      "enter the first number 5\n",
      "enter the second number 23\n"
     ]
    },
    {
     "name": "stdout",
     "output_type": "stream",
     "text": [
      "Before swapping: a = 5 & b = 23\n",
      "After swapping:\n",
      "a = 23\n",
      "b = 5\n"
     ]
    }
   ],
   "source": [
    "a = int(input(\"enter the first number\"))\n",
    "b = int(input(\"enter the second number\"))\n",
    "print(f\"Before swapping: a = {a} & b = {b}\")\n",
    "# Swapping without a temporary variable\n",
    "a, b = b, a\n",
    "print(\"After swapping:\")\n",
    "print(\"a =\", a)\n",
    "print(\"b =\", b)"
   ]
  },
  {
   "cell_type": "markdown",
   "id": "39c9a876-297c-4813-a7ad-6695f99dfd25",
   "metadata": {},
   "source": [
    "***Program 5*** WAP to generate random numbers"
   ]
  },
  {
   "cell_type": "code",
   "execution_count": 49,
   "id": "b898c818-7340-4623-86d8-021d0363d627",
   "metadata": {},
   "outputs": [
    {
     "name": "stdout",
     "output_type": "stream",
     "text": [
      "the random numbers from normal distribution are \n",
      "[3.12471776 4.8323716  2.30033306 3.48288262 3.19067106 1.89808807\n",
      " 3.51555301 2.97431631 4.07755117 3.77128647 3.26288528 2.56012164\n",
      " 4.83284121 2.51534798 3.81601677 3.51716763 2.32140576 3.57326134\n",
      " 1.35763009 2.81543739 3.85598227 2.59006763 3.58955394 5.21362162\n",
      " 3.49533278 3.8274934  3.68120012 4.23284098 1.75603047 1.99482588\n",
      " 1.75417451 3.5659271  4.00054917 3.56679728 1.66159501 2.37116216\n",
      " 4.1122631  2.01811587 1.8482485  2.2697972  2.01887111 5.47332013\n",
      " 2.51673993 4.66202163 3.29216098 3.51754854 3.16693514 3.52332117\n",
      " 3.33777883 5.2107239  2.74847987 3.37079797 2.21021715 2.00813247\n",
      " 0.42181135 4.64649673 1.67351605 1.6740246  0.66822793 2.69629804\n",
      " 1.99097697 2.85597082 4.08214212 2.94591534 3.25512274 3.29034447\n",
      " 3.49449521 3.64069753 3.14040728 5.31613486 3.61284739 1.31783148\n",
      " 1.53780213 2.22848457 4.14491228 2.13261498 3.17975976 1.95226528\n",
      " 3.82523499 4.72520144 2.34243131 0.49771212 4.44246144 2.36016502\n",
      " 3.1517849  4.48289866 2.35203382 2.69993935 5.50473176 4.01653544\n",
      " 4.16297502 3.33624857 3.69988058 3.08956785 4.68017871 2.33530815\n",
      " 3.60476747 2.96467143 2.38092534 3.02499328]\n",
      "\n",
      "random numbers from poission distribution are \n",
      "[3 6 5 4 2 2 3 3 6 2 0 5 1 3 8 2 3 2 3 4 1 3 5 1 1 3 1 2 4 6 3 6 2 3 1 3 1\n",
      " 3 4 1 1 2 1 6 5 3 2 3 3 1 2 3 2 0 0 4 5 5 3 1 4 1 2 4 6 2 5 0 4 4 4 4 7 4\n",
      " 1 5 6 3 2 0 5 5 2 1 2 2 3 4 6 2 1 5 3 3 2 2 4 2 4 3]\n"
     ]
    }
   ],
   "source": [
    "import random\n",
    "import numpy as np\n",
    "a=random.randint(10,100)\n",
    "a\n",
    "\n",
    "b=np.random.normal(3,1,100)\n",
    "print(f\"the random numbers from normal distribution are \\n{b}\")\n",
    "\n",
    "c=np.random.poisson(3,100)\n",
    "print(f\"\\nrandom numbers from poission distribution are \\n{c}\")"
   ]
  },
  {
   "cell_type": "markdown",
   "id": "8484404c-57f9-4dcc-88d8-324d53cb1ed0",
   "metadata": {},
   "source": [
    "***Program 6***\n",
    "*Write a Python program to convert kilometers to miles.*"
   ]
  },
  {
   "cell_type": "code",
   "execution_count": 51,
   "id": "c457c214-c114-4e1f-9806-fb9f71377880",
   "metadata": {},
   "outputs": [
    {
     "name": "stdin",
     "output_type": "stream",
     "text": [
      "Enter the kilometers 100\n"
     ]
    },
    {
     "name": "stdout",
     "output_type": "stream",
     "text": [
      " 100.0 kilometers is equal to 62.137100000000004 miles\n"
     ]
    }
   ],
   "source": [
    "kilo=float(input(\"Enter the kilometers\"))\n",
    "\n",
    "conversion_factor = 0.621371\n",
    "miles=kilo*conversion_factor\n",
    "\n",
    "print(f\" {kilo} kilometers is equal to {miles} miles\")\n",
    "\n"
   ]
  },
  {
   "cell_type": "markdown",
   "id": "b9903f62-92f6-41dc-88e4-122c24febe9d",
   "metadata": {},
   "source": [
    "**Write a Python program to convert miles to kilometers.**"
   ]
  },
  {
   "cell_type": "code",
   "execution_count": 53,
   "id": "c82ca5ec-7395-434d-9530-f6b76f353d57",
   "metadata": {},
   "outputs": [
    {
     "name": "stdin",
     "output_type": "stream",
     "text": [
      "enter miles 1\n"
     ]
    },
    {
     "name": "stdout",
     "output_type": "stream",
     "text": [
      "1.0 miles is equal to 1.609344 kilometers\n"
     ]
    }
   ],
   "source": [
    "miles=float(input(\"enter miles\"))\n",
    "\n",
    "conversion_=1.609344\n",
    "kilometer=miles*conversion_\n",
    "\n",
    "print(f\"{miles} miles is equal to {kilometer} kilometers\")"
   ]
  },
  {
   "cell_type": "markdown",
   "id": "7551aee7-00e8-4ee3-a61c-7926a683a768",
   "metadata": {},
   "source": [
    "***Program 7*** Write a Python program to display calendar"
   ]
  },
  {
   "cell_type": "code",
   "execution_count": 59,
   "id": "626c5fa3-9265-4dcb-ac2f-28fd8f3cce82",
   "metadata": {},
   "outputs": [
    {
     "name": "stdin",
     "output_type": "stream",
     "text": [
      "Enter year:  2002\n",
      "Enter month:  5\n"
     ]
    },
    {
     "name": "stdout",
     "output_type": "stream",
     "text": [
      "      May 2002\n",
      "Mo Tu We Th Fr Sa Su\n",
      "       1  2  3  4  5\n",
      " 6  7  8  9 10 11 12\n",
      "13 14 15 16 17 18 19\n",
      "20 21 22 23 24 25 26\n",
      "27 28 29 30 31\n",
      "\n"
     ]
    }
   ],
   "source": [
    "import calendar\n",
    "\n",
    "year = int(input(\"Enter year: \"))\n",
    "month = int(input(\"Enter month: \"))\n",
    "cal = calendar.month(year, month)\n",
    "print(cal)\n"
   ]
  },
  {
   "cell_type": "code",
   "execution_count": null,
   "id": "da3419b1-0d64-443e-ba3c-0a7c6702abae",
   "metadata": {},
   "outputs": [],
   "source": []
  },
  {
   "cell_type": "code",
   "execution_count": null,
   "id": "3032d1b3-2ed8-4686-90d7-54822e2f5d91",
   "metadata": {},
   "outputs": [],
   "source": []
  },
  {
   "cell_type": "code",
   "execution_count": null,
   "id": "f7bba2aa-5618-402d-b896-bf3a7bc447fd",
   "metadata": {},
   "outputs": [],
   "source": []
  },
  {
   "cell_type": "code",
   "execution_count": null,
   "id": "8963a626-ea70-4f48-b59d-a64fce49be98",
   "metadata": {},
   "outputs": [],
   "source": []
  },
  {
   "cell_type": "code",
   "execution_count": null,
   "id": "dbf90a67-dc6e-4555-985b-8062c567abd5",
   "metadata": {},
   "outputs": [],
   "source": []
  },
  {
   "cell_type": "code",
   "execution_count": null,
   "id": "17d8d1d8-02a9-46d7-bec9-216016ea6a6b",
   "metadata": {},
   "outputs": [],
   "source": []
  },
  {
   "cell_type": "code",
   "execution_count": null,
   "id": "2c8957f3-d82b-4dc6-8ec0-e6ff0dc3ad38",
   "metadata": {},
   "outputs": [],
   "source": []
  },
  {
   "cell_type": "code",
   "execution_count": null,
   "id": "151c1bf6-a4e4-40db-a296-4c4bf3b4f8a1",
   "metadata": {},
   "outputs": [],
   "source": []
  },
  {
   "cell_type": "code",
   "execution_count": null,
   "id": "3715d7af-6ab2-4292-9d76-fa393a12b6c7",
   "metadata": {},
   "outputs": [],
   "source": []
  },
  {
   "cell_type": "code",
   "execution_count": null,
   "id": "a5bfcf0a-10cc-4d6d-ade1-85b501273679",
   "metadata": {},
   "outputs": [],
   "source": []
  }
 ],
 "metadata": {
  "kernelspec": {
   "display_name": "Python 3 (ipykernel)",
   "language": "python",
   "name": "python3"
  },
  "language_info": {
   "codemirror_mode": {
    "name": "ipython",
    "version": 3
   },
   "file_extension": ".py",
   "mimetype": "text/x-python",
   "name": "python",
   "nbconvert_exporter": "python",
   "pygments_lexer": "ipython3",
   "version": "3.12.1"
  }
 },
 "nbformat": 4,
 "nbformat_minor": 5
}
