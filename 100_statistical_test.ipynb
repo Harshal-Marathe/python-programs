{
 "cells": [
  {
   "cell_type": "code",
   "execution_count": 2,
   "id": "f2611f12-ba1f-4369-9ec5-112e71532daf",
   "metadata": {},
   "outputs": [],
   "source": [
    "import pandas as pd\n",
    "import numpy as np\n",
    "import scipy.stats as ss\n",
    "from statsmodels.stats.weightstats import ztest\n"
   ]
  },
  {
   "cell_type": "markdown",
   "id": "af5d38d8-ad6b-4cdb-b3ab-9a6b5d1ef08a",
   "metadata": {},
   "source": [
    "## Z-test for a population mean (variance known)\n",
    "\n",
    "Object\n",
    "To investigate the significance of the difference between an assumed population mean\n",
    "µ0 and a sample mean $\\overline{X}$.\n",
    "\n",
    "$Z = \\frac{\\bar{X} - \\mu}{\\frac{\\sigma}{\\sqrt{n}}}$\n"
   ]
  },
  {
   "cell_type": "code",
   "execution_count": 9,
   "id": "905b76b4-8bb4-4a31-b94e-4999f6e36ef7",
   "metadata": {},
   "outputs": [
    {
     "name": "stdout",
     "output_type": "stream",
     "text": [
      "Z Statistic: 0.5741692517632145\n",
      "P-value: 0.5816333668955778\n",
      "Reject null hypothesis: False\n"
     ]
    }
   ],
   "source": [
    "population_mean = 100\n",
    "population_std = 3  \n",
    "x = ss.norm.rvs(100,9, size=20)\n",
    "# Performing Z-test\n",
    "z_statistic, p_value = ztest(x, value=population_mean, alternative='two-sided')\n",
    "print(\"Z-statistic:\", z_statistic)\n",
    "print(\"P-value:\", p_value)\n"
   ]
  },
  {
   "cell_type": "markdown",
   "id": "bed14375-c9e5-4865-910e-b031f9433ce4",
   "metadata": {},
   "source": [
    "## Test 2 Z-test for two population means (variances known and equal)\n",
    "\n",
    "To investigate the significance of the difference between the means of two populations\n",
    "\n",
    "$Z = \\frac{{\\bar{x}_1 - \\bar{x}_2}-(\\mu_1-\\mu_2)}{{\\sigma\\sqrt{\\frac{{1}}{{n_1}} + \\frac{{1}}{{n_2}}}}}$\n"
   ]
  },
  {
   "cell_type": "code",
   "execution_count": 10,
   "id": "d52e3f50-9c4a-474f-bbb5-971382f77a07",
   "metadata": {},
   "outputs": [
    {
     "name": "stdout",
     "output_type": "stream",
     "text": [
      "Z Statistic: 0.5741692517632145\n",
      "P-value: 0.5816333668955778\n",
      "Reject null hypothesis: False\n"
     ]
    }
   ],
   "source": [
    "from scipy import stats\n",
    "\n",
    "# Example data\n",
    "sample1 = [25, 30, 35, 40, 45]\n",
    "sample2 = [20, 28, 32, 38, 42]\n",
    "\n",
    "# Define significance level\n",
    "alpha = 0.05\n",
    "\n",
    "# Perform Z-test for two population means\n",
    "z_statistic, p_value = stats.ttest_ind(sample1, sample2)\n",
    "\n",
    "# Determine if the null hypothesis should be rejected\n",
    "reject_null = p_value < alpha\n",
    "\n",
    "print(\"Z Statistic:\", z_statistic)\n",
    "print(\"P-value:\", p_value)\n",
    "print(\"Reject null hypothesis:\", reject_null)"
   ]
  },
  {
   "cell_type": "code",
   "execution_count": 13,
   "id": "a7696e17-c9f1-480d-b977-73a6549bb0ec",
   "metadata": {},
   "outputs": [
    {
     "name": "stdout",
     "output_type": "stream",
     "text": [
      "Z-score: 2.309401076758503\n",
      "P-value: 0.02092133533779403\n"
     ]
    }
   ],
   "source": [
    "def z_test_two_means(sample_mean1, sample_mean2, population_std, n1, n2):\n",
    "    se = population_std * ((1 / n1) + (1 / n2))**0.5\n",
    "    z = (sample_mean1 - sample_mean2) / se\n",
    "    p_value = 2 * ss.norm.cdf(-abs(z))  # two-tailed test\n",
    "    \n",
    "    return z, p_value\n",
    "\n",
    "# Example data\n",
    "sample_mean1 = 110 \n",
    "sample_mean2 = 100 \n",
    "population_std = 15\n",
    "n1 = 30  \n",
    "n2 = 20  \n",
    "\n",
    "# Perform Z-test\n",
    "z_score, p_value = z_test_two_means(sample_mean1, sample_mean2, population_std, n1, n2)\n",
    "print(\"Z-score:\", z_score)\n",
    "print(\"P-value:\", p_value)\n"
   ]
  },
  {
   "cell_type": "markdown",
   "id": "93e23934-5c24-489e-952a-ee524fcc8b38",
   "metadata": {},
   "source": [
    "## Test 3 Z-test for two population means (variancesknown and unequal)\n",
    "\n",
    "Object\n",
    "To investigate the significance of the difference between the means of two populations.\n",
    "\n",
    "$Z = \\frac{{\\bar{X}_1 - \\bar{X}_2}}{{\\sqrt{\\frac{{\\sigma_1^2}}{{n_1}} + \\frac{{\\sigma_2^2}}{{n_2}}}}}$\n"
   ]
  },
  {
   "cell_type": "code",
   "execution_count": 11,
   "id": "694f1801-4008-43b3-b40e-b62fd1538454",
   "metadata": {},
   "outputs": [
    {
     "name": "stdout",
     "output_type": "stream",
     "text": [
      "T Statistic: 0.5741692517632145\n",
      "P-value: 0.5817425944182096\n",
      "Fail to reject null hypothesis: There is no significant difference between the means of two populations.\n"
     ]
    }
   ],
   "source": [
    "from scipy import stats\n",
    "\n",
    "# Example data\n",
    "sample1 = [25, 30, 35, 40, 45]\n",
    "sample2 = [20, 28, 32, 38, 42]\n",
    "\n",
    "# Perform Z-test assuming variances are known and unequal\n",
    "t_statistic, p_value = stats.ttest_ind(sample1, sample2, equal_var=False)\n",
    "\n",
    "alpha = 0.05\n",
    "\n",
    "print(\"T Statistic:\", t_statistic)\n",
    "print(\"P-value:\", p_value)\n",
    "\n",
    "if p_value < alpha:\n",
    "    print(\"Reject null hypothesis: There is a significant difference between the means of two populations.\")\n",
    "else:\n",
    "    print(\"Fail to reject null hypothesis: There is no significant difference between the means of two populations.\")"
   ]
  },
  {
   "cell_type": "code",
   "execution_count": 16,
   "id": "fecea929-091f-4815-8817-9de65e23347d",
   "metadata": {},
   "outputs": [
    {
     "name": "stdout",
     "output_type": "stream",
     "text": [
      "Z-score: 1.441153384245784\n",
      "P-value: 0.14954135458461515\n"
     ]
    }
   ],
   "source": [
    "group1 = np.array([75, 80, 85, 90, 95]) \n",
    "group2 = np.array([65, 70, 75, 80, 85, 90])  \n",
    "mean1 = np.mean(group1)  \n",
    "mean2 = np.mean(group2)  \n",
    "std1 = np.std(group1, ddof=1)  \n",
    "std2 = np.std(group2, ddof=1)  \n",
    "n1 = len(group1)  \n",
    "n2 = len(group2) \n",
    "\n",
    "z_score = (mean1 - mean2) / np.sqrt((std1**2 / n1) + (std2**2 / n2))\n",
    "\n",
    "p_value = 2 * (1 - ss.norm.cdf(abs(z_score)))\n",
    "\n",
    "print(\"Z-score:\", z_score)\n",
    "print(\"P-value:\", p_value)\n"
   ]
  },
  {
   "cell_type": "markdown",
   "id": "0c33c431-fdf5-4dcb-aaab-713cfea6cfa7",
   "metadata": {},
   "source": [
    "## Test 4 Z-test for a proportion (binomial distribution)\n",
    "\n",
    "Object\n",
    "To investigate the significance of the difference between an assumed proportion p0 and an observed proportion p\n",
    "\n",
    "$Z = \\frac{{p - p_0}}{{\\sqrt{\\frac{{p_0(1 - p_0)}}{{n}}}}}$\n"
   ]
  },
  {
   "cell_type": "code",
   "execution_count": 14,
   "id": "e66cfbe3-fa9d-44cc-861c-d87cf51469e5",
   "metadata": {},
   "outputs": [
    {
     "name": "stdout",
     "output_type": "stream",
     "text": [
      "Z Statistic: 0.8466675133346031\n",
      "P-value: 0.3971804712199202\n",
      "Reject null hypothesis: False\n"
     ]
    }
   ],
   "source": [
    "from statsmodels.stats.proportion import proportions_ztest\n",
    "\n",
    "# Sample data\n",
    "successes_sample1 = 25\n",
    "total_sample1 = 100\n",
    "successes_sample2 = 20\n",
    "total_sample2 = 100\n",
    "\n",
    "# Perform Z-test for proportions\n",
    "count = np.array([successes_sample1, successes_sample2])\n",
    "nobs = np.array([total_sample1, total_sample2])\n",
    "\n",
    "# Assuming null hypothesis of equal proportions\n",
    "z_stat, p_value = proportions_ztest(count, nobs)\n",
    "\n",
    "# Output results\n",
    "print(\"Z Statistic:\", z_stat)\n",
    "print(\"P-value:\", p_value)\n",
    "\n",
    "# Determine if the null hypothesis should be rejected\n",
    "alpha = 0.05\n",
    "reject_null = p_value < alpha\n",
    "print(\"Reject null hypothesis:\", reject_null)"
   ]
  },
  {
   "cell_type": "markdown",
   "id": "0ef4b741-8bfd-4edd-80d4-eaddbcf9d0cf",
   "metadata": {},
   "source": [
    "## Test 5 Z-test for the equality of two proportions(binomial distribution)\n",
    "\n",
    "Object\n",
    "To investigate the assumption that the proportions π1 and π2 of elements from two populations are equal, based on two samples, one from each population.\n",
    "\n",
    "$Z = \\frac{(\\hat{p}_1 - \\hat{p}_2)}{\\sqrt{\\hat{p}(1-\\hat{p})\\left(\\frac{1}{n_1} + \\frac{1}{n_2}\\right)}}$"
   ]
  },
  {
   "cell_type": "code",
   "execution_count": 15,
   "id": "83657b7c-751b-416e-98b1-8b2984a2db04",
   "metadata": {},
   "outputs": [
    {
     "name": "stdout",
     "output_type": "stream",
     "text": [
      "Z Statistic: 1.4824986333222028\n",
      "P-value: 0.1382076669740257\n",
      "Fail to reject null hypothesis: There is no significant difference between the proportions.\n"
     ]
    }
   ],
   "source": [
    "from statsmodels.stats.proportion import proportions_ztest\n",
    "\n",
    "# Example data\n",
    "successes1 = 40  # Number of successes in sample 1\n",
    "trials1 = 100    # Number of trials in sample 1\n",
    "\n",
    "successes2 = 30  # Number of successes in sample 2\n",
    "trials2 = 100    # Number of trials in sample 2\n",
    "\n",
    "# Perform Z-test for two proportions\n",
    "z_stat, p_value = proportions_ztest([successes1, successes2], [trials1, trials2])\n",
    "\n",
    "# Print results\n",
    "print(\"Z Statistic:\", z_stat)\n",
    "print(\"P-value:\", p_value)\n",
    "\n",
    "# Interpret results\n",
    "alpha = 0.05\n",
    "if p_value < alpha:\n",
    "    print(\"Reject null hypothesis: There is a significant difference between the proportions.\")\n",
    "else:\n",
    "    print(\"Fail to reject null hypothesis: There is no significant difference between the proportions.\")"
   ]
  },
  {
   "cell_type": "code",
   "execution_count": 2,
   "id": "963d90d0-2eed-46d7-aaae-719bcde3ce4c",
   "metadata": {},
   "outputs": [
    {
     "name": "stdout",
     "output_type": "stream",
     "text": [
      "Z-test statistic: -2.1239769762143657\n",
      "P-value: 0.033672068856345855\n"
     ]
    }
   ],
   "source": [
    "import statsmodels.api as sm\n",
    "successes_group1 = 45  # Number of successes in group 1\n",
    "nobs_group1 = 100     # Total number of observations in group 1\n",
    "\n",
    "successes_group2 = 60  # Number of successes in group 2\n",
    "nobs_group2 = 100     # Total number of observations in group 2\n",
    "count = np.array([successes_group1, successes_group2])\n",
    "nobs = np.array([nobs_group1, nobs_group2])\n",
    "zstat, pval = sm.stats.proportions_ztest(count, nobs)\n",
    "\n",
    "# Output the test statistic and p-value\n",
    "print(\"Z-test statistic:\", zstat)\n",
    "print(\"P-value:\", pval)\n"
   ]
  },
  {
   "cell_type": "markdown",
   "id": "70881aaa-d9af-428c-9aa0-a0303bc7c4c8",
   "metadata": {},
   "source": [
    "## Test 6: Z-test for comparing two counts (Poisson distribution)\n",
    "\n",
    "Object\n",
    "To investigate the significance of the difference between two counts\n",
    "\n",
    "Let n1 and n2 be the two counts taken over times t1 and t2, respectively. Then the two\n",
    "average frequencies are R1 = n1/t1 and R2 = n2/t2. To test the assumption of equal\n",
    "average frequencies we use the test statistic\n",
    "$Z = \\frac{\\bar{R}_1 - \\bar{R}_2}{\\sqrt{\\frac{R_1}{t_1} + \\frac{R_2}{t_2}}}$\n",
    "\n",
    "\n"
   ]
  },
  {
   "cell_type": "code",
   "execution_count": 12,
   "id": "33135cab-92c5-4a3d-856b-8db4d02668ff",
   "metadata": {},
   "outputs": [
    {
     "name": "stdout",
     "output_type": "stream",
     "text": [
      "Z-score: -7.071067811865475\n",
      "P-value: 1.5374597944280347e-12\n"
     ]
    }
   ],
   "source": [
    "from scipy import stats\n",
    "import numpy as np\n",
    "\n",
    "# Define the counts for two samples\n",
    "count_sample1 = 50\n",
    "count_sample2 = 60\n",
    "\n",
    "# Calculate the means and standard deviations of the Poisson distributions\n",
    "mean1 = count_sample1\n",
    "mean2 = count_sample2\n",
    "std_dev1 = np.sqrt(count_sample1)\n",
    "std_dev2 = np.sqrt(count_sample2)\n",
    "\n",
    "# Calculate the pooled standard error\n",
    "pooled_std_error = np.sqrt((std_dev1**2 / count_sample1) + (std_dev2**2 / count_sample2))\n",
    "\n",
    "# Calculate the Z-score\n",
    "z_score = (mean1 - mean2) / pooled_std_error\n",
    "\n",
    "# Calculate the p-value\n",
    "p_value = stats.norm.cdf(z_score)\n",
    "\n",
    "# Two-tailed test, so double the p-value\n",
    "p_value *= 2\n",
    "\n",
    "print(\"Z-score:\", z_score)\n",
    "print(\"P-value:\", p_value)\n",
    "\n"
   ]
  },
  {
   "cell_type": "markdown",
   "id": "379d5e04-334e-43ea-a9ca-3e55543aab95",
   "metadata": {},
   "source": [
    "## Test 7 t-test for a population mean (variance unknown)\n",
    "Object\n",
    "To investigate the significance of the difference between an assumed population mean µ0 and a sample mean $\\overline{x}$\n",
    "\n",
    "$t = \\frac{\\bar{x} - \\mu}{s/\\sqrt{n}}$"
   ]
  },
  {
   "cell_type": "code",
   "execution_count": 6,
   "id": "a64d4297-fca5-4697-81ac-d9a5b56eea19",
   "metadata": {},
   "outputs": [
    {
     "name": "stdout",
     "output_type": "stream",
     "text": [
      "T-statistic: 0.3764233161298853\n",
      "P-value: 0.7093423019666218\n",
      "Fail to reject the null hypothesis. There is not enough evidence to suggest that the population mean is not 4.5\n"
     ]
    }
   ],
   "source": [
    "# Generate some sample data\n",
    "np.random.seed(42)  # For reproducibility\n",
    "sample_data = np.random.normal(loc=5, scale=2, size=30)  # Sample data with mean 5 and std deviation 2\n",
    "\n",
    "# Define the population mean to test against\n",
    "pop_mean = 4.5\n",
    "\n",
    "# Perform t-test\n",
    "t_statistic, p_value = ss.ttest_1samp(sample_data, pop_mean)\n",
    "\n",
    "# Print results\n",
    "print(\"T-statistic:\", t_statistic)\n",
    "print(\"P-value:\", p_value)\n",
    "\n",
    "# Determine significance\n",
    "alpha = 0.05\n",
    "if p_value < alpha:\n",
    "    print(\"Reject the null hypothesis. There is significant evidence to suggest that the population mean is not\", pop_mean)\n",
    "else:\n",
    "    print(\"Fail to reject the null hypothesis. There is not enough evidence to suggest that the population mean is not\", pop_mean)\n"
   ]
  },
  {
   "cell_type": "markdown",
   "id": "efbf375d-8d74-4310-975f-02afd3b020d9",
   "metadata": {},
   "source": [
    "## Test 8 t-test for two population means (variancesunknown but equal)\n",
    "Object:- To investigate the significance of the difference between the means of two populations\n",
    "\n",
    "$s_p^2 = \\frac{(n_1 - 1)s_1^2 + (n_2 - 1)s_2^2}{n_1 + n_2 - 2}$\n",
    "\n",
    "\n",
    "$t = \\frac{\\bar{X} - \\bar{Y}}{s_p \\sqrt{\\frac{1}{n_1} + \\frac{1}{n_2}}}$"
   ]
  },
  {
   "cell_type": "code",
   "execution_count": 11,
   "id": "1f3ea8ad-42fb-4f66-a78c-3333f22579df",
   "metadata": {},
   "outputs": [
    {
     "name": "stdout",
     "output_type": "stream",
     "text": [
      "T-Statistic: 1.9013318388714453\n",
      "P-Value: 0.07338999818575455\n",
      "Fail to reject the null hypothesis. There is no significant difference between the means.\n"
     ]
    }
   ],
   "source": [
    "\n",
    "from scipy import stats\n",
    "\n",
    "# Sample data for two populations\n",
    "population1 = [17, 21, 26, 20, 19, 22, 18, 23, 25, 24]\n",
    "population2 = [16, 19, 23, 18, 17, 20, 15, 21, 22, 20]\n",
    "\n",
    "# Perform t-test assuming equal variances\n",
    "t_statistic, p_value = stats.ttest_ind(population1, population2, equal_var=True)\n",
    "\n",
    "# Print results\n",
    "print(\"T-Statistic:\", t_statistic)\n",
    "print(\"P-Value:\", p_value)\n",
    "\n",
    "# Interpret the results\n",
    "alpha = 0.05\n",
    "if p_value < alpha:\n",
    "    print(\"Reject the null hypothesis. There is a significant difference between the means.\")\n",
    "else:\n",
    "    print(\"Fail to reject the null hypothesis. There is no significant difference between the means.\")\n"
   ]
  },
  {
   "cell_type": "markdown",
   "id": "23ffa858-9861-470a-837e-62a5f443be6a",
   "metadata": {},
   "source": [
    "## Test 9 t-test for two population means (variances unknown and unequal)\n",
    "\n",
    "Object:- To investigate the significance of the difference between the means of two populations.\n",
    "\n",
    "$t = \\frac{\\bar{X} - \\bar{Y}}{\\sqrt{\\frac{s_1^2}{n_1} + \\frac{s_2^2}{n_2}}}$"
   ]
  },
  {
   "cell_type": "code",
   "execution_count": 9,
   "id": "46700c91-e141-4443-8bbf-d265ffe938a3",
   "metadata": {},
   "outputs": [
    {
     "name": "stdout",
     "output_type": "stream",
     "text": [
      "t-statistic: 2.0\n",
      "p-value: 0.08051623795726257\n"
     ]
    }
   ],
   "source": [
    "\n",
    "# Example usage\n",
    "x1 = [85, 90, 95, 100, 105]  # Sample data for population 1\n",
    "x2 = [75, 80, 85, 90, 95]     # Sample data for population 2\n",
    "\n",
    "t_statistic, p_value = stats.ttest_ind(x1, x2, equal_var=False)\n",
    "print(\"t-statistic:\", t_stat)\n",
    "print(\"p-value:\", p_value)\n"
   ]
  },
  {
   "cell_type": "markdown",
   "id": "a132fa43-0f0d-41b8-8935-06da8b233ae0",
   "metadata": {},
   "source": [
    "## Test 10 t-test for two population means (method of paired comparisons)\n",
    "Object:-\n",
    "\n",
    "To investigate the significance of the difference between two population means, µ1 and µ2. No assumption is made about the population variances\n",
    "\n",
    "$t = \\frac{\\bar{d} - \\mu_0}{\\frac{s_d}{\\sqrt{n}}}$"
   ]
  },
  {
   "cell_type": "code",
   "execution_count": 10,
   "id": "a12dc470-9abf-4337-b55c-68501c98dc24",
   "metadata": {},
   "outputs": [
    {
     "name": "stdout",
     "output_type": "stream",
     "text": [
      "T-statistic: 3.9999999999999996\n",
      "P-value: 0.016130089900092532\n",
      "Reject the null hypothesis. There is a significant difference between the means.\n"
     ]
    }
   ],
   "source": [
    "from scipy import stats\n",
    "\n",
    "# Sample data for two groups\n",
    "group1 = [15, 16, 18, 20, 22]\n",
    "group2 = [14, 16, 17, 19, 21]\n",
    "\n",
    "# Perform paired t-test\n",
    "t_statistic, p_value = stats.ttest_rel(group1, group2)\n",
    "\n",
    "# Print the results\n",
    "print(\"T-statistic:\", t_statistic)\n",
    "print(\"P-value:\", p_value)\n",
    "\n",
    "# Interpret the results\n",
    "alpha = 0.05\n",
    "if p_value < alpha:\n",
    "    print(\"Reject the null hypothesis. There is a significant difference between the means.\")\n",
    "else:\n",
    "    print(\"Fail to reject the null hypothesis. There is no significant difference between the means.\")\n"
   ]
  },
  {
   "cell_type": "markdown",
   "id": "50f81ae9-ca18-4e5e-9609-33066b2ed522",
   "metadata": {},
   "source": [
    "## Test 11 t-test of a regression coefficient\n",
    "Object\n",
    "To investigate the significance of the regression coefficient of y on x\n",
    "\n",
    "$t = \\frac{\\hat{\\beta} - \\beta_0}{\\text{SE}(\\hat{\\beta})}$"
   ]
  },
  {
   "cell_type": "code",
   "execution_count": 13,
   "id": "151ca3be-fec7-45c7-86f6-ecb7af13d716",
   "metadata": {},
   "outputs": [
    {
     "name": "stdout",
     "output_type": "stream",
     "text": [
      "t-statistic: inf\n",
      "p-value: 0.0\n"
     ]
    },
    {
     "name": "stderr",
     "output_type": "stream",
     "text": [
      "C:\\Users\\marat\\AppData\\Local\\Temp\\ipykernel_7032\\2237107004.py:19: RuntimeWarning: divide by zero encountered in scalar divide\n",
      "  t_statistic = slope / slope_std_err\n"
     ]
    }
   ],
   "source": [
    "import numpy as np\n",
    "from scipy import stats\n",
    "\n",
    "# Example data\n",
    "x = np.array([1, 2, 3, 4, 5])\n",
    "y = np.array([2, 3, 4, 5, 6])\n",
    "\n",
    "# Perform linear regression to get the coefficients\n",
    "slope, intercept, r_value, p_value, std_err = stats.linregress(x, y)\n",
    "\n",
    "# Calculate standard error of the slope\n",
    "n = len(x)\n",
    "df = n - 2  # degrees of freedom\n",
    "residuals = y - (slope * x + intercept)\n",
    "residual_std_err = np.sqrt(np.sum(residuals ** 2) / df)\n",
    "slope_std_err = residual_std_err / np.sqrt(np.sum((x - np.mean(x)) ** 2))\n",
    "\n",
    "# Calculate t-statistic\n",
    "t_statistic = slope / slope_std_err\n",
    "\n",
    "# Calculate p-value\n",
    "p_value = stats.t.sf(np.abs(t_statistic), df) * 2  # two-sided test\n",
    "\n",
    "print(\"t-statistic:\", t_statistic)\n",
    "print(\"p-value:\", p_value)\n"
   ]
  },
  {
   "cell_type": "markdown",
   "id": "76b84e87-ca87-4c57-a486-65703a1685f4",
   "metadata": {},
   "source": [
    "## Test 12 t-test of a correlation coefficient\n",
    "Object\n",
    "To investigate whether the difference between the sample correlation coefficient and zero is statistically significant\n",
    "\n",
    "$t = \\frac{r \\sqrt{n - 2}}{\\sqrt{1 - r^2}}$\n",
    "\n",
    "where $r = \\frac{{\\sum_{i=1}^{n} (x_i - \\bar{x})(y_i - \\bar{y})}}{{\\sqrt{\\sum_{i=1}^{n} (x_i - \\bar{x})^2 \\sum_{i=1}^{n} (y_i - \\bar{y})^2}}}$"
   ]
  },
  {
   "cell_type": "code",
   "execution_count": 14,
   "id": "0e0873ac-8c6e-41f2-a8b6-755c914a29df",
   "metadata": {},
   "outputs": [
    {
     "name": "stdout",
     "output_type": "stream",
     "text": [
      "t-value: 5.196152422706631\n",
      "p-value: 4.120215931102678e-06\n"
     ]
    }
   ],
   "source": [
    "import numpy as np\n",
    "from scipy.stats import t\n",
    "\n",
    "def correlation_t_test(r, n):\n",
    "    df = n - 2  # degrees of freedom\n",
    "    t_value = r * np.sqrt(df) / np.sqrt(1 - r**2)\n",
    "    p_value = 2 * (1 - t.cdf(abs(t_value), df))\n",
    "    return t_value, p_value\n",
    "\n",
    "# Example usage:\n",
    "r = 0.6  # correlation coefficient\n",
    "n = 50   # number of samples\n",
    "t_value, p_value = correlation_t_test(r, n)\n",
    "print(\"t-value:\", t_value)\n",
    "print(\"p-value:\", p_value)\n"
   ]
  },
  {
   "cell_type": "markdown",
   "id": "c4873988-d911-4de7-a01a-b6972d1b81b7",
   "metadata": {},
   "source": [
    "## Test 13 Z-test of a correlation coefficient\n",
    "Object\n",
    "To investigate the significance of the difference between a correlation coefficient and a specified value ρ0\n",
    "\n",
    "$Z = \\frac{1}{2} \\ln\\left(\\frac{{1+r}}{{1-r}}\\right)$"
   ]
  },
  {
   "cell_type": "code",
   "execution_count": 17,
   "id": "2ac3886d-c56d-4473-abcd-47099e3f9cf4",
   "metadata": {},
   "outputs": [
    {
     "name": "stdout",
     "output_type": "stream",
     "text": [
      "Z-score: 6.670243932669069\n",
      "P-value: 2.55377941016377e-11\n"
     ]
    }
   ],
   "source": [
    "import numpy as np\n",
    "from scipy.stats import pearsonr\n",
    "\n",
    "def z_test_correlation(r, n):\n",
    "\n",
    "    # Calculate the Z-score using Fisher's transformation\n",
    "    z_score = 0.5 * np.log((1 + r) / (1 - r)) * np.sqrt(n - 3)\n",
    "\n",
    "    # Calculate the p-value\n",
    "    p_value = 2 * (1 - ss.norm.cdf(abs(z_score)))\n",
    "\n",
    "    return z_score, p_value\n",
    "\n",
    "# Example usage:\n",
    "# Sample correlation coefficient\n",
    "r = 0.75\n",
    "# Sample size\n",
    "n = 50\n",
    "\n",
    "# Perform Z-test\n",
    "z_score, p_value = z_test_correlation(r, n)\n",
    "\n",
    "print(\"Z-score:\", z_score)\n",
    "print(\"P-value:\", p_value)\n"
   ]
  },
  {
   "cell_type": "markdown",
   "id": "85a8a096-ae78-4e9d-9dad-622e52af61a9",
   "metadata": {},
   "source": [
    "## Test 15 χ2-test for a population variance\n"
   ]
  },
  {
   "cell_type": "code",
   "execution_count": 20,
   "id": "90551c80-52eb-4efc-95f5-4037eac02923",
   "metadata": {},
   "outputs": [
    {
     "name": "stdout",
     "output_type": "stream",
     "text": [
      "Chi-square Statistic: 1.583333333333333\n",
      "Critical Value: 9.487729036781154\n",
      "Reject null hypothesis: False\n"
     ]
    }
   ],
   "source": [
    "import numpy as np\n",
    "from scipy.stats import chi2\n",
    "\n",
    "def chi_square_test_population_variance(sample, sigma_squared, alpha):\n",
    "    n = len(sample)\n",
    "    sample_variance = np.var(sample, ddof=1)  # Sample variance\n",
    "    \n",
    "    # Calculate the test statistic\n",
    "    chi2_statistic = (n - 1) * sample_variance / sigma_squared\n",
    "    \n",
    "    # Calculate the critical value\n",
    "    critical_value = chi2.ppf(1 - alpha, df=n - 1)\n",
    "    \n",
    "    # Determine if the null hypothesis should be rejected\n",
    "    reject_null = chi2_statistic > critical_value\n",
    "    \n",
    "    return chi2_statistic, critical_value, reject_null\n",
    "\n",
    "# Example usage:\n",
    "sample = [3.2, 4.5, 2.8, 3.9, 4.1]\n",
    "sigma_squared = 1.2\n",
    "alpha = 0.05\n",
    "chi2_statistic, critical_value, reject_null = chi_square_test_population_variance(sample, sigma_squared, alpha)\n",
    "\n",
    "print(\"Chi-square Statistic:\", chi2_statistic)\n",
    "print(\"Critical Value:\", critical_value)\n",
    "print(\"Reject null hypothesis:\", reject_null)\n"
   ]
  },
  {
   "cell_type": "markdown",
   "id": "0b511bea-593b-47d5-a399-4d706506a537",
   "metadata": {},
   "source": [
    "## Test 16 F-test for two population variances (variance ratio test)"
   ]
  },
  {
   "cell_type": "code",
   "execution_count": 21,
   "id": "4eb09a95-d233-4cf3-8060-ad1c1486e093",
   "metadata": {},
   "outputs": [
    {
     "name": "stdout",
     "output_type": "stream",
     "text": [
      "F Statistic: 0.32967032967032966\n",
      "P-value: 0.5816333668955771\n"
     ]
    }
   ],
   "source": [
    "from scipy import stats\n",
    "\n",
    "# Example datasets\n",
    "sample1 = [25, 30, 35, 40, 45]\n",
    "sample2 = [20, 28, 32, 38, 42]\n",
    "\n",
    "# Perform F-test\n",
    "f_statistic, p_value = stats.f_oneway(sample1, sample2)\n",
    "\n",
    "# Print results\n",
    "print(\"F Statistic:\", f_statistic)\n",
    "print(\"P-value:\", p_value)\n"
   ]
  },
  {
   "cell_type": "markdown",
   "id": "7967ca2e-b5c9-4f94-ac51-ddf438946f50",
   "metadata": {},
   "source": [
    "## Test 17 F-test for two population variances (with correlated observations)"
   ]
  },
  {
   "cell_type": "code",
   "execution_count": null,
   "id": "39e34bb6-1a3e-4d50-a70a-368a2bbf1efd",
   "metadata": {},
   "outputs": [],
   "source": []
  },
  {
   "cell_type": "code",
   "execution_count": null,
   "id": "5a256649-8cd2-4c18-a6e2-8a6e046c9abd",
   "metadata": {},
   "outputs": [],
   "source": []
  },
  {
   "cell_type": "code",
   "execution_count": null,
   "id": "b2ee76f0-ff55-4225-b40f-213f7831de99",
   "metadata": {},
   "outputs": [],
   "source": []
  },
  {
   "cell_type": "code",
   "execution_count": null,
   "id": "71bb3b99-316a-4582-a0f7-24ddd5b90030",
   "metadata": {},
   "outputs": [],
   "source": []
  },
  {
   "cell_type": "code",
   "execution_count": null,
   "id": "9693885b-1be5-4810-bbf1-446a0c41e45c",
   "metadata": {},
   "outputs": [],
   "source": []
  },
  {
   "cell_type": "code",
   "execution_count": null,
   "id": "9fd2c4bd-2956-42e9-8517-5fbad309a957",
   "metadata": {},
   "outputs": [],
   "source": []
  },
  {
   "cell_type": "code",
   "execution_count": null,
   "id": "9e8a1d53-970b-4c94-ae97-afc3469409c0",
   "metadata": {},
   "outputs": [],
   "source": []
  },
  {
   "cell_type": "code",
   "execution_count": null,
   "id": "17d5f91f-1857-405d-ab31-09737fc6e6b7",
   "metadata": {},
   "outputs": [],
   "source": []
  },
  {
   "cell_type": "code",
   "execution_count": null,
   "id": "714bb1c1-38b9-4373-8f58-92597d8a956b",
   "metadata": {},
   "outputs": [],
   "source": []
  },
  {
   "cell_type": "code",
   "execution_count": null,
   "id": "cce106d7-3f38-4110-9f84-c0b9e1081184",
   "metadata": {},
   "outputs": [],
   "source": []
  },
  {
   "cell_type": "code",
   "execution_count": null,
   "id": "5db40556-adef-45b9-b995-ed6f43b8a1d4",
   "metadata": {},
   "outputs": [],
   "source": []
  },
  {
   "cell_type": "code",
   "execution_count": null,
   "id": "191a1a81-55e6-4c2d-ab9a-41375b064238",
   "metadata": {},
   "outputs": [],
   "source": []
  },
  {
   "cell_type": "code",
   "execution_count": null,
   "id": "8ccbdbfc-6140-4dfc-8887-85dd0441d750",
   "metadata": {},
   "outputs": [],
   "source": []
  },
  {
   "cell_type": "code",
   "execution_count": null,
   "id": "9e90ff37-5311-48fe-a8b8-8450576a7ffa",
   "metadata": {},
   "outputs": [],
   "source": []
  },
  {
   "cell_type": "code",
   "execution_count": null,
   "id": "afb90f64-b5a9-4e86-82e7-3616a9e4e084",
   "metadata": {},
   "outputs": [],
   "source": []
  },
  {
   "cell_type": "code",
   "execution_count": null,
   "id": "71fb3baa-0f66-42d6-ad80-0c7e2fc41def",
   "metadata": {},
   "outputs": [],
   "source": []
  },
  {
   "cell_type": "code",
   "execution_count": null,
   "id": "abfeabf1-6ad3-431f-80e1-65b3245ac81d",
   "metadata": {},
   "outputs": [],
   "source": []
  },
  {
   "cell_type": "code",
   "execution_count": null,
   "id": "a550ae9d-25d9-4694-8f7f-eaac9325c607",
   "metadata": {},
   "outputs": [],
   "source": []
  },
  {
   "cell_type": "code",
   "execution_count": null,
   "id": "bdb2cd45-936e-43ba-98ee-83c94b1577b3",
   "metadata": {},
   "outputs": [],
   "source": []
  },
  {
   "cell_type": "code",
   "execution_count": null,
   "id": "60d4d4d8-e972-460e-adb5-26a796c03818",
   "metadata": {},
   "outputs": [],
   "source": []
  },
  {
   "cell_type": "code",
   "execution_count": null,
   "id": "7eb780af-feb1-4e44-9176-ed19bc159a37",
   "metadata": {},
   "outputs": [],
   "source": []
  },
  {
   "cell_type": "code",
   "execution_count": null,
   "id": "ab649022-e441-40f1-a7af-0846d03dff74",
   "metadata": {},
   "outputs": [],
   "source": []
  },
  {
   "cell_type": "code",
   "execution_count": null,
   "id": "c4f6abe0-fa0d-467c-9527-a263bbbc7ba6",
   "metadata": {},
   "outputs": [],
   "source": []
  },
  {
   "cell_type": "code",
   "execution_count": null,
   "id": "8e85fd40-bf87-4f2c-81de-a461354d9dcf",
   "metadata": {},
   "outputs": [],
   "source": []
  },
  {
   "cell_type": "code",
   "execution_count": null,
   "id": "e98ac221-e51f-4bf7-b27b-4edf80b63daf",
   "metadata": {},
   "outputs": [],
   "source": []
  }
 ],
 "metadata": {
  "kernelspec": {
   "display_name": "Python 3 (ipykernel)",
   "language": "python",
   "name": "python3"
  },
  "language_info": {
   "codemirror_mode": {
    "name": "ipython",
    "version": 3
   },
   "file_extension": ".py",
   "mimetype": "text/x-python",
   "name": "python",
   "nbconvert_exporter": "python",
   "pygments_lexer": "ipython3",
   "version": "3.12.1"
  }
 },
 "nbformat": 4,
 "nbformat_minor": 5
}
